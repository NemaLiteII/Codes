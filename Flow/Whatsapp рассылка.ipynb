{
 "cells": [
  {
   "cell_type": "markdown",
   "id": "9d36a6b1",
   "metadata": {},
   "source": [
    "## Отправка"
   ]
  },
  {
   "cell_type": "code",
   "execution_count": 2,
   "id": "d0cc60f9",
   "metadata": {},
   "outputs": [
    {
     "data": {
      "application/vnd.jupyter.widget-view+json": {
       "model_id": "cc3e0c7e7d8f4e1da4d7bb95125fdfe5",
       "version_major": 2,
       "version_minor": 0
      },
      "text/plain": [
       "0it [00:00, ?it/s]"
      ]
     },
     "metadata": {},
     "output_type": "display_data"
    },
    {
     "name": "stdout",
     "output_type": "stream",
     "text": [
      "Отправлено 2 сообщений\n",
      "Время затрачено 34 сек\n"
     ]
    }
   ],
   "source": [
    "import pandas as pd\n",
    "import numpy as np\n",
    "import seaborn as sns\n",
    "import matplotlib.pyplot as plt\n",
    "\n",
    "import webbrowser\n",
    "from selenium import webdriver\n",
    "import urllib\n",
    "from selenium.webdriver.common.by import By\n",
    "from selenium.webdriver.common.keys import Keys\n",
    "from selenium.webdriver.support import expected_conditions as EC\n",
    "from selenium.webdriver.support.wait import WebDriverWait\n",
    "from selenium.webdriver.chrome.options import Options\n",
    "from tqdm import notebook\n",
    "\n",
    "def element_presence(by, xpath, time):\n",
    "    element_present = EC.presence_of_element_located((By.XPATH, xpath))\n",
    "    WebDriverWait(driver, time).until(element_present)\n",
    "    \n",
    "def send_message(url):\n",
    "    driver.get(url)\n",
    "    time.sleep(2)\n",
    "    element_presence(By.XPATH, '//*[@id=\"main\"]/footer/div[1]/div/span[2]/div/div[2]/div[1]/div/div/p', 40)\n",
    "    msg_box = driver.find_element(By.XPATH, '//*[@id=\"main\"]/footer/div[1]/div/span[2]/div/div[2]/div[1]/div/div/p')\n",
    "    msg_box.send_keys('\\n')\n",
    "    time.sleep(1)\n",
    "    \n",
    "def prepare_msg(dataframe, name_col, phone_col):\n",
    "    file = dataframe[[name_col, phone_col]]\n",
    "    base_msg = \"\"\"\n",
    "*Здравствуйте {}*!\n",
    "Проверка связи!\n",
    "Спасибо!\n",
    "\"\"\"\n",
    "    base_url = 'https://web.whatsapp.com/send?phone={}&text={}'\n",
    "    for i,j in notebook.tqdm(file.iterrows()):\n",
    "        phone_no = j[phone_col]\n",
    "        Name = j[name_col].title()\n",
    "        msg = urllib.parse.quote(base_msg.format(Name))\n",
    "        url_msg = base_url.format(phone_no, msg)\n",
    "        send_message(url_msg)\n",
    "        \n",
    "chrome_options = Options()\n",
    "chrome_options.add_argument(\"--user-data-dir-Session\")\n",
    "chrome_options.add_argument(\"--profile-directory=Default\")\n",
    "\n",
    "import pandas as pd\n",
    "dummy2=pd.DataFrame({'Name': ['Глеб', 'Марк'], 'Phone': ['+79045174867', '+79817703936']})\n",
    "dummy2\n",
    "\n",
    "import time\n",
    "time_start = time.time()\n",
    "driver = webdriver.Chrome(options=chrome_options)\n",
    "prepare_msg(dummy2, 'Name', 'Phone')\n",
    "time_end = time.time()\n",
    "\n",
    "print(f\"Отправлено {len(dummy2)} сообщений\")\n",
    "print(f\"Время затрачено {round(time_end - time_start)} сек\")"
   ]
  },
  {
   "cell_type": "markdown",
   "id": "eeb7e9a6",
   "metadata": {},
   "source": [
    "## Анализ"
   ]
  },
  {
   "cell_type": "code",
   "execution_count": 9,
   "id": "c0f5a143",
   "metadata": {},
   "outputs": [
    {
     "name": "stdout",
     "output_type": "stream",
     "text": [
      "[Errno 13] Permission denied: '123/Message'\n"
     ]
    }
   ],
   "source": [
    "from html.parser import HTMLParser\n",
    "import os, io, re\n",
    "\n",
    "class MyHTMLParserHP(HTMLParser):\n",
    "    def handle_data(self, data):\n",
    "        if not re.match(r'^\\s*$', data):\n",
    "            result.append(data)\n",
    "\n",
    "result_dict = {'Phone': [], 'Feedback': []}  \n",
    "            \n",
    "for filename in os.listdir('123'):\n",
    "    try:\n",
    "        result = []\n",
    "        parser = MyHTMLParserHP()\n",
    "        with io.open('123/'+filename, encoding = 'utf-8') as file:\n",
    "            for line in file:\n",
    "                parser.feed(line)\n",
    "                \n",
    "        time_index = []\n",
    "        for index, line in enumerate(result):\n",
    "            if (re.match(\"^([0-1]?[0-9]|2[0-3]):[0-5][0-9]$\", line)):\n",
    "                time_index.append(index)\n",
    "        time_index\n",
    "\n",
    "        history = []\n",
    "        for index in time_index:\n",
    "            if result[index+1].startswith('\\t'):\n",
    "                history.append(result[index+1].replace('\\t', '').replace('\\n', ''))\n",
    "                \n",
    "        if 'Проверка связи!' in result:\n",
    "            result_dict['Phone'].append(filename[:filename.index('-')])\n",
    "            result_dict['Feedback'].append(history)\n",
    "    except Exception as e:\n",
    "        print(e)\n",
    "        pass"
   ]
  },
  {
   "cell_type": "code",
   "execution_count": 11,
   "id": "0e7895a5",
   "metadata": {},
   "outputs": [
    {
     "data": {
      "text/html": [
       "<div>\n",
       "<style scoped>\n",
       "    .dataframe tbody tr th:only-of-type {\n",
       "        vertical-align: middle;\n",
       "    }\n",
       "\n",
       "    .dataframe tbody tr th {\n",
       "        vertical-align: top;\n",
       "    }\n",
       "\n",
       "    .dataframe thead th {\n",
       "        text-align: right;\n",
       "    }\n",
       "</style>\n",
       "<table border=\"1\" class=\"dataframe\">\n",
       "  <thead>\n",
       "    <tr style=\"text-align: right;\">\n",
       "      <th></th>\n",
       "      <th>Phone</th>\n",
       "      <th>Feedback</th>\n",
       "    </tr>\n",
       "  </thead>\n",
       "  <tbody>\n",
       "    <tr>\n",
       "      <th>0</th>\n",
       "      <td>79045174867</td>\n",
       "      <td>[Проверка связи!]</td>\n",
       "    </tr>\n",
       "    <tr>\n",
       "      <th>1</th>\n",
       "      <td>79818785259</td>\n",
       "      <td>[Привет, будешь играть?, Test failed successfu...</td>\n",
       "    </tr>\n",
       "  </tbody>\n",
       "</table>\n",
       "</div>"
      ],
      "text/plain": [
       "         Phone                                           Feedback\n",
       "0  79045174867                                  [Проверка связи!]\n",
       "1  79818785259  [Привет, будешь играть?, Test failed successfu..."
      ]
     },
     "execution_count": 11,
     "metadata": {},
     "output_type": "execute_result"
    }
   ],
   "source": [
    "import pandas as pd\n",
    "pd.DataFrame(result_dict)"
   ]
  }
 ],
 "metadata": {
  "kernelspec": {
   "display_name": "Python 3 (ipykernel)",
   "language": "python",
   "name": "python3"
  },
  "language_info": {
   "codemirror_mode": {
    "name": "ipython",
    "version": 3
   },
   "file_extension": ".py",
   "mimetype": "text/x-python",
   "name": "python",
   "nbconvert_exporter": "python",
   "pygments_lexer": "ipython3",
   "version": "3.9.10"
  }
 },
 "nbformat": 4,
 "nbformat_minor": 5
}
