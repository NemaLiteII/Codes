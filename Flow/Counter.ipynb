{
 "cells": [
  {
   "cell_type": "code",
   "execution_count": 10,
   "metadata": {},
   "outputs": [
    {
     "name": "stdout",
     "output_type": "stream",
     "text": [
      "Your browser has been opened to visit:\n",
      "\n",
      "    https://accounts.google.com/o/oauth2/auth?client_id=447909346377-de10dblc2ocggjqak276nselomb6s6uf.apps.googleusercontent.com&redirect_uri=http%3A%2F%2Flocalhost%3A8080%2F&scope=https%3A%2F%2Fwww.googleapis.com%2Fauth%2Fdrive&access_type=offline&response_type=code\n",
      "\n",
      "Authentication successful.\n"
     ]
    }
   ],
   "source": [
    "from pydrive.auth import GoogleAuth\n",
    "from pydrive.drive import GoogleDrive\n",
    "import pandas as pd\n",
    "import time\n",
    "from tqdm import tqdm\n",
    "\n",
    "gauth = GoogleAuth()\n",
    "gauth.LocalWebserverAuth()\n",
    "drive = GoogleDrive(gauth)\n",
    "file_list = drive.ListFile({'q': \"title contains '_игрок_' and title contains '.html'\"}).GetList()"
   ]
  },
  {
   "cell_type": "code",
   "execution_count": 14,
   "metadata": {},
   "outputs": [
    {
     "name": "stderr",
     "output_type": "stream",
     "text": [
      " 11%|████████▍                                                                      | 535/5038 [00:26<03:19, 22.60it/s]"
     ]
    },
    {
     "name": "stdout",
     "output_type": "stream",
     "text": [
      "_игрок_Аватар 7 .html\n"
     ]
    },
    {
     "name": "stderr",
     "output_type": "stream",
     "text": [
      "\r",
      " 11%|████████▍                                                                      | 538/5038 [00:29<23:35,  3.18it/s]"
     ]
    },
    {
     "name": "stdout",
     "output_type": "stream",
     "text": [
      "_игрок_Аватар 5.html\n",
      "_игрок_Аватар 1.html\n"
     ]
    },
    {
     "name": "stderr",
     "output_type": "stream",
     "text": [
      "\r",
      " 11%|████████▍                                                                      | 540/5038 [00:31<32:15,  2.32it/s]"
     ]
    },
    {
     "name": "stdout",
     "output_type": "stream",
     "text": [
      "_игрок_Аватар 8.html\n"
     ]
    },
    {
     "name": "stderr",
     "output_type": "stream",
     "text": [
      " 49%|██████████████████████████████████████▍                                       | 2485/5038 [34:08<38:21,  1.11it/s]"
     ]
    },
    {
     "name": "stdout",
     "output_type": "stream",
     "text": [
      "_игрок_Аватар 6 .html\n"
     ]
    },
    {
     "name": "stderr",
     "output_type": "stream",
     "text": [
      "\r",
      " 49%|██████████████████████████████████████▍                                       | 2486/5038 [34:09<36:02,  1.18it/s]"
     ]
    },
    {
     "name": "stdout",
     "output_type": "stream",
     "text": [
      "_игрок_Аватар 8 .html\n"
     ]
    },
    {
     "name": "stderr",
     "output_type": "stream",
     "text": [
      "\r",
      " 49%|██████████████████████████████████████▌                                       | 2487/5038 [34:10<34:10,  1.24it/s]"
     ]
    },
    {
     "name": "stdout",
     "output_type": "stream",
     "text": [
      "_игрок_Аватар 5.html\n"
     ]
    },
    {
     "name": "stderr",
     "output_type": "stream",
     "text": [
      "\r",
      " 49%|██████████████████████████████████████▌                                       | 2488/5038 [34:11<35:34,  1.19it/s]"
     ]
    },
    {
     "name": "stdout",
     "output_type": "stream",
     "text": [
      "_игрок_Аватар 3.html\n"
     ]
    },
    {
     "name": "stderr",
     "output_type": "stream",
     "text": [
      " 49%|██████████████████████████████████████▌                                       | 2492/5038 [34:14<35:19,  1.20it/s]"
     ]
    },
    {
     "name": "stdout",
     "output_type": "stream",
     "text": [
      "_игрок_Аватар 7.html\n"
     ]
    },
    {
     "name": "stderr",
     "output_type": "stream",
     "text": [
      "\r",
      " 49%|██████████████████████████████████████▌                                       | 2493/5038 [34:15<33:40,  1.26it/s]"
     ]
    },
    {
     "name": "stdout",
     "output_type": "stream",
     "text": [
      "_игрок_Аватар 1.html\n"
     ]
    },
    {
     "name": "stderr",
     "output_type": "stream",
     "text": [
      "\r",
      " 50%|██████████████████████████████████████▌                                       | 2494/5038 [34:15<31:26,  1.35it/s]"
     ]
    },
    {
     "name": "stdout",
     "output_type": "stream",
     "text": [
      "_игрок_Аватар 4 .html\n"
     ]
    },
    {
     "name": "stderr",
     "output_type": "stream",
     "text": [
      " 50%|██████████████████████████████████████▋                                       | 2497/5038 [34:18<33:50,  1.25it/s]"
     ]
    },
    {
     "name": "stdout",
     "output_type": "stream",
     "text": [
      "_игрок_Аватар 2.html\n"
     ]
    },
    {
     "name": "stderr",
     "output_type": "stream",
     "text": [
      " 63%|████████████████████████████████████████████████▊                             | 3154/5038 [45:17<32:14,  1.03s/it]"
     ]
    },
    {
     "name": "stdout",
     "output_type": "stream",
     "text": [
      "_игрок_Аватар 5 .html\n"
     ]
    },
    {
     "name": "stderr",
     "output_type": "stream",
     "text": [
      "\r",
      " 63%|████████████████████████████████████████████████▊                             | 3155/5038 [45:17<29:40,  1.06it/s]"
     ]
    },
    {
     "name": "stdout",
     "output_type": "stream",
     "text": [
      "_игрок_Аватар 7 .html\n"
     ]
    },
    {
     "name": "stderr",
     "output_type": "stream",
     "text": [
      "100%|████████████████████████████████████████████████████████████████████████████| 5038/5038 [1:17:55<00:00,  1.08it/s]\n"
     ]
    },
    {
     "name": "stdout",
     "output_type": "stream",
     "text": [
      "4675.662708759308\n"
     ]
    }
   ],
   "source": [
    "middle_time = time.time()\n",
    "list_comp = []\n",
    "for file in tqdm(file_list[:]):\n",
    "    try:\n",
    "        file.GetContentFile('Файлик')\n",
    "        table = pd.read_html('Файлик')[0]\n",
    "        table['Уровень'] = 1\n",
    "        list_comp.append(table)\n",
    "    except:\n",
    "        print(file['title'])\n",
    "end_time = time.time() - middle_time\n",
    "print(end_time)\n",
    "\n",
    "df = pd.concat(list_comp).groupby(['Транзакция']).sum()"
   ]
  },
  {
   "cell_type": "code",
   "execution_count": 17,
   "metadata": {},
   "outputs": [
    {
     "name": "stdout",
     "output_type": "stream",
     "text": [
      "сколько участников игр: 5038\n",
      "сколько раз открыли компанию: 1957\n",
      "сколько раз закрыли: 790\n",
      "сколько раз наняли сотрудников: 7894\n",
      "сколько всего сделок совершено: 6122\n",
      "сколько раз взяли инвестиции: 1353\n",
      "сколько раз продали компанию: 773\n"
     ]
    }
   ],
   "source": [
    "msg=\"\"\"сколько участников игр: {}\n",
    "сколько раз открыли компанию: {}\n",
    "сколько раз закрыли: {}\n",
    "сколько раз наняли сотрудников: {}\n",
    "сколько всего сделок совершено: {}\n",
    "сколько раз взяли инвестиции: {}\n",
    "сколько раз продали компанию: {}\"\"\"\n",
    "a = len(file_list)\n",
    "b = df.loc['создать компанию'][0]\n",
    "c = df.loc['закрыть компанию'][0]\n",
    "d = df.loc['нанять сотрудника'][0]\n",
    "e = df.loc['заключить сделки'][0]\n",
    "f = df.loc['инвестировать'][0]\n",
    "g = df.loc['продать компанию'][0]\n",
    "print(msg.format(a, b, c, d, e, f, g))"
   ]
  },
  {
   "cell_type": "code",
   "execution_count": 18,
   "metadata": {},
   "outputs": [
    {
     "data": {
      "text/html": [
       "<div>\n",
       "<style scoped>\n",
       "    .dataframe tbody tr th:only-of-type {\n",
       "        vertical-align: middle;\n",
       "    }\n",
       "\n",
       "    .dataframe tbody tr th {\n",
       "        vertical-align: top;\n",
       "    }\n",
       "\n",
       "    .dataframe thead th {\n",
       "        text-align: right;\n",
       "    }\n",
       "</style>\n",
       "<table border=\"1\" class=\"dataframe\">\n",
       "  <thead>\n",
       "    <tr style=\"text-align: right;\">\n",
       "      <th></th>\n",
       "      <th>Уровень</th>\n",
       "    </tr>\n",
       "    <tr>\n",
       "      <th>Транзакция</th>\n",
       "      <th></th>\n",
       "    </tr>\n",
       "  </thead>\n",
       "  <tbody>\n",
       "    <tr>\n",
       "      <th>автоматическое увольнение после окончания уровня</th>\n",
       "      <td>3087</td>\n",
       "    </tr>\n",
       "    <tr>\n",
       "      <th>арендовать инструмент</th>\n",
       "      <td>186</td>\n",
       "    </tr>\n",
       "    <tr>\n",
       "      <th>взять у скаута инструмент в аренду</th>\n",
       "      <td>1417</td>\n",
       "    </tr>\n",
       "    <tr>\n",
       "      <th>заключить сделки</th>\n",
       "      <td>6122</td>\n",
       "    </tr>\n",
       "    <tr>\n",
       "      <th>закрыть компанию</th>\n",
       "      <td>790</td>\n",
       "    </tr>\n",
       "    <tr>\n",
       "      <th>зафиксировать инженерам распределение приза от корпорации X</th>\n",
       "      <td>846</td>\n",
       "    </tr>\n",
       "    <tr>\n",
       "      <th>изменить доли в компании</th>\n",
       "      <td>613</td>\n",
       "    </tr>\n",
       "    <tr>\n",
       "      <th>инвестировать</th>\n",
       "      <td>1353</td>\n",
       "    </tr>\n",
       "    <tr>\n",
       "      <th>компенсация</th>\n",
       "      <td>2</td>\n",
       "    </tr>\n",
       "    <tr>\n",
       "      <th>купить продукт B2C</th>\n",
       "      <td>1135</td>\n",
       "    </tr>\n",
       "    <tr>\n",
       "      <th>найм в качестве директора компании</th>\n",
       "      <td>341</td>\n",
       "    </tr>\n",
       "    <tr>\n",
       "      <th>нанять сотрудника</th>\n",
       "      <td>7894</td>\n",
       "    </tr>\n",
       "    <tr>\n",
       "      <th>начислить зарплату директору</th>\n",
       "      <td>54</td>\n",
       "    </tr>\n",
       "    <tr>\n",
       "      <th>перевести талеры на счет компании</th>\n",
       "      <td>1315</td>\n",
       "    </tr>\n",
       "    <tr>\n",
       "      <th>подарить талеры</th>\n",
       "      <td>1016</td>\n",
       "    </tr>\n",
       "    <tr>\n",
       "      <th>покупка готовой продукции</th>\n",
       "      <td>750</td>\n",
       "    </tr>\n",
       "    <tr>\n",
       "      <th>покупка информации у компании</th>\n",
       "      <td>90</td>\n",
       "    </tr>\n",
       "    <tr>\n",
       "      <th>покупка новости у компании</th>\n",
       "      <td>206</td>\n",
       "    </tr>\n",
       "    <tr>\n",
       "      <th>пополнение счета компании со спец счета SPV</th>\n",
       "      <td>2</td>\n",
       "    </tr>\n",
       "    <tr>\n",
       "      <th>пополнение счета компании со спец счета Фонда Z</th>\n",
       "      <td>10</td>\n",
       "    </tr>\n",
       "    <tr>\n",
       "      <th>поступления от корпорации</th>\n",
       "      <td>9</td>\n",
       "    </tr>\n",
       "    <tr>\n",
       "      <th>премия директору от корпорации</th>\n",
       "      <td>1</td>\n",
       "    </tr>\n",
       "    <tr>\n",
       "      <th>премия инвестору за продажу компании</th>\n",
       "      <td>121</td>\n",
       "    </tr>\n",
       "    <tr>\n",
       "      <th>продать компанию</th>\n",
       "      <td>773</td>\n",
       "    </tr>\n",
       "    <tr>\n",
       "      <th>распределение гранта</th>\n",
       "      <td>13</td>\n",
       "    </tr>\n",
       "    <tr>\n",
       "      <th>распределить грант в своем кластере</th>\n",
       "      <td>377</td>\n",
       "    </tr>\n",
       "    <tr>\n",
       "      <th>расчет с собственниками после продажи компании SPV</th>\n",
       "      <td>119</td>\n",
       "    </tr>\n",
       "    <tr>\n",
       "      <th>расчет с собственниками после продажи компании фонду Z</th>\n",
       "      <td>124</td>\n",
       "    </tr>\n",
       "    <tr>\n",
       "      <th>расчет с собственниками при закрытии компании</th>\n",
       "      <td>660</td>\n",
       "    </tr>\n",
       "    <tr>\n",
       "      <th>смена роли</th>\n",
       "      <td>2335</td>\n",
       "    </tr>\n",
       "    <tr>\n",
       "      <th>сменить CEO</th>\n",
       "      <td>77</td>\n",
       "    </tr>\n",
       "    <tr>\n",
       "      <th>создать компанию</th>\n",
       "      <td>1957</td>\n",
       "    </tr>\n",
       "    <tr>\n",
       "      <th>создать новый контракт</th>\n",
       "      <td>4149</td>\n",
       "    </tr>\n",
       "    <tr>\n",
       "      <th>уволить сотрудника</th>\n",
       "      <td>219</td>\n",
       "    </tr>\n",
       "    <tr>\n",
       "      <th>уволиться</th>\n",
       "      <td>93</td>\n",
       "    </tr>\n",
       "    <tr>\n",
       "      <th>увольнение должности наемного директора</th>\n",
       "      <td>3</td>\n",
       "    </tr>\n",
       "    <tr>\n",
       "      <th>штраф</th>\n",
       "      <td>16</td>\n",
       "    </tr>\n",
       "  </tbody>\n",
       "</table>\n",
       "</div>"
      ],
      "text/plain": [
       "                                                    Уровень\n",
       "Транзакция                                                 \n",
       "автоматическое увольнение после окончания уровня       3087\n",
       "арендовать инструмент                                   186\n",
       "взять у скаута инструмент в аренду                     1417\n",
       "заключить сделки                                       6122\n",
       "закрыть компанию                                        790\n",
       "зафиксировать инженерам распределение приза от ...      846\n",
       "изменить доли в компании                                613\n",
       "инвестировать                                          1353\n",
       "компенсация                                               2\n",
       "купить продукт B2C                                     1135\n",
       "найм в качестве директора компании                      341\n",
       "нанять сотрудника                                      7894\n",
       "начислить зарплату директору                             54\n",
       "перевести талеры на счет компании                      1315\n",
       "подарить талеры                                        1016\n",
       "покупка готовой продукции                               750\n",
       "покупка информации у компании                            90\n",
       "покупка новости у компании                              206\n",
       "пополнение счета компании со спец счета SPV               2\n",
       "пополнение счета компании со спец счета Фонда Z          10\n",
       "поступления от корпорации                                 9\n",
       "премия директору от корпорации                            1\n",
       "премия инвестору за продажу компании                    121\n",
       "продать компанию                                        773\n",
       "распределение гранта                                     13\n",
       "распределить грант в своем кластере                     377\n",
       "расчет с собственниками после продажи компании SPV      119\n",
       "расчет с собственниками после продажи компании ...      124\n",
       "расчет с собственниками при закрытии компании           660\n",
       "смена роли                                             2335\n",
       "сменить CEO                                              77\n",
       "создать компанию                                       1957\n",
       "создать новый контракт                                 4149\n",
       "уволить сотрудника                                      219\n",
       "уволиться                                                93\n",
       "увольнение должности наемного директора                   3\n",
       "штраф                                                    16"
      ]
     },
     "execution_count": 18,
     "metadata": {},
     "output_type": "execute_result"
    }
   ],
   "source": [
    "df"
   ]
  }
 ],
 "metadata": {
  "kernelspec": {
   "display_name": "Python 3 (ipykernel)",
   "language": "python",
   "name": "python3"
  },
  "language_info": {
   "codemirror_mode": {
    "name": "ipython",
    "version": 3
   },
   "file_extension": ".py",
   "mimetype": "text/x-python",
   "name": "python",
   "nbconvert_exporter": "python",
   "pygments_lexer": "ipython3",
   "version": "3.9.10"
  }
 },
 "nbformat": 4,
 "nbformat_minor": 2
}
