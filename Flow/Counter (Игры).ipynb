{
 "cells": [
  {
   "cell_type": "code",
   "execution_count": 1,
   "id": "9567c0a0",
   "metadata": {},
   "outputs": [
    {
     "name": "stdout",
     "output_type": "stream",
     "text": [
      "Your browser has been opened to visit:\n",
      "\n",
      "    https://accounts.google.com/o/oauth2/auth?client_id=447909346377-de10dblc2ocggjqak276nselomb6s6uf.apps.googleusercontent.com&redirect_uri=http%3A%2F%2Flocalhost%3A8080%2F&scope=https%3A%2F%2Fwww.googleapis.com%2Fauth%2Fdrive&access_type=offline&response_type=code\n",
      "\n",
      "Authentication successful.\n"
     ]
    }
   ],
   "source": [
    "from pydrive.auth import GoogleAuth\n",
    "from pydrive.drive import GoogleDrive\n",
    "gauth = GoogleAuth()\n",
    "gauth.LocalWebserverAuth()\n",
    "drive = GoogleDrive(gauth)"
   ]
  },
  {
   "cell_type": "code",
   "execution_count": 10,
   "id": "89c276b1",
   "metadata": {},
   "outputs": [
    {
     "name": "stdout",
     "output_type": "stream",
     "text": [
      "31.05.18 Сколково level_final.html 69\n",
      "13.06.18 Санкт-Петербург level_5.html 28\n",
      "18.06.18 Новосибирск level_final.html 64\n",
      "20.06.18 Томск level_final.html 39\n",
      "27.06.18 Троицк level_final.html 41\n",
      "21.07.18 Владивосток level_final.html 105\n",
      "08.09.18 Киров level_final.html 87\n",
      "21.09.18 Саранск level_final.html 45\n",
      "02.10.18 Москва level_final.html 79\n",
      "06.10.18 Ульяновск level_final.html 83\n",
      "09.10.18 Томск level_final.html 150\n",
      "27.10.18 Казань level_final.html 55\n",
      "14.11.18 Ростов level_final.html 68\n",
      "30.11.18 Сколково level_final.html 43\n",
      "08.12.18 Тюмень level_final.html 45\n",
      "26.01.19 Москва level_final.html 125\n",
      "28.02.19 ТЮМГУ level_final.html 57\n",
      "02.03.19 Новосибирск level_final.html 70\n",
      "05.03.19 Томск level_final.html 99\n",
      "28.03.19 Тюмень level_final.html 87\n",
      "07.04.19 Новосибирск level_final.html 65\n",
      "14.04.19 Саранск level_final.html 53\n",
      "16.04.19 Томск level_final.html 87\n",
      "14.05.19 Томск level_final.html 16\n",
      "20.05.19 Тюмень level_final.html 22\n",
      "24.05.19 Москва level_final.html 44\n",
      "30.05.19 Новосибирск level_4.html 57\n",
      "21.06.19 Казань level_final.html 37\n",
      "26.06.19 Алма-Аты level_final.html 51\n",
      "02.07.19 Москва level_5.html 69\n",
      "14.07.19 Сколково level_5.html 119\n",
      "31.08.19 worldskills level_5.html 74\n",
      "19.10.19 Новосибирск level_5.html 77\n",
      "14.11.19 Тюмень level_5.html 108\n",
      "15.11.19 Тюмень level_5.html 57\n",
      "01.12.19 Санкт-Петербург level_5.html 134\n",
      "08.12.19 Саранск level_5.html 60\n",
      "14.12.19 Томск level_5.html 125\n",
      "15.12.19 Троицк level_5.html 21\n",
      "18.12.19 Екатеринбург level_5.html 93\n",
      "24.12.19 Белгород level_5.html 96\n",
      "24.01.20 Бекасово level_5.html 69\n",
      "18.02.20 Москва level_5.html 88\n",
      "26.02.20 Сколково level_5.html 65\n",
      "29.02.20 Нальчик level_5.html 93\n",
      "01.03.20 Нальчик level_5.html 235\n",
      "10.03.20 Новосибирск level_5.html 77\n",
      "12.03.20 Томск level_5.html 156\n",
      "25.09.20 УРФУ level_5.html 30\n",
      "28.09.20 ДГТУ level_5.html 61\n",
      "01.10.20 Тюмень level_5.html 44\n",
      "17.10.20 Нижний Новгород level_5.html 31\n",
      "18.12.20 Турнир трех наук level_5.html 43\n",
      "09.03.21 Владивосток level_5.html 51\n",
      "25.03.21 АЭМ level_5.html 182\n",
      "30.03.21 Владивосток level_5.html 82\n",
      "03.03.21 АЛГОРИТМ level_5.html 34\n",
      "23.04.21 ТехноСпарк level_5.html 60\n",
      "21.05.21 Санкт-Петербург level_5.html 77\n",
      "14.06.21 Екатеринбург level_5.html 52\n",
      "15.07.21 Архипелаг level_5.html 17\n",
      "11.09.21 Томск level_5.html 60\n",
      "20.10.21 Новосибирск level_5.html 63\n",
      "22.10.21 Тюмень level_5.html 65\n",
      "24.10.21 Нальчик level_5.html 32\n",
      "26.10.21 Волгоград level_4.html 92\n",
      "28.10.21 Ханты-Мансийск level_4.html 45\n",
      "28.10.21 Краснодар level_4.html 61\n",
      "26.11.21 Омск level_4.html 28\n",
      "30.11.21 Кемерово level_4.html 62\n",
      "03.12.21 Тюмень level_4.html 31\n",
      "12.12.21 Троицк_Байтик level_4.html 14\n",
      "21.12.21 Киров level_4.html 14\n",
      "25.12.21 РУТ МИИТ level_4.html 125\n",
      "11.05.22 УРФУ level_4.html 44\n",
      "16.05.22 Троицк level_4.html 40\n",
      "21.05.22 ТГУ level_4.html 88\n",
      "21.05.22 Софрино level_4.html 76\n",
      "31.05.22 ТюмГУ level_4.html 79\n",
      "16.06.22 ОмГТУ level_4.html 36\n"
     ]
    }
   ],
   "source": [
    "import pandas as pd\n",
    "df = pd.read_excel('Список файлов БД.xlsx', header=None, index_col=False)\n",
    "final_dict = {}\n",
    "for filename in df[2].to_list()[:]:\n",
    "    #try:\n",
    "    file = drive.ListFile({'q': f\"title = '{filename}'\"}).GetList()[0]\n",
    "    file.GetContentFile(file['title'])\n",
    "    for table in pd.read_html(file['title'], encoding='utf-8'):\n",
    "        if all([col in table.columns for col in ['Имя', 'Роль', 'Баланс']]):\n",
    "            final_dict[filename] = len(table)\n",
    "    print(filename, final_dict[filename])\n",
    "\n",
    "dff = pd.DataFrame(final_dict.items(), columns=['Name', 'Number'])\n",
    "dff.insert(0, '№', range(1, len(dff)+1))\n",
    "dff.insert(1, 'Дата', dff['Name'].apply(lambda x: x.split(' ')[0]))\n",
    "dff.insert(2, 'Город', dff['Name'].apply(lambda x: x.split(' ')[1]))\n",
    "dff.rename(columns={'Number': 'Участников'}, inplace=True)\n",
    "dff.drop('Name', axis=1, inplace=True)\n",
    "dff.to_excel('Таблица игр.xlsx', index=False)"
   ]
  },
  {
   "cell_type": "code",
   "execution_count": null,
   "id": "602e1910",
   "metadata": {},
   "outputs": [],
   "source": []
  }
 ],
 "metadata": {
  "kernelspec": {
   "display_name": "Python 3",
   "language": "python",
   "name": "python3"
  },
  "language_info": {
   "codemirror_mode": {
    "name": "ipython",
    "version": 3
   },
   "file_extension": ".py",
   "mimetype": "text/x-python",
   "name": "python",
   "nbconvert_exporter": "python",
   "pygments_lexer": "ipython3",
   "version": "3.8.3rc1"
  }
 },
 "nbformat": 4,
 "nbformat_minor": 5
}
