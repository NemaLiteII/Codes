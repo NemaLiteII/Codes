{
 "cells": [
  {
   "cell_type": "markdown",
   "metadata": {
    "id": "YGUEVdB6mOvB"
   },
   "source": [
    "# Анкета 2.1\n",
    "### Библиотеки"
   ]
  },
  {
   "cell_type": "code",
   "execution_count": null,
   "metadata": {
    "id": "FtAtpRaTmOvE"
   },
   "outputs": [],
   "source": [
    "from docxtpl import DocxTemplate, InlineImage\n",
    "from docx.enum.dml import MSO_THEME_COLOR_INDEX\n",
    "from docx.shared import Cm\n",
    "import numpy as np\n",
    "import pandas as pd \n",
    "from math import pi\n",
    "from pydrive.auth import GoogleAuth\n",
    "from pydrive.drive import GoogleDrive\n",
    "import requests\n",
    "import re\n",
    "from string import ascii_letters\n",
    "import ast\n",
    "import docx2txt\n",
    "import json\n",
    "import docx\n",
    "import os\n",
    "import time\n",
    "import datetime\n",
    "import PySimpleGUI as sg\n",
    "from string import punctuation\n",
    "from pymystem3 import Mystem\n",
    "from stop_words import get_stop_words\n",
    "from matplotlib.patches import Circle, RegularPolygon\n",
    "from matplotlib.path import Path\n",
    "from matplotlib.projections.polar import PolarAxes\n",
    "from matplotlib.projections import register_projection\n",
    "from matplotlib.spines import Spine\n",
    "from matplotlib.transforms import Affine2D\n",
    "from matplotlib.ticker import FixedLocator\n",
    "import matplotlib.pyplot as plt\n",
    "from tqdm import tqdm"
   ]
  },
  {
   "cell_type": "markdown",
   "metadata": {
    "id": "duvt213tmOvG"
   },
   "source": [
    "### Диск"
   ]
  },
  {
   "cell_type": "code",
   "execution_count": null,
   "metadata": {
    "id": "ClO6fHdrmOvH"
   },
   "outputs": [],
   "source": [
    "gauth = GoogleAuth()\n",
    "# Try to load saved client credentials\n",
    "gauth.LoadCredentialsFile(\"mycreds.txt\")\n",
    "if gauth.credentials is None:\n",
    "    # Authenticate if they're not there\n",
    "    gauth.LocalWebserverAuth()\n",
    "elif gauth.access_token_expired:\n",
    "    # Refresh them if expired\n",
    "    gauth.Refresh()\n",
    "else:\n",
    "    # Initialize the saved creds\n",
    "    gauth.Authorize()\n",
    "# Save the current credentials to a file\n",
    "gauth.SaveCredentialsFile(\"mycreds.txt\")\n",
    "drive = GoogleDrive(gauth)"
   ]
  },
  {
   "cell_type": "markdown",
   "metadata": {
    "id": "rgREuVXzmOvH"
   },
   "source": [
    "### Засекаем время загрузки данных"
   ]
  },
  {
   "cell_type": "code",
   "execution_count": null,
   "metadata": {
    "id": "oszQdEBfmOvI"
   },
   "outputs": [],
   "source": [
    "start_time = time.time()"
   ]
  },
  {
   "cell_type": "markdown",
   "metadata": {
    "id": "X9W9sor7mOvI"
   },
   "source": [
    "### Все изображения на диске"
   ]
  },
  {
   "cell_type": "code",
   "execution_count": null,
   "metadata": {
    "id": "QMylLPYCmOvI",
    "outputId": "1a7b0640-30b2-4d03-d98f-5298cde6bbc2"
   },
   "outputs": [
    {
     "data": {
      "text/html": [
       "<div>\n",
       "<style scoped>\n",
       "    .dataframe tbody tr th:only-of-type {\n",
       "        vertical-align: middle;\n",
       "    }\n",
       "\n",
       "    .dataframe tbody tr th {\n",
       "        vertical-align: top;\n",
       "    }\n",
       "\n",
       "    .dataframe thead th {\n",
       "        text-align: right;\n",
       "    }\n",
       "</style>\n",
       "<table border=\"1\" class=\"dataframe\">\n",
       "  <thead>\n",
       "    <tr style=\"text-align: right;\">\n",
       "      <th></th>\n",
       "      <th>name</th>\n",
       "      <th>id</th>\n",
       "    </tr>\n",
       "  </thead>\n",
       "  <tbody>\n",
       "    <tr>\n",
       "      <th>0</th>\n",
       "      <td>Screenshot_2_tilda11057738.jpg</td>\n",
       "      <td>19ZXW5oa5t6l2eSHPuL3DKRBgAyqg6IjS</td>\n",
       "    </tr>\n",
       "    <tr>\n",
       "      <th>1</th>\n",
       "      <td>1648740337462_tilda11027987.jpg</td>\n",
       "      <td>1OXk0YiHY8Il7wuO7VeKFebl2xq3w2GCb</td>\n",
       "    </tr>\n",
       "    <tr>\n",
       "      <th>2</th>\n",
       "      <td>6W5A9558.jpg</td>\n",
       "      <td>1ZDRlL6DEdL_HitWgZLfryBDjl1BHAOS7</td>\n",
       "    </tr>\n",
       "    <tr>\n",
       "      <th>3</th>\n",
       "      <td>6W5A9506.jpg</td>\n",
       "      <td>1l3QEe1ApBalqm7j3j2xMHno7nwM7b3Gp</td>\n",
       "    </tr>\n",
       "    <tr>\n",
       "      <th>4</th>\n",
       "      <td>6W5A9502.jpg</td>\n",
       "      <td>1jjNUP7TtTshGC-oyzgdIkX8ZBoROUi0j</td>\n",
       "    </tr>\n",
       "  </tbody>\n",
       "</table>\n",
       "</div>"
      ],
      "text/plain": [
       "                              name                                 id\n",
       "0   Screenshot_2_tilda11057738.jpg  19ZXW5oa5t6l2eSHPuL3DKRBgAyqg6IjS\n",
       "1  1648740337462_tilda11027987.jpg  1OXk0YiHY8Il7wuO7VeKFebl2xq3w2GCb\n",
       "2                     6W5A9558.jpg  1ZDRlL6DEdL_HitWgZLfryBDjl1BHAOS7\n",
       "3                     6W5A9506.jpg  1l3QEe1ApBalqm7j3j2xMHno7nwM7b3Gp\n",
       "4                     6W5A9502.jpg  1jjNUP7TtTshGC-oyzgdIkX8ZBoROUi0j"
      ]
     },
     "execution_count": 4,
     "metadata": {},
     "output_type": "execute_result"
    }
   ],
   "source": [
    "file_list = drive.ListFile({'q': \"mimeType='image/jpeg' or mimeType='image/png'\"}).GetList()\n",
    "files = {'name': [], 'id': []}\n",
    "for file in file_list:\n",
    "    files['name'].append(file['title'])\n",
    "    files['id'].append(file['id'])\n",
    "images = pd.DataFrame(files)\n",
    "images.head()"
   ]
  },
  {
   "cell_type": "markdown",
   "metadata": {
    "id": "hylhloQ3mOvJ"
   },
   "source": [
    "### Поиск ссылки в html коде"
   ]
  },
  {
   "cell_type": "code",
   "execution_count": null,
   "metadata": {
    "id": "TL5jdrkomOvJ"
   },
   "outputs": [],
   "source": [
    "def get_name(text):\n",
    "    return re.findall(r'>(.+jpeg|.+.jpg|.+.png)', text, re.I)[0]"
   ]
  },
  {
   "cell_type": "markdown",
   "metadata": {
    "id": "re64StqSmOvK"
   },
   "source": [
    "### Вставка картинки"
   ]
  },
  {
   "cell_type": "code",
   "execution_count": null,
   "metadata": {
    "id": "KwiXRc1PmOvK"
   },
   "outputs": [],
   "source": [
    "def screen_update(key, email, image_name, context, doc, size):\n",
    "    if len(max(df[df['ma_email'] == email][key])) > 1:\n",
    "        html = requests.get(max(df[df['ma_email'] == email][key])).text\n",
    "        filename = get_name(html)\n",
    "        file_id = images[images['name'] == filename]['id'].values[0]\n",
    "        image = drive.CreateFile({'id': file_id})\n",
    "        image.GetContentFile(image_name)\n",
    "        return InlineImage(doc, image_name, Cm(size))\n",
    "        #context[key] = InlineImage(doc, image_name, Cm(size))\n",
    "    else:\n",
    "        return 'пропуск'"
   ]
  },
  {
   "cell_type": "markdown",
   "metadata": {
    "id": "2_JQgjXjmOvK"
   },
   "source": [
    "### ID папки с таблицами и видеовопросами"
   ]
  },
  {
   "cell_type": "code",
   "execution_count": null,
   "metadata": {
    "id": "w7OJpRtcmOvK"
   },
   "outputs": [],
   "source": [
    "tables_root_id = drive.ListFile({'q': \"title = 'Таблицы -> Анкеты'\"}).GetList()[0]['id']\n",
    "videoquest_folder_names = ['Вопрос от Катерины Ходуновой', 'Вопрос от Олега Лысака']\n",
    "videoquest_root_ids = [drive.ListFile({'q': \"title = '{}'\".format(name)}).GetList()[0]['id'] for name in videoquest_folder_names]"
   ]
  },
  {
   "cell_type": "markdown",
   "metadata": {
    "id": "XHuzztwumOvL"
   },
   "source": [
    "### Все таблицы с данными"
   ]
  },
  {
   "cell_type": "code",
   "execution_count": null,
   "metadata": {
    "id": "WGsZ6449mOvL",
    "outputId": "70a1fe62-fa69-4e1f-a6c0-f32e15887008"
   },
   "outputs": [
    {
     "name": "stdout",
     "output_type": "stream",
     "text": [
      "Шаблон отчета v.5.0a.docx\n",
      "Шаблон отчета v.5.0.docx\n",
      "photo_default.png\n"
     ]
    },
    {
     "data": {
      "text/plain": [
       "['Cases.xlsx',\n",
       " 'Game.xlsx',\n",
       " 'Nice2MeetYou.xlsx',\n",
       " 'Knowledge.xlsx',\n",
       " 'Теория технологического предпринимательства - тест.xlsx',\n",
       " 'QuestionsFromStudents.xlsx',\n",
       " 'TestOpinion.xlsx',\n",
       " 'Вопрос+от+Катерины+Ходуновой.xlsx',\n",
       " 'Вопрос+от+Олега+Лысака.xlsx']"
      ]
     },
     "execution_count": 8,
     "metadata": {},
     "output_type": "execute_result"
    }
   ],
   "source": [
    "tables = []\n",
    "file_list = drive.ListFile({'q': \" '%s' in parents and trashed = FALSE\" % tables_root_id}).GetList()\n",
    "for file in file_list:\n",
    "    if file['title'] == 'Шаблон анкеты v.2.1.docx':\n",
    "        print(file['title'])\n",
    "        file.GetContentFile(file['title'])\n",
    "        template_a = file['title']\n",
    "    if file['title'] == 'Шаблон анкеты v.2.1a.docx':\n",
    "        print(file['title'])\n",
    "        file.GetContentFile(file['title'])\n",
    "        template = file['title']\n",
    "    if file['mimeType'] == 'image/png':\n",
    "        print(file['title'])\n",
    "        file.GetContentFile(file['title'])\n",
    "        photo_default = file['title']\n",
    "    if file['mimeType'] == 'application/vnd.google-apps.spreadsheet':\n",
    "        file.GetContentFile(file['title'] + '.xlsx', mimetype = 'application/vnd.openxmlformats-officedocument.spreadsheetml.sheet')\n",
    "        tables.append(file['title'] + '.xlsx')\n",
    "    if file['mimeType'] == 'application/vnd.openxmlformats-officedocument.spreadsheetml.sheet':\n",
    "        #if file['title'] == 'Тестирование. 21 вопрос.xlsx':\n",
    "          #  file.GetContentFile(file['title'])\n",
    "            #tables.append(file['title'])\n",
    "        if file['title'] == 'Теория технологического предпринимательства - тест.xlsx':\n",
    "            file.GetContentFile(file['title'])\n",
    "            tables.append(file['title'])\n",
    "    if file['mimeType'] == 'text/csv':\n",
    "        file.GetContentFile(file['title'])\n",
    "        tables.append(file['title'])\n",
    "for file_id in videoquest_root_ids:\n",
    "    file = drive.ListFile({'q': \" '%s' in parents and trashed = FALSE\" % file_id}).GetList()[0]\n",
    "    file.GetContentFile(file['title'])\n",
    "    tables.append(file['title'])\n",
    "tables"
   ]
  },
  {
   "cell_type": "markdown",
   "metadata": {
    "id": "3Nd1fKwTmOvL"
   },
   "source": [
    "### Таблицы к DataFrame"
   ]
  },
  {
   "cell_type": "code",
   "execution_count": null,
   "metadata": {
    "id": "g9ZoMqbemOvM"
   },
   "outputs": [],
   "source": [
    "dfs = []\n",
    "for table in tables:\n",
    "    df = pd.read_excel(table, dtype = str, keep_default_na = False)\n",
    "    if 'Потрачено времени' in df.columns:\n",
    "        df = df.iloc[1:]\n",
    "        df['Процент правильных ответов (%)'] = df['Процент правильных ответов (%)'].apply(float).round().apply(int).apply(str)\n",
    "        df.rename(columns = {'Потрачено времени': 'time', 'Процент правильных ответов (%)': 'score_test'}, inplace = True)\n",
    "    df.columns = [col.replace(' ', '').replace('/', '').replace('.', '').lower() for col in df.columns]\n",
    "    dfs.append(df)"
   ]
  },
  {
   "cell_type": "markdown",
   "metadata": {
    "id": "bN4lOavamOvM"
   },
   "source": [
    "### Получение имен, городов"
   ]
  },
  {
   "cell_type": "code",
   "execution_count": null,
   "metadata": {
    "id": "P-LIhiULmOvM",
    "outputId": "33ba77f6-a3a6-4164-dead-7dfbc9231f9a"
   },
   "outputs": [
    {
     "data": {
      "text/plain": [
       "array(['bgdshv.a@gmail.com', 'elashkina.anna@gmail.com',\n",
       "       'fedoseev.is@enrubattery.ru', ..., 'polly.2003t@gmail.com',\n",
       "       'alina.kkurbatova@yandex.ru', 'danil.bragin.2020@gmail.com'],\n",
       "      dtype=object)"
      ]
     },
     "execution_count": 10,
     "metadata": {},
     "output_type": "execute_result"
    }
   ],
   "source": [
    "index_table = [tab for tab in tables if tab.startswith('Nice')][0]\n",
    "df0 = pd.read_excel(index_table, dtype = str, keep_default_na = False)\n",
    "df0['gorodprojivaniya'].replace('/', ';', regex=True, inplace=True)\n",
    "df0['ma_email'] = df0['ma_email'].str.lower()\n",
    "emails = df0['ma_email'][:].unique()\n",
    "emails"
   ]
  },
  {
   "cell_type": "markdown",
   "metadata": {
    "id": "9gt9goUmmOvM"
   },
   "source": [
    "### Создание папок"
   ]
  },
  {
   "cell_type": "code",
   "execution_count": null,
   "metadata": {
    "id": "fDhh7BtWmOvN"
   },
   "outputs": [],
   "source": [
    "try:\n",
    "    os.mkdir('Вывод')\n",
    "except:\n",
    "    pass\n",
    "for ref in df0['referer'].unique():\n",
    "    try:\n",
    "        os.mkdir('Вывод/' + re.findall('ship-(.+)/test', ref)[0])\n",
    "    except:\n",
    "        pass"
   ]
  },
  {
   "cell_type": "markdown",
   "metadata": {
    "id": "NlizN9XdmOvN"
   },
   "source": [
    "### ID папки вывода"
   ]
  },
  {
   "cell_type": "code",
   "execution_count": null,
   "metadata": {
    "id": "u3WDPPoqmOvN"
   },
   "outputs": [],
   "source": [
    "folder_root_id = drive.ListFile({'q': \"title = 'Поиск по кадровой базе данных'\"}).GetList()[0]['id']"
   ]
  },
  {
   "cell_type": "markdown",
   "metadata": {
    "id": "MYujP1BfmOvN"
   },
   "source": [
    "### Существующие папки на диске"
   ]
  },
  {
   "cell_type": "code",
   "execution_count": null,
   "metadata": {
    "id": "F1OHsltHmOvN",
    "outputId": "d827a7e3-028f-4738-b7e8-afd3829087d2"
   },
   "outputs": [
    {
     "data": {
      "text/plain": [
       "{'vyatgu(2)': '1qyXHj4rOVaJO9iRBC0skliMcvv1Yrhml',\n",
       " 'vgtu': '1tFCCehFEkEAqogxXEdkYgjfrdEmeMq5i',\n",
       " 'test2022': '1JO5S6PnGa6F9RYLVnMV4oEIqG0wjYUEN',\n",
       " 'tyumgu': '14d6F-Y9fvmik4k6mPcG5BQ_XAUIFzWT_',\n",
       " 'tusur': '1gQPo1Pk2s3iVYDLNHt7ElzChvkv39Ps-',\n",
       " 'urfu': '1VnvP5paZ7ZJafSOEZ3xDRXpa-7nUHASf',\n",
       " 'rut': '1THw6Jthyeign82vUqPZzdF6YTDokEvqb',\n",
       " 'vyatgu': '15kTG-EgYjWOx4ojbgQwlIZFHUTIdS0_8',\n",
       " 'test1': '13l-4GiP-qybRiQpJc4INov36qoRKPa7Q',\n",
       " 'tgu': '1nlGMSg83F1KCHZ5WiGpA1qiMAefnd4AN',\n",
       " 'mfti': '1z25WyFW_i20KQLetk7l2EdGC-5WA95kZ',\n",
       " 'mfti2021': '16ZARQzkvqTQY2qT5JJQurC7YbBF4wYRy',\n",
       " 'omgtu-2021': '1MTjaF-_IEHY0bGmh6V4xiIE7uU2b9hfS',\n",
       " 'startup': '19xMsXa_he8vqHSd6ki6AXZUXSjoG1xWj',\n",
       " 'Первичный балл 2021-11-22 МФТИ.docx': '1la_zyT1sEfNqFu1HJDO3s6QDgGQMmEKh',\n",
       " 'Первичный балл 2021-11-22 Омск.docx': '1hrvZV7YKOTFlwY6IAFGI4g2PlVA2PEjj',\n",
       " 'Первичный балл Нальчик.docx': '1J9Nk3U6_SWDv_0VRU0Kv9lwFr9oo3z7R',\n",
       " 'Первичный балл НГТУ.docx': '17xqp3_YFDfRIwPnE1mPUcyVj0gnhncQu',\n",
       " 'ngtu': '1RCiIzxzd5szPURTHWhp9tUm_IUIbD9pR',\n",
       " 'tomsk21': '1ejNaYn9-E5wHk5lyJ9ntwF4QxqrDPU7k',\n",
       " 'ar21': '10ZntizHfHdUPc2mmIGm6U9wvAU1NFVMn',\n",
       " 'nl': '100XzGEEWWzogqz5-7nPCLLdJOhx9JwjG',\n",
       " 'ektb': '1cvoguHapN-PBzn0olDRFHbk6cjEVcknu',\n",
       " 'fiop': '1Y7D_dAPx-HMLUJp5WvNak7AM0hR98c_6',\n",
       " 'tmn-2021': '178YfACtjCwoFcSOQFYaVBpuRhj3De4Hq',\n",
       " 'rnad': '1i3C71RnRKjfkJZCSmaoYL083sDp_zJZH',\n",
       " 'tomsk': '1mHPTyDKmRic7xgI4e21YpWmZBxXwq82X',\n",
       " 'technospark': '1_F-m-c3R-jQm86hBVVO93xZ1HB5JzGwR',\n",
       " 'nanort': '1mJj_3KHyCZMuXoEOLaVvO9Y2cfvZWmI-',\n",
       " '2035': '1h9LxtQaqojVbv55Ym3mFnZfIHMqwzGQL',\n",
       " 'rd': '1KFXmdC9fOGJygg8veZjjwVcuwhZORlic',\n",
       " 'nn': '1rSKwT5K6P-dADkT7oaNiuBbpTKn3kbNH',\n",
       " 'ekb': '1euZPDN_QaV55MxWARBj1wmCB5PGE516X',\n",
       " 'kemerovo': '1sXx1DzUjnFdGYrhMULWkcaQT8pexgwrg',\n",
       " 'tmn': '1pY_dZxZvr5SKpZTONNJ8pw6HA9QF9hXD'}"
      ]
     },
     "execution_count": 13,
     "metadata": {},
     "output_type": "execute_result"
    }
   ],
   "source": [
    "folder_names = {}\n",
    "folder_files = drive.ListFile({'q': \" '%s' in parents\" % folder_root_id}).GetList()\n",
    "for file in folder_files:\n",
    "    folder_names[file['title']] = file['id']\n",
    "folder_names"
   ]
  },
  {
   "cell_type": "markdown",
   "metadata": {
    "id": "7JxQOgR0mOvN"
   },
   "source": [
    "### Создание папок на диске"
   ]
  },
  {
   "cell_type": "code",
   "execution_count": null,
   "metadata": {
    "id": "3AsacUXjmOvN"
   },
   "outputs": [],
   "source": [
    "for ref in df0['referer'].unique():\n",
    "    try:\n",
    "        folder_name = re.findall('ship-(.+)/test', ref)[0]\n",
    "        if folder_name not in folder_names.keys():\n",
    "            print(folder_name)\n",
    "            file = drive.CreateFile({'title': folder_name, \n",
    "                \"parents\": [{\"id\": folder_root_id}], \n",
    "                \"mimeType\": \"application/vnd.google-apps.folder\"})\n",
    "            file.Upload()\n",
    "            folder_names[file['title']] = file['id']\n",
    "    except:\n",
    "        pass"
   ]
  },
  {
   "cell_type": "markdown",
   "metadata": {
    "id": "l9e_H6nZmOvO"
   },
   "source": [
    "## Игры ПКПК"
   ]
  },
  {
   "cell_type": "markdown",
   "metadata": {
    "id": "kqzaySSYmOvO"
   },
   "source": [
    "### Все досье на диске"
   ]
  },
  {
   "cell_type": "code",
   "execution_count": null,
   "metadata": {
    "id": "3YAGfb7UmOvO",
    "outputId": "8151092e-aa9f-4728-f23f-511272919cf6"
   },
   "outputs": [
    {
     "data": {
      "text/html": [
       "<div>\n",
       "<style scoped>\n",
       "    .dataframe tbody tr th:only-of-type {\n",
       "        vertical-align: middle;\n",
       "    }\n",
       "\n",
       "    .dataframe tbody tr th {\n",
       "        vertical-align: top;\n",
       "    }\n",
       "\n",
       "    .dataframe thead th {\n",
       "        text-align: right;\n",
       "    }\n",
       "</style>\n",
       "<table border=\"1\" class=\"dataframe\">\n",
       "  <thead>\n",
       "    <tr style=\"text-align: right;\">\n",
       "      <th></th>\n",
       "      <th>name</th>\n",
       "      <th>id</th>\n",
       "      <th>parent_id</th>\n",
       "    </tr>\n",
       "  </thead>\n",
       "  <tbody>\n",
       "    <tr>\n",
       "      <th>0</th>\n",
       "      <td>_игрок_Шахвардян Ева.html</td>\n",
       "      <td>1ySqnM652mqw-KNXOtwXmpSrdZF8ICKAj</td>\n",
       "      <td>1hYWnZbcKj4StihWMStY6uSUqxYqvg5_m</td>\n",
       "    </tr>\n",
       "    <tr>\n",
       "      <th>1</th>\n",
       "      <td>_игрок_Шевченко Галина.html</td>\n",
       "      <td>1zK75L2H_iONqoOAklKPjSgqIOsoQkpdc</td>\n",
       "      <td>1hYWnZbcKj4StihWMStY6uSUqxYqvg5_m</td>\n",
       "    </tr>\n",
       "    <tr>\n",
       "      <th>2</th>\n",
       "      <td>_игрок_Яковлев Дмитрий.html</td>\n",
       "      <td>12DZj_-0GUaBjYBdGnlALNZQclqYm36CV</td>\n",
       "      <td>1hYWnZbcKj4StihWMStY6uSUqxYqvg5_m</td>\n",
       "    </tr>\n",
       "    <tr>\n",
       "      <th>3</th>\n",
       "      <td>_игрок_Шандыба Никита.html</td>\n",
       "      <td>1qyB9Y9ysfNLrwlPctv1B91E5D0q9OqQL</td>\n",
       "      <td>1hYWnZbcKj4StihWMStY6uSUqxYqvg5_m</td>\n",
       "    </tr>\n",
       "    <tr>\n",
       "      <th>4</th>\n",
       "      <td>_игрок_Шипулин Александр.html</td>\n",
       "      <td>1nnvOppDIVcA_wb8zB-7eIqao7xSO0ENC</td>\n",
       "      <td>1hYWnZbcKj4StihWMStY6uSUqxYqvg5_m</td>\n",
       "    </tr>\n",
       "  </tbody>\n",
       "</table>\n",
       "</div>"
      ],
      "text/plain": [
       "                            name                                 id  \\\n",
       "0      _игрок_Шахвардян Ева.html  1ySqnM652mqw-KNXOtwXmpSrdZF8ICKAj   \n",
       "1    _игрок_Шевченко Галина.html  1zK75L2H_iONqoOAklKPjSgqIOsoQkpdc   \n",
       "2    _игрок_Яковлев Дмитрий.html  12DZj_-0GUaBjYBdGnlALNZQclqYm36CV   \n",
       "3     _игрок_Шандыба Никита.html  1qyB9Y9ysfNLrwlPctv1B91E5D0q9OqQL   \n",
       "4  _игрок_Шипулин Александр.html  1nnvOppDIVcA_wb8zB-7eIqao7xSO0ENC   \n",
       "\n",
       "                           parent_id  \n",
       "0  1hYWnZbcKj4StihWMStY6uSUqxYqvg5_m  \n",
       "1  1hYWnZbcKj4StihWMStY6uSUqxYqvg5_m  \n",
       "2  1hYWnZbcKj4StihWMStY6uSUqxYqvg5_m  \n",
       "3  1hYWnZbcKj4StihWMStY6uSUqxYqvg5_m  \n",
       "4  1hYWnZbcKj4StihWMStY6uSUqxYqvg5_m  "
      ]
     },
     "execution_count": 15,
     "metadata": {},
     "output_type": "execute_result"
    }
   ],
   "source": [
    "file_list = drive.ListFile({'q': \"title contains '_игрок_' and title contains '.html'\"}).GetList()\n",
    "files = {'name': [], 'id': [], 'parent_id': []}\n",
    "for file in file_list:\n",
    "    files['name'].append(file['title'])\n",
    "    files['id'].append(file['id'])\n",
    "    files['parent_id'].append(file['parents'][0]['id'])\n",
    "docs = pd.DataFrame(files, dtype = str)\n",
    "docs.head()"
   ]
  },
  {
   "cell_type": "markdown",
   "metadata": {
    "id": "MEUw_n5nmOvO"
   },
   "source": [
    "### ID корневой папки"
   ]
  },
  {
   "cell_type": "code",
   "execution_count": null,
   "metadata": {
    "id": "qGhG73q-mOvO"
   },
   "outputs": [],
   "source": [
    "#root_id = drive.ListFile({'q': \"title = 'OBSERVER'\"}).GetList()[0]['id']"
   ]
  },
  {
   "cell_type": "markdown",
   "metadata": {
    "id": "mRRVBP8mmOvO"
   },
   "source": [
    "### Й к одной кодировке"
   ]
  },
  {
   "cell_type": "code",
   "execution_count": null,
   "metadata": {
    "id": "vUMntfTtmOvO"
   },
   "outputs": [],
   "source": [
    "docs['name'] = [doc.replace('й', 'й') for doc in docs['name']]"
   ]
  },
  {
   "cell_type": "markdown",
   "metadata": {
    "id": "Mcpbsp5omOvO"
   },
   "source": [
    "### 0 < латинских символов < все ?"
   ]
  },
  {
   "cell_type": "code",
   "execution_count": null,
   "metadata": {
    "id": "5DgJUU_UmOvP"
   },
   "outputs": [],
   "source": [
    "def eng_char(nickname):\n",
    "    return (any(map(lambda c: c in ascii_letters, nickname)) and not all(map(lambda c: c in ascii_letters + ' ', nickname)))"
   ]
  },
  {
   "cell_type": "markdown",
   "metadata": {
    "id": "7b-HaYUVmOvP"
   },
   "source": [
    "### Замена латиницы на кириллицу"
   ]
  },
  {
   "cell_type": "code",
   "execution_count": null,
   "metadata": {
    "id": "7xJLV6JzmOvP"
   },
   "outputs": [],
   "source": [
    "def replace(str):\n",
    "    str = str.replace('e', '.+').replace('E', '.+').replace('T', '.+').replace('y', '.+').replace('o', '.+').replace('O', '.+').replace('p', '.+').replace('P', '.+').replace('M', '.+')\n",
    "    str = str.replace('a', '.+').replace('A', '.+').replace('K', '.+').replace('x', '.+').replace('X', '.+').replace('c', '.+').replace('C', '.+').replace('B', '.+').lower()\n",
    "    return(str)"
   ]
  },
  {
   "cell_type": "markdown",
   "metadata": {
    "id": "zm4pBICrmOvP"
   },
   "source": [
    "### Поиск папки с досье"
   ]
  },
  {
   "cell_type": "code",
   "execution_count": null,
   "metadata": {
    "id": "n3zZTleYmOvP"
   },
   "outputs": [],
   "source": [
    "def up_to_root(last, name, root_id):\n",
    "    result = []\n",
    "    if eng_char(last) or eng_char(name):\n",
    "        last, name = replace(last), replace(name)\n",
    "        doc_names = [doc for doc in docs['name'] if re.findall(last, doc.lower()) and re.findall(name, doc.lower())]\n",
    "    else:\n",
    "        doc_names = [doc for doc in docs['name'] if last.lower() in doc.lower() and name.lower() in doc.lower()]\n",
    "    doc_list = docs[docs['name'].isin(doc_names)]\n",
    "    for id in doc_list['id']:\n",
    "        id_now = doc_list[doc_list['id'] == id]['parent_id'].values[0]\n",
    "        file_now = drive.CreateFile({'id': id_now})\n",
    "        parent_id_now = file_now['parents'][0]['id']\n",
    "        while parent_id_now != root_id:\n",
    "            id_now = parent_id_now\n",
    "            file_now = drive.CreateFile({'id': id_now})\n",
    "            parent_id_now = file_now['parents'][0]['id']\n",
    "        result.append(file_now['title'])\n",
    "    return(result)"
   ]
  },
  {
   "cell_type": "markdown",
   "metadata": {
    "id": "vUY3LXbVmOvP"
   },
   "source": [
    "### Колонка почты"
   ]
  },
  {
   "cell_type": "code",
   "execution_count": null,
   "metadata": {
    "id": "jVDqQmBNmOvP"
   },
   "outputs": [],
   "source": [
    "def email_col(df):\n",
    "    return max([col for col in df.columns if 'mail' in col], key=len)"
   ]
  },
  {
   "cell_type": "markdown",
   "metadata": {
    "id": "4t_S-ENxmOvP"
   },
   "source": [
    "## Первичный балл"
   ]
  },
  {
   "cell_type": "markdown",
   "metadata": {
    "id": "qrT7FLTWmOvQ"
   },
   "source": [
    "### Словарь баллов"
   ]
  },
  {
   "cell_type": "code",
   "execution_count": null,
   "metadata": {
    "id": "wzKkEwBvmOvQ"
   },
   "outputs": [],
   "source": [
    "primary_keys_dict = {'chtoudivilomaterials': 5, 'chtorazozlilomaterials': 5,\n",
    "                                'vopros1': 1, 'vopros2': 1, 'vopros3': 1,\n",
    "                                'q1': 4, 'q2': 4,\n",
    "                                'question': 3}\n",
    "primary_cases_list = ['case1', 'case2', 'case3', 'case4']"
   ]
  },
  {
   "cell_type": "markdown",
   "metadata": {
    "id": "OLh2U_XnmOvQ"
   },
   "source": [
    "### Токенизация"
   ]
  },
  {
   "cell_type": "code",
   "execution_count": null,
   "metadata": {
    "id": "rzLcFWn8mOvQ"
   },
   "outputs": [],
   "source": [
    "# Lemmatizer and stopwords\n",
    "mystem = Mystem() \n",
    "stop_words = set(get_stop_words('russian'))\n",
    "\n",
    "# Preprocess function\n",
    "def preprocess_text(text):\n",
    "    tokens = mystem.lemmatize(re.sub(r'\\d+', '', text.lower()))\n",
    "    tokens = [token for token in tokens if token not in stop_words\n",
    "              and token != \" \"\n",
    "              and token.strip() not in punctuation]\n",
    "    \n",
    "    return list(dict.fromkeys(tokens))\n",
    "\n",
    "def case_counter(text, case):\n",
    "    tokens = preprocess_text(text)\n",
    "    \n",
    "    return sum(word in dict_cases[case] for word in tokens)"
   ]
  },
  {
   "cell_type": "markdown",
   "metadata": {
    "id": "Xhr33mkimOvQ"
   },
   "source": [
    "### Словари кейсов"
   ]
  },
  {
   "cell_type": "code",
   "execution_count": null,
   "metadata": {
    "id": "5lebooMumOvQ"
   },
   "outputs": [],
   "source": [
    "dict_cases = {\n",
    "    'case1': \"представлять предприниматель компания заниматься разработка высокоточный станок производство пробный партия необходимо купить специальный клей исследовать возможный предложение интернет понимать поставка организовывать германия необходимый количество стоять евро самостоятельно приходиться сделать следующий заплатить закупка доставка налог пошлина потратить рабочий оформление документ ждать счастие инженер отец жить близкий собираться навещать сын заказывать домой привозить багаж неделя действовать официальный воспользоваться удачный стечение обстоятельство написать цепочка рассуждение подробно аргументировать ответ\".split(' '),\n",
    "    'case2': \"представлять коммерческий директор компания разработка отопительный котел новый поколение месяц выпускать прототип показывать заказчик огромный строительный фирма оставаться довольный сделать следующий предложение готовый купить экземпляр пробный запускать достраивать здание проба продлиться оказываться годный сразу партия знать рынок конкурент каков особенность продукция данный момент участвовать испытание соглашаться отдавать начинать оформлять тз производство штука контрактный главный разработчик сообщать находить решение повышать производительность переделывать опытный образец конструкторский бюро проверять тестовый стенд число поменять короб помещаться отправлять устаревать конструкция инженер говорить срочно предлагать вернуть тестирование утверждать  % ,  вариант причина выбирать стоять вопрос обращаться прерывать середина путь технический характеристика продукт рискнуть потратить деньги подготовка документация улучшать точно скоро хороший примета складываться ситуация написать цепочка рассуждение подробно аргументировать ответ\".split(' '),\n",
    "    'case3': \"представлять молодой предприниматель открывать небольшой стартап партнерство одногруппник разрабатывать крутой приложение смартфон уверять взлетать пользоваться огромный спрос очередной этап разработка понимать свой деньги хватать нужный инвестиция нанимать дополнительный разработчик дизайнер тестировщик покупать лицензия облако место надежный сервер посчитать близкий находить млн рубль неделя поиск приходить кредитный предложение банк предлагать вполне сносный условие взять льготный годовой получать перевод завтра отвечать венчурный фонд mobileventures согласный проинвестировать транш входить доля ждать результат месяц возможный следующий раунд переговоры партнер встречаться двоюродный дядя рассказывать идея понравиться склон скопить приличный сумма заниматься поставка продукт питание из-за рубеж готовый вкладывать единственный поставлять держать курс дело принятие решение интересно следить строиться новый технология поступать источник вообще написать цепочка рассуждение подробно аргументировать ответ\".split(' '),\n",
    "    'case4': \"представлять начальник департамент инновация крупный корпорация подобный ibm усиливать инновационность деятельность собственно продукт достаточно большой бюджет поставлять амбициозный задача ряд проектный сессия вариант деньги выделять хватить начинать инвестировать самостоятельно фонд молодой стартапа нужный направление ожидать выходить улучшать повышать эффективность работа самый инвестиция предполагать получение доля компания должный возвращать последствие либо полностью выкупать процент успешность оценивать предлагать сотрудник сумма экономия приносить идея обязывать гарантировать рассмотрение поступать обоснованный ответ случай отказ принимать  –  таков корпоративный этика решение совещание совет директор\".split(' ')\n",
    "    }"
   ]
  },
  {
   "cell_type": "markdown",
   "metadata": {
    "id": "M6bbQwdbmOvR"
   },
   "source": [
    "### Словари новеллы"
   ]
  },
  {
   "cell_type": "code",
   "execution_count": null,
   "metadata": {
    "id": "YsCUaJ34mOvR"
   },
   "outputs": [],
   "source": [
    "q_scored = ['q23', 'q50', 'q34', 'q41', 'q48', 'q62', 'q70']\n",
    "q_translated = ['q10', 'q18', 'q33', 'q40', 'q45', 'q48', 'q59', 'q60', 'q61', 'q70']"
   ]
  },
  {
   "cell_type": "markdown",
   "metadata": {
    "id": "QteheyxSmOvR"
   },
   "source": [
    "### ID папки с новеллой"
   ]
  },
  {
   "cell_type": "code",
   "execution_count": null,
   "metadata": {
    "id": "LV_2lvDMmOvR"
   },
   "outputs": [],
   "source": [
    "novella_root_id = drive.ListFile({'q': \"title = 'НовеллаБД'\"}).GetList()[0]['id']"
   ]
  },
  {
   "cell_type": "markdown",
   "metadata": {
    "id": "zXFdfbuCmOvR"
   },
   "source": [
    "### Загружаем данные о новелле"
   ]
  },
  {
   "cell_type": "code",
   "execution_count": null,
   "metadata": {
    "id": "gD-Ki7GrmOvR",
    "outputId": "8109124a-399e-43dd-b206-06951a4daadc"
   },
   "outputs": [
    {
     "name": "stdout",
     "output_type": "stream",
     "text": [
      "Данные получены: https://10education.ru\n"
     ]
    }
   ],
   "source": [
    "file_list = drive.ListFile({'q': \" '%s' in parents and trashed = FALSE\" % novella_root_id}).GetList()\n",
    "for file in file_list:\n",
    "    if file['mimeType'] == 'application/vnd.openxmlformats-officedocument.spreadsheetml.sheet':\n",
    "        file.GetContentFile(file['title'])\n",
    "        rules = pd.read_excel(file['title'])\n",
    "\"\"\"\n",
    "    if file['mimeType'] == 'text/csv':\n",
    "        file.GetContentFile(file['title'])\n",
    "        data = pd.read_csv(file['title'], sep = \";\", encoding=\"windows-1251\", quotechar = '\"')\n",
    "\"\"\"\n",
    "url = 'https://10education.ru'\n",
    "r = requests.get(url)\n",
    "first_list = r.text.split('<br />')\n",
    "index_pass = first_list[0].index('/html')\n",
    "first_list[0] = first_list[0][index_pass+10:]\n",
    "second_list = [string.split(' - ') for string in first_list]\n",
    "df = pd.DataFrame(second_list)\n",
    "columns_names = {0: 'username', 1: 'email', 2: 'password', 3: 'history_new'}\n",
    "data = df.rename(columns=columns_names)\n",
    "data['ma_email'] = data['email']\n",
    "data = data[:-1]\n",
    "print('Данные получены: '+url)"
   ]
  },
  {
   "cell_type": "markdown",
   "metadata": {
    "id": "AFZmkeDImOvR"
   },
   "source": [
    "### Добавляем данные о новелле"
   ]
  },
  {
   "cell_type": "code",
   "execution_count": null,
   "metadata": {
    "id": "PHM3qcsYmOvS"
   },
   "outputs": [],
   "source": [
    "def novella_insert(email, data, rules):\n",
    "    if data[data['email'] == email]['history_new'].to_list() != []:\n",
    "        h_str = data[data['email'] == email]['history_new'].to_list()[0]\n",
    "        h_json = json.loads(h_str)\n",
    "        h_list = [rec for rec in h_json.values() if rec != {}]\n",
    "        if h_list == []:\n",
    "            return('-', '-', '-', '-', '-')\n",
    "        h_record = max(h_list, key=len)\n",
    "        novella_score = len(set(h_record.keys()).intersection(q_scored)) * 5\n",
    "        if 'q19' in h_record.keys() and h_record['q19'] == 'a1':\n",
    "            novella_score += 5\n",
    "        if 'q37' in h_record.keys() and h_record['q37'] == 'a2':\n",
    "            novella_score += 5\n",
    "        if \"Использовать старые данные\" in h_record.values():\n",
    "            novella_score += 5\n",
    "        novella_translated = []\n",
    "        novella_last = 'пропуск'\n",
    "        novella_pizza = np.array([0, 0, 0, 0, 0, 0, 0, 0])\n",
    "\n",
    "        for key, value in h_record.items():\n",
    "            if key in rules['Вопрос'].to_list() and value in rules.columns.to_list():\n",
    "                rules_row = (rules[rules['Вопрос'] == key])\n",
    "                value_new = rules_row[value+'_axial_value'].to_list()[0]\n",
    "                try:\n",
    "                    novella_pizza += np.array(ast.literal_eval(value_new))\n",
    "                except:\n",
    "                    pass\n",
    "                if key in q_translated:\n",
    "                    value_translated = rules_row[value+'_i'].to_list()[0]\n",
    "                    novella_translated.append(value_translated)\n",
    "        novella_translated = \" \".join(novella_translated)\n",
    "\n",
    "        try:\n",
    "            for pair in list(h_record.items())[::-1]:\n",
    "                if pair[0].startswith('q'):\n",
    "                    key_last, value_last = pair\n",
    "                    rules_row = (rules[rules['Вопрос'] == key_last])\n",
    "                    key_new = rules_row['Перевод'].to_list()[0]\n",
    "                    value_new = rules_row[value_last+'_i'].to_list()[0]\n",
    "                    novella_last = value_new\n",
    "                    break\n",
    "        except:\n",
    "            pass\n",
    "\n",
    "        if 'q21' in h_record.keys():\n",
    "            novella_branch = 'Корпоративная'\n",
    "        elif 'q49' in h_record.keys():\n",
    "            novella_branch = 'Торговая'\n",
    "        else:\n",
    "            novella_branch = '-'\n",
    "\n",
    "        return(novella_score, novella_translated, novella_last, novella_branch, novella_pizza)\n",
    "    else:\n",
    "        return('-', '-', '-', '-', '-')"
   ]
  },
  {
   "cell_type": "markdown",
   "metadata": {
    "id": "VUHGZlIjmOvS"
   },
   "source": [
    "### Пицца - граф"
   ]
  },
  {
   "cell_type": "code",
   "execution_count": null,
   "metadata": {
    "id": "ZIcjf_ommOvS"
   },
   "outputs": [],
   "source": [
    "def radar_factory(num_vars, frame='circle'):\n",
    "    \"\"\"Create a radar chart with `num_vars` axes.\n",
    "\n",
    "    This function creates a RadarAxes projection and registers it.\n",
    "\n",
    "    Parameters\n",
    "    ----------\n",
    "    num_vars : int\n",
    "        Number of variables for radar chart.\n",
    "    frame : {'circle' | 'polygon'}\n",
    "        Shape of frame surrounding axes.\n",
    "\n",
    "    \"\"\"\n",
    "    # calculate evenly-spaced axis angles\n",
    "    theta = np.linspace(0, 2*np.pi, num_vars, endpoint=False)\n",
    "\n",
    "    class RadarAxes(PolarAxes):\n",
    "\n",
    "        name = 'radar'\n",
    "\n",
    "        def __init__(self, *args, **kwargs):\n",
    "            super().__init__(*args, **kwargs)\n",
    "            # rotate plot such that the first axis is at the top\n",
    "            self.set_theta_zero_location('N')\n",
    "\n",
    "        def fill(self, *args, closed=True, **kwargs):\n",
    "            \"\"\"Override fill so that line is closed by default\"\"\"\n",
    "            return super().fill(closed=closed, *args, **kwargs)\n",
    "\n",
    "        def plot(self, *args, **kwargs):\n",
    "            \"\"\"Override plot so that line is closed by default\"\"\"\n",
    "            lines = super().plot(*args, **kwargs)\n",
    "            for line in lines:\n",
    "                self._close_line(line)\n",
    "\n",
    "        def _close_line(self, line):\n",
    "            x, y = line.get_data()\n",
    "            # FIXME: markers at x[0], y[0] get doubled-up\n",
    "            if x[0] != x[-1]:\n",
    "                x = np.concatenate((x, [x[0]]))\n",
    "                y = np.concatenate((y, [y[0]]))\n",
    "                line.set_data(x, y)\n",
    "\n",
    "        def set_varlabels(self, labels):\n",
    "            self.set_thetagrids(np.degrees(theta), labels)\n",
    "\n",
    "        def _gen_axes_patch(self):\n",
    "            # The Axes patch must be centered at (0.5, 0.5) and of radius 0.5\n",
    "            # in axes coordinates.\n",
    "            if frame == 'circle':\n",
    "                return Circle((0.5, 0.5), 0.5)\n",
    "            elif frame == 'polygon':\n",
    "                return Circle((0.5, 0.5), 0.5)\n",
    "            else:\n",
    "                raise ValueError(\"unknown value for 'frame': %s\" % frame)\n",
    "\n",
    "        def draw(self, renderer):\n",
    "            \"\"\" Draw. If frame is polygon, make gridlines polygon-shaped \"\"\"\n",
    "            if frame == 'polygon':\n",
    "                gridlines = self.yaxis.get_gridlines()\n",
    "                for gl in gridlines:\n",
    "                    gl.get_path()._interpolation_steps = num_vars\n",
    "            super().draw(renderer)\n",
    "\n",
    "        def _gen_axes_spines(self):\n",
    "            if frame == 'circle':\n",
    "                return super()._gen_axes_spines()\n",
    "            elif frame == 'polygon':\n",
    "                # spine_type must be 'left'/'right'/'top'/'bottom'/'circle'.\n",
    "                spine = Spine(axes=self,\n",
    "                              spine_type='circle',\n",
    "                              path=Path.unit_regular_polygon(num_vars))\n",
    "                # unit_regular_polygon gives a polygon of radius 1 centered at\n",
    "                # (0, 0) but we want a polygon of radius 0.5 centered at (0.5,\n",
    "                # 0.5) in axes coordinates.\n",
    "                spine.set_transform(Affine2D().rotate(pi/8).scale(0.5).translate(.5, .5)\n",
    "                                    + self.transAxes)\n",
    "\n",
    "                return {'polar': spine}\n",
    "            else:\n",
    "                raise ValueError(\"unknown value for 'frame': %s\" % frame)\n",
    "\n",
    "    register_projection(RadarAxes)\n",
    "    return theta"
   ]
  },
  {
   "cell_type": "markdown",
   "metadata": {
    "id": "FuxjNeY3mOvS"
   },
   "source": [
    "### Вставка пиццы"
   ]
  },
  {
   "cell_type": "code",
   "execution_count": null,
   "metadata": {
    "id": "hA8QzhgkmOvT"
   },
   "outputs": [],
   "source": [
    "col1 = 'Дисконтирование\\nустаревших\\nрешений'\n",
    "col2 = 'Давление на\\nнезависимого\\nпартнера'\n",
    "col3 = 'Конструирование\\n компаний'\n",
    "col4 = 'Препарирование\\nтехнологий'\n",
    "col5 = 'Скрининг\\nшансов'\n",
    "col6 = 'Борьба за\\nпривилегии'\n",
    "col7 = 'Фиктивная\\nдеятельность'\n",
    "col8 = 'Отношения\\nвместо дела'\n",
    "zero = 0\n",
    "\n",
    "def web(doc, numbers):\n",
    "    dict1 = {col : zero for col in [col1, col2, col3, col4, col5, col6, col7, col8]}\n",
    "    N = 8\n",
    "    theta = radar_factory(8, frame='polygon')\n",
    "\n",
    "    angles = np.linspace(0, 2 * pi, N, endpoint=False)\n",
    "    angles_mids = angles + (angles[1] / 2)\n",
    "    #spoke_labels = data.pop(0)\n",
    "    #title, case_data = data[0]\n",
    "\n",
    "    fig, ax = plt.subplots(figsize=(12, 8), subplot_kw=dict(projection='radar'))\n",
    "    #fig.subplots_adjust(left=0)\n",
    "    ax.xaxis.set_minor_locator(FixedLocator(angles))\n",
    "    fig.subplots_adjust(top=0.85, bottom=0.05)\n",
    "    plt.ylim([0, 10])\n",
    "\n",
    "    ax.set_theta_offset(pi/8-pi/4)\n",
    "    ax.set_theta_direction(1)\n",
    "    ax.set_xticks(angles_mids)\n",
    "    ax.set_xticklabels(dict1.keys())\n",
    "    ax.grid(True, axis='x', which='minor')\n",
    "    ax.grid(False, axis='x', which='major')\n",
    "    ax.grid(True, axis='y', which='major')\n",
    "    ax.set_rgrids([2,4,6,8,10], [])\n",
    "    #ax.set_title(file_name,  position=(0.5, 1.1), ha='center')\n",
    "    color1='springgreen'\n",
    "    color2='seagreen'\n",
    "    color3='tomato'\n",
    "    color4='red'\n",
    "    for i in range(6):\n",
    "        ax.fill_between(angles[i:i+2], 0, numbers[i] , facecolor=color1, edgecolor=color2, linewidth=2)\n",
    "    ax.fill_between(angles[5:7], 0, numbers[5], facecolor=color3, edgecolor=color4, linewidth=2)\n",
    "    ax.fill_between(angles[6:8], 0, numbers[6], facecolor=color3, edgecolor=color4, linewidth=2)\n",
    "    ax.fill_between([angles[7],(angles[7]+angles[1])], 0, numbers[7], facecolor=color3, edgecolor=color4, linewidth=2)\n",
    "\n",
    "    for index, label in enumerate(ax.get_xticklabels()):\n",
    "        label.set_weight(\"bold\")\n",
    "        label.set_fontsize(14)\n",
    "        if index in [0, 1, 7]:\n",
    "            label.set_horizontalalignment(\"left\")\n",
    "        elif index in [3, 4, 5]:\n",
    "            label.set_horizontalalignment(\"right\")\n",
    "\n",
    "    plt.savefig('web.png', transparent=True)\n",
    "    return InlineImage(doc, 'web.png', Cm(12))"
   ]
  },
  {
   "cell_type": "markdown",
   "metadata": {
    "id": "XSrkRezfmOvT"
   },
   "source": [
    "### Подсчет баллов"
   ]
  },
  {
   "cell_type": "code",
   "execution_count": null,
   "metadata": {
    "id": "9EVbWjiamOvT"
   },
   "outputs": [],
   "source": [
    "def primary_point(context):\n",
    "    if 'score' in context:\n",
    "        pts = 0.2 * max([int(num) for num in context['score'].split()])\n",
    "    else:\n",
    "        pts = 0\n",
    "    for key, value in primary_keys_dict.items():\n",
    "        if key in context.keys() and len(context[key]) > 10:\n",
    "            pts += value\n",
    "    for key in primary_cases_list:\n",
    "        if key in context.keys():\n",
    "            if len(context[key]) >= 50:\n",
    "                pts += 1\n",
    "            if len(context[key]) >= 300:\n",
    "                pts += 2\n",
    "            counter = case_counter(context[key], key)\n",
    "            if counter >= 4:\n",
    "                pts += 2\n",
    "            if counter >= 6:\n",
    "                pts += 1\n",
    "            if counter >= 8:\n",
    "                pts += 1\n",
    "    if context['novel_score'] != '-':\n",
    "        pts += context['novel_score']\n",
    "        if pts > 100:\n",
    "            pts = 100\n",
    "            \n",
    "    return round(pts)"
   ]
  },
  {
   "cell_type": "markdown",
   "metadata": {
    "id": "VqOaMXkRmOvT"
   },
   "source": [
    "### Подсчет баллов пицца"
   ]
  },
  {
   "cell_type": "code",
   "execution_count": null,
   "metadata": {
    "id": "EsMpp7RemOvT"
   },
   "outputs": [],
   "source": [
    "cases_pizza_low = {'case1': np.array([0.5, 0, 0.5, 0, 1, 0, 0 ,0]), 'case2': np.array([0, 0.5, 0.5, 1.5, 0, 0, 0 ,0]), 'case3': np.array([0, 1, 0, 0, 0.5, 0, 0 ,0])}\n",
    "cases_pizza_high = {'case1': np.array([1, 0, 1, 0, 2, 0, 0 ,0]), 'case2': np.array([0, 1, 1, 3, 0, 0, 0 ,0]), 'case3': np.array([0, 2, 0, 0, 1, 0, 0 ,0])}\n",
    "\n",
    "def score_cases_pizza(context):\n",
    "    score_cases = np.array([0, 0, 0, 0, 0, 0, 0 ,0])\n",
    "    if 'score' in context:\n",
    "        if int(context['score']) >= 90:\n",
    "            score_pizza = np.array([0, 0, 2, 1, 0, 0, 0, 0])\n",
    "        elif int(context['score']) >= 60:\n",
    "            score_pizza = np.array([0, 0, 1, 0, 0, 0, 0, 0])\n",
    "        else:\n",
    "            score_pizza =  np.array([0, 0, 0, 0, 0, 0, 0 ,0])\n",
    "        score_cases += score_pizza\n",
    "    for key in cases_pizza_low.keys():\n",
    "        pts =  0\n",
    "        if key in context.keys():\n",
    "            if len(context[key]) >= 50:\n",
    "                pts += 1\n",
    "            if len(context[key]) >= 300:\n",
    "                pts += 2\n",
    "            counter = case_counter(context[key], key)\n",
    "            if counter >= 4:\n",
    "                pts += 2\n",
    "            if counter >= 6:\n",
    "                pts += 1\n",
    "            if counter >= 8:\n",
    "                pts += 1\n",
    "        if pts >= 6:\n",
    "            score_case = cases_pizza_high[key]\n",
    "        if pts >= 3:\n",
    "            score_case = cases_pizza_low[key]\n",
    "        else:\n",
    "            score_case = np.array([0, 0, 0, 0, 0, 0, 0 ,0])\n",
    "        score_cases = score_cases + score_case\n",
    "       # print(key, score_case, score_cases)\n",
    "            \n",
    "    return score_cases"
   ]
  },
  {
   "cell_type": "markdown",
   "metadata": {
    "id": "DrQBrliUmOvT"
   },
   "source": [
    "### Вставка ссылки"
   ]
  },
  {
   "cell_type": "code",
   "execution_count": null,
   "metadata": {
    "id": "bmPbGrRpmOvU"
   },
   "outputs": [],
   "source": [
    "def add_hyperlink(paragraph, text, url):\n",
    "    # This gets access to the document.xml.rels file and gets a new relation id value\n",
    "    part = paragraph.part\n",
    "    r_id = part.relate_to(url, docx.opc.constants.RELATIONSHIP_TYPE.HYPERLINK, is_external=True)\n",
    "\n",
    "    # Create the w:hyperlink tag and add needed values\n",
    "    hyperlink = docx.oxml.shared.OxmlElement('w:hyperlink')\n",
    "    hyperlink.set(docx.oxml.shared.qn('r:id'), r_id, )\n",
    "\n",
    "    # Create a w:r element and a new w:rPr element\n",
    "    new_run = docx.oxml.shared.OxmlElement('w:r')\n",
    "    rPr = docx.oxml.shared.OxmlElement('w:rPr')\n",
    "\n",
    "    # Join all the xml elements together add add the required text to the w:r element\n",
    "    new_run.append(rPr)\n",
    "    new_run.text = text\n",
    "    hyperlink.append(new_run)\n",
    "\n",
    "    # Create a new Run object and add the hyperlink into it\n",
    "    r = paragraph.add_run ()\n",
    "    r._r.append (hyperlink)\n",
    "\n",
    "    # A workaround for the lack of a hyperlink style (doesn't go purple after using the link)\n",
    "    # Delete this if using a template that has the hyperlink style in it\n",
    "    r.font.color.theme_color = MSO_THEME_COLOR_INDEX.HYPERLINK\n",
    "    r.font.underline = True\n",
    "\n",
    "    return hyperlink"
   ]
  },
  {
   "cell_type": "markdown",
   "metadata": {
    "id": "Urnonm_imOvU"
   },
   "source": [
    "### Печать таблицы"
   ]
  },
  {
   "cell_type": "code",
   "execution_count": null,
   "metadata": {
    "id": "d-dj4SmomOvU"
   },
   "outputs": [],
   "source": [
    "def print_df(df, filename):\n",
    "    df.insert(0, \"№\", range(1, len(df) + 1))\n",
    "    doc = docx.Document()\n",
    "    t = doc.add_table(df.shape[0]+1, df.shape[1])\n",
    "    for j in range(df.shape[-1]):\n",
    "        t.cell(0,j).text = df.columns[j]\n",
    "    for i in range(df.shape[0]):\n",
    "        for j in range(df.shape[-1]):\n",
    "            t.cell(i+1,j).text = str(df.values[i,j])\n",
    "    doc.save(filename)"
   ]
  },
  {
   "cell_type": "markdown",
   "metadata": {
    "id": "k4-PJp7CmOvU"
   },
   "source": [
    "### Печать таблицы с ссылками"
   ]
  },
  {
   "cell_type": "code",
   "execution_count": null,
   "metadata": {
    "id": "jeO9cEoXmOvU"
   },
   "outputs": [],
   "source": [
    "def print_df_linked(filename_in, filename_out):\n",
    "    document = docx.Document(filename_in)\n",
    "    \n",
    "    tabs = []\n",
    "    for table in document.tables:\n",
    "        dff = [['' for i in range(len(table.columns))] for j in range(len(table.rows))]\n",
    "        for i, row in enumerate(table.rows):\n",
    "            for j, cell in enumerate(row.cells):\n",
    "                if cell.text:\n",
    "                    dff[i][j] = cell.text\n",
    "        tabs.append(pd.DataFrame(dff))\n",
    "    df = tabs[0]\n",
    "    df.columns = df.iloc[0]\n",
    "    df = df[1:]\n",
    "    try:\n",
    "        cities = df['Город'].unique()\n",
    "    except:\n",
    "        return 0\n",
    "    link_dict = {}\n",
    "    for city in cities:\n",
    "        city_id = drive.ListFile({'q': \"title = '%s'\" % city}).GetList()[0]['id']\n",
    "        for file in drive.ListFile({'q': \" '%s' in parents and trashed = FALSE\" % city_id}).GetList():\n",
    "            link_dict.update({file['title'][:-5]: file['alternateLink']})\n",
    "\n",
    "    df['Ссылка'] = df['ФИО'].copy()\n",
    "    links = df['ФИО'].apply(lambda x: link_dict[x] if x in link_dict else 'Error').to_list()\n",
    "    doc = docx.Document()\n",
    "    t = doc.add_table(df.shape[0]+1, df.shape[1])\n",
    "    for j in range(df.shape[-1]):\n",
    "        t.cell(0,j).text = df.columns[j]\n",
    "    for i in range(df.shape[0]):\n",
    "        for j in range(df.shape[-1]):\n",
    "            if (j+1 == df.shape[-1]):\n",
    "                t.cell(i+1,j).text = ''\n",
    "                if links[i] != 'Error':\n",
    "                    add_hyperlink(t.cell(i+1,j).paragraphs[0], 'Ссылка', links[i])\n",
    "                else:\n",
    "                    t.cell(i+1,j).text = 'Ошибка'\n",
    "            else:\n",
    "                t.cell(i+1,j).text = str(df.values[i,j])\n",
    "    doc.save(filename_out)\n",
    "    \n",
    "    return 0"
   ]
  },
  {
   "cell_type": "markdown",
   "metadata": {
    "id": "bilVQ7s5mOvU"
   },
   "source": [
    "### Запись на диск"
   ]
  },
  {
   "cell_type": "code",
   "execution_count": null,
   "metadata": {
    "id": "YOrHaKQXmOvU"
   },
   "outputs": [],
   "source": [
    "def drive_write(file_name, parent_id, file_path, replace = True):\n",
    "    if replace:\n",
    "        for file in drive.ListFile({'q': \"title = '%s' and '%s' in parents \" % (file_name, parent_id)}).GetList():\n",
    "            file.Delete()\n",
    "    file = drive.CreateFile({\n",
    "        'title': file_name, \n",
    "        \"parents\": [{\"id\": parent_id}]\n",
    "        })\n",
    "    file.SetContentFile(file_path)\n",
    "    file.Upload()"
   ]
  },
  {
   "cell_type": "markdown",
   "metadata": {
    "id": "f1Qgm-psmOvU"
   },
   "source": [
    "## Вывод"
   ]
  },
  {
   "cell_type": "markdown",
   "metadata": {
    "id": "oAvw3o89mOvV"
   },
   "source": [
    "### Засекаем время составления анкет"
   ]
  },
  {
   "cell_type": "code",
   "execution_count": null,
   "metadata": {
    "id": "znO5NrRsmOvV",
    "outputId": "0bd8080f-49d8-4728-d859-52a68143f9e6"
   },
   "outputs": [
    {
     "data": {
      "text/plain": [
       "array(['http://techpreneur-school.ru/intro-concepts-of-techpreneurship-ekb/test/nice2meetyou',\n",
       "       'https://techpreneur-school.ru/intro-concepts-of-techpreneurship-ekb/test/nice2meetyou',\n",
       "       'https://techpreneur-school.ru/intro-concepts-of-techpreneurship-tmn/test/nice2meetyou',\n",
       "       'https://techpreneur-school.ru/intro-concepts-of-techpreneurship-kemerovo/test/nice2meetyou',\n",
       "       'https://techpreneur-school.ru/intro-concepts-of-techpreneurship-nn/test/nice2meetyou',\n",
       "       'https://techpreneur-school.ru/intro-concepts-of-techpreneurship-rd/test/nice2meetyou',\n",
       "       'https://techpreneur-school.ru/intro-concepts-of-techpreneurship-2035/test/nice2meetyou',\n",
       "       'https://techpreneur-school.ru/intro-concepts-of-techpreneurship-nanort/test/nice2meetyou',\n",
       "       'https://techpreneur-school.ru/intro-concepts-of-techpreneurship-technospark/test/nice2meetyou',\n",
       "       'https://techpreneur-school.ru/intro-concepts-of-techpreneurship-tomsk/test/nice2meetyou',\n",
       "       'https://techpreneur-school.ru/intro-concepts-of-techpreneurship-rnad/test/nice2meetyou',\n",
       "       'https://techpreneur-school.ru/intro-concepts-of-techpreneurship-tusur/test/nice2meetyou',\n",
       "       'https://techpreneur-school.ru/intro-concepts-of-techpreneurship-tmn-2021/test/nice2meetyou',\n",
       "       'https://techpreneur-school.ru/intro-concepts-of-techpreneurship-ektb/test/nice2meetyou',\n",
       "       'https://techpreneur-school.ru/intro-concepts-of-techpreneurship-fiop/test/nice2meetyou',\n",
       "       'https://techpreneur-school.ru/intro-concepts-of-techpreneurship-nl/test/nice2meetyou',\n",
       "       'https://techpreneur-school.ru/intro-concepts-of-techpreneurship-ar21/test/nice2meetyou',\n",
       "       'https://techpreneur-school.ru/intro-concepts-of-techpreneurship-ngtu/test/nice2meetyou',\n",
       "       'https://techpreneur-school.ru/intro-concepts-of-techpreneurship-mfti/test/nice2meetyou',\n",
       "       'https://techpreneur-school.ru/intro-concepts-of-techpreneurship-vgtu/test/nice2meetyou',\n",
       "       'https://techpreneur-school.ru/intro-concepts-of-techpreneurship-omgtu-2021/test/nice2meetyou',\n",
       "       'https://techpreneur-school.ru/intro-concepts-of-techpreneurship-vyatgu/test/nice2meetyou',\n",
       "       'https://techpreneur-school.ru/intro-concepts-of-techpreneurship-startup/test/nice2meetyou',\n",
       "       'https://techpreneur-school.ru/intro-concepts-of-techpreneurship-tgu/test/nice2meetyou',\n",
       "       'https://techpreneur-school.ru/intro-concepts-of-techpreneurship-rut/test/nice2meetyou',\n",
       "       'https://techpreneur-school.ru/intro-concepts-of-techpreneurship-test1/test/nice2meetyou',\n",
       "       'https://techpreneur-school.ru/intro-concepts-of-techpreneurship-urfu/test/nice2meetyou',\n",
       "       'https://techpreneur-school.ru/intro-concepts-of-techpreneurship-tyumgu/test/nice2meetyou',\n",
       "       'https://techpreneur-school.ru/task2',\n",
       "       'https://techpreneur-school.ru/test',\n",
       "       'https://techpreneur-school.ru/intro-concepts-of-techpreneurship-test2022/test/nice2meetyou'],\n",
       "      dtype=object)"
      ]
     },
     "execution_count": 40,
     "metadata": {},
     "output_type": "execute_result"
    }
   ],
   "source": [
    "df0['referer'].unique()"
   ]
  },
  {
   "cell_type": "markdown",
   "metadata": {
    "id": "Dy8W-9pYmOvV"
   },
   "source": [
    "### Выбираем ключ (внимание)"
   ]
  },
  {
   "cell_type": "code",
   "execution_count": null,
   "metadata": {
    "id": "44ioqz_DmOvV",
    "outputId": "0c195bc2-fb8c-4188-f929-8678f05cbcec"
   },
   "outputs": [
    {
     "data": {
      "text/plain": [
       "['nikita174trofimov@gmail.com',\n",
       " 'dmitriy.kovalchuk.1913@mail.ru',\n",
       " 'hoseernendes23@gmail.com',\n",
       " 'yana.kozlyakova@mail.ru',\n",
       " 'svetlakova.99@mail.ru',\n",
       " 'i.a.kholmanskikh@mail.ru',\n",
       " 'mb572867@gmail.com',\n",
       " 'shadrina.irushka@gmail.com',\n",
       " 'neganlife@gmail.com',\n",
       " 'khabibova1723@mail.ru',\n",
       " 'flep00@mail.ru',\n",
       " 'byzova-01@bk.ru',\n",
       " 'smiraboi@mail.ru',\n",
       " 'oly-veronika@mail.ru',\n",
       " 'ya.egor00100@yandex.ru',\n",
       " 'savkiv01@mail.ru',\n",
       " 'sergazinov.01@mail.ru',\n",
       " 'sarser1308@gmail.com',\n",
       " 'a.s.zakharova@urfu.ru',\n",
       " 'jennifer.ranches2020@gmail.com',\n",
       " 'pponia123@gmail.com',\n",
       " 'vedrova.nastya@yandex.ru',\n",
       " 'stevengnoto1994@gmail.com',\n",
       " 'yuliana.shimova@mail.ru',\n",
       " 'l.piskunova1909@mail.ru',\n",
       " 'volpeumok@mail.ru',\n",
       " 'kirill100.km12@gmail.com',\n",
       " 'stasia.voronova@yandex.ru',\n",
       " 'anton.korzh@urfu.me',\n",
       " 'h2oartemian@gmail.com',\n",
       " 'mapmonicahian@gmail.com',\n",
       " '412759139@qq.com',\n",
       " 'boroffichento@gmail.com',\n",
       " 'felix-dem@mail.ru',\n",
       " 'egor.sikov14@gmail.com',\n",
       " 'stalker15682@gmail.com',\n",
       " 'zincenkosnezana82@gmail.com',\n",
       " '79126455359@ya.ru',\n",
       " 'vera.pavlenko.99@mail.ru',\n",
       " 'gleb.rogachuk@yandex.ru',\n",
       " 'beliks-den@e1.ru',\n",
       " 'robert.safin.2013@mail.ru',\n",
       " 'v.v.skapintseva@urfu.me',\n",
       " 'nik.poluhin@mail.ru',\n",
       " 'er.avinashkumar211@gmail.com',\n",
       " 'denis4320517@gmail.com',\n",
       " 'jackcl619@gmail.com',\n",
       " 'polinazeglova@mail.ru',\n",
       " 'polina.polin.zlokazova@mail.ru',\n",
       " 'sokolov.sokolov-ekb@yandex.ru',\n",
       " 'kirill.nosov@urfu.me',\n",
       " 'alina03ov@gmail.com',\n",
       " 'kovina.mk@mail.ru',\n",
       " 'kolelenak@mail.ru',\n",
       " 'listvi999@mail.ru',\n",
       " 'girasimov1337@gmail.com',\n",
       " 'bayamirbay@gmail.com',\n",
       " 'sapron333@icloud.com',\n",
       " 'alekseygubin@icloud.com',\n",
       " 'kashaev223@gmail.com',\n",
       " 'pirozhkova23@bk.ru',\n",
       " 'george.lapp.java@mail.ru',\n",
       " 'akuzmina604@gmail.com',\n",
       " 'rishat2579@mail.ru',\n",
       " 'aokunkova@mail.ru',\n",
       " 'esavinkova283@gmail.com',\n",
       " 'nastya.pegushina1@gmail.com',\n",
       " 'fahalv@yandex.ru',\n",
       " 'tomchuk.01@gmail.com',\n",
       " 'irinka.k77777@gmail.com',\n",
       " 'ndolgopolaya@mail.ru',\n",
       " 'lizavetamel0202@gmail.com',\n",
       " 'kolchanov.sergey.2001@mail.ru',\n",
       " 'jerilot03@gmail.com',\n",
       " 'okravchinskaya@list.ru',\n",
       " 'stepanenko.d13@mail.ru',\n",
       " 'panshin.2001@inbox.ru',\n",
       " 'ev-rum01@mail.ru',\n",
       " 'miha.karev02@gmail.com',\n",
       " 'glebm2001@mail.ru',\n",
       " 'svetlana.kr.98@mail.ru',\n",
       " 'warcraft2.0@mail.ru',\n",
       " 'zhylin.cool@mail.ru',\n",
       " 'vanya210501@bk.ru',\n",
       " 'mikh.ponomarew2017@yandex.ru',\n",
       " 'bekhzod.musoyev@bk.ru',\n",
       " 'viktoriya.oshchepkova@mail.ru',\n",
       " 'katyshev.pasha@mail.ru',\n",
       " 'ghostbvk1502@gmail.com',\n",
       " 'yakimova.ksyushenka@list.ru',\n",
       " 'kirya.migel@mail.ru',\n",
       " 'liza.kabakowa@yandex.ru',\n",
       " 'darsing15@gmail.com',\n",
       " 'kirill.tishkov@internet.ru',\n",
       " 'kristina.konovalova@urfu.me',\n",
       " 'winxdash@mail.ru',\n",
       " 'ssoloveva00@gmail.com',\n",
       " 'ekumnikova@gmail.com',\n",
       " 'patrushevnik@mail.ru',\n",
       " 'sacha165@yandex.ru',\n",
       " 'ana.dyogteva1948@yandex.ru',\n",
       " 'mrnvrrrrr@mail.ru',\n",
       " 'xenia0202@mail.ru',\n",
       " 'karina.manerova@mail.ru',\n",
       " 'liza.brenkova@mail.ru',\n",
       " 'goldianmail@yandex.ru',\n",
       " 'fasterbord@mail.ru',\n",
       " 'svetlaya-286@bk.ru',\n",
       " 'zarinamuhametali@gmail.com',\n",
       " 'karina.richter@mail.ru',\n",
       " 'sonya.duikova@mail.ru',\n",
       " 'xxxiwilldiealone@gmail.com',\n",
       " 'j_myzdrik@mail.ru',\n",
       " 'oleg.shadorin@inbox.ru',\n",
       " 'lena53per@mail.ru',\n",
       " 'serybely4@gmail.com',\n",
       " 'anya.rudometova.01@mail.ru',\n",
       " 'igorkursov17@gmail.com',\n",
       " 'marinavozmicheva@yandex.ru',\n",
       " 'ryazanova_av00@mail.ru',\n",
       " 'yaraslau.komarov@yandex.ru',\n",
       " 'alekseybulatnikov@yandex.ru',\n",
       " 'shiozu.business@gmail.com',\n",
       " 'maddiallo41@gmail.com',\n",
       " 'fffffff_ffffffffff_2019@bk.ru',\n",
       " 'kicherov_2000@mail.ru',\n",
       " 'nikitaselivanov21@yandex.ru',\n",
       " 'ks.mak01@mail.ru',\n",
       " 'keshanowak@gmail.com',\n",
       " 'valerieschu@mail.ru',\n",
       " 'stasakot3371@gmail.com',\n",
       " 'kirya29.putilov@yandex.ru',\n",
       " 'denisshaba23@gmail.com',\n",
       " 'mirake1@ya.ru',\n",
       " 'misha.pma12@yandex.ru',\n",
       " 'kostya.posya@gmail.com',\n",
       " 'borisov19991@yandex.ru',\n",
       " 'roman.target@mail.ru',\n",
       " 'khudonazarova01@inbox.ru',\n",
       " 'musonovoleg@inbox.ru',\n",
       " 'artem.vorster@urfu.me',\n",
       " 'txpl3@mail.ru',\n",
       " 'bredikhina.01@inbox.ru',\n",
       " 'chopurov.02@mail.ru',\n",
       " 'vikarotatova@mail.ru',\n",
       " 'insidezm@gmail.com',\n",
       " 'bukhmetova01@bk.ru',\n",
       " 'trifonov7601@mail.ru',\n",
       " 'a.vetlugina1@yandex.ru',\n",
       " 'nataran2001@mail.ru',\n",
       " 'twokeygd@gmail.com',\n",
       " 'korotaevsanek@mail.ru',\n",
       " 'shokirovahadjon3@gmail.com',\n",
       " 'ulyanabesputina@icloud.com',\n",
       " 'vinogradova_01@bk.ru',\n",
       " 'marinabir2001@mail.ru',\n",
       " 'maks_ghost94@mail.ru',\n",
       " 'demig_noname@mail.ru',\n",
       " 'alyona.yudintseva@yandex.ru',\n",
       " 'itsnotrocketscience1337@gmail.com',\n",
       " 'miass10bersneva@mail.ru',\n",
       " 'kuchina.alla@gmail.com',\n",
       " 'weaverdesolator@mail.ru',\n",
       " 'wttbppansy@gmail.com',\n",
       " 'mrhotdog@yandex.ru',\n",
       " 'tsygan.darya@yandex.ru',\n",
       " 'konsngrig@gmail.com',\n",
       " 'rinenow@rambler.ru',\n",
       " 'sebastian65478@gmail.com',\n",
       " 'a.s.makarovaa@gmail.com',\n",
       " 'milanochka12345@gmail.com',\n",
       " 'finn_axe@inbox.ru',\n",
       " 'kaletina_l@mail.ru',\n",
       " 'ozersk.zersk@gmail.com',\n",
       " 'dasha1651165@yandex.ru',\n",
       " 'sadchicova.anna345@gmail.com',\n",
       " 'artemiychugurov96@gmail.com',\n",
       " 'lera.chehomova@mail.ru',\n",
       " 'kalyuzh2015@yandex.ru',\n",
       " 'd.kakartseva@gmail.com',\n",
       " 'dania.sosnin2015@gmail.com',\n",
       " 'samoylowao555@gmail.com',\n",
       " 'plan090201@icloud.com',\n",
       " 'nastyaderyabina15@gmail.com',\n",
       " 'kzavyalova2001@gmail.com',\n",
       " 'fragole.ragazza@gmail.com',\n",
       " 'sshadix@mail.ru',\n",
       " 'terzivaleria@mail.ru',\n",
       " 'anna.puzanova2002@mail.ru',\n",
       " 'zheleva01@mail.ru',\n",
       " 'katya-kiselnikova@mail.ru',\n",
       " 'ganjaiv@yandex.ru',\n",
       " 'mk0zh@yandex.com',\n",
       " 'muzafarovroma@list.ru',\n",
       " 'predein.vladimir@bk.ru',\n",
       " 'ilya050201@mail.ru',\n",
       " 'zaidvika6@gmail.com',\n",
       " 'fridget23@gmail.com',\n",
       " 'dasha.kogteva.99@mail.ru',\n",
       " '89506305599@mail.ru',\n",
       " '4lilmanil4@gmail.com',\n",
       " 'ananasya2112@gmail.com',\n",
       " 'vlad.sushen@gmail.com',\n",
       " 'temniakovslava@yandex.ru',\n",
       " 'cheremxinpp@gmail.com',\n",
       " 'ymogilnikova99@mail.ru',\n",
       " 'namestnikov.maks@yandex.ru',\n",
       " 'artur.52mail@mail.ru',\n",
       " 'natalademcenko583@gmail.com',\n",
       " 'avaskov.artem@yandex.ru',\n",
       " 'bushuieva01@mail.ru',\n",
       " 'polya.dengina@yandex.ru',\n",
       " 'vitaliy.potapov31@gmail.com',\n",
       " 'tunksul93@gmail.com',\n",
       " 'apple_id_0@yahoo.com',\n",
       " 'rokhina17@mail.ru',\n",
       " 'a.v.khudorozhkova@urfu.me',\n",
       " 'denis.belozerov@urfu.me',\n",
       " 'suhomesovo306@gmail.com',\n",
       " 'kiralukmanova@list.ru',\n",
       " 'kristina.prokuratova@mail.ru',\n",
       " 'kalina_ir@mail.ru',\n",
       " 'kristina.a.perminova@gmail.com',\n",
       " 'zorindima2000@mail.ru',\n",
       " 'zlatilda111@gmail.com',\n",
       " 'rodionov-066@yandex.ru',\n",
       " 'alina.kkurbatova@yandex.ru']"
      ]
     },
     "execution_count": 41,
     "metadata": {},
     "output_type": "execute_result"
    }
   ],
   "source": [
    "key_short = 'urfu'\n",
    "ma_emails = df0[df0['referer']=='https://techpreneur-school.ru/intro-concepts-of-techpreneurship-{}/test/nice2meetyou'.format(key_short)]['ma_email'].unique()\n",
    "#ma_emails = ['bikaviktoria@mail.ru']\n",
    "emails = [email for email in ma_emails if 'test' not in email]\n",
    "emails"
   ]
  },
  {
   "cell_type": "code",
   "execution_count": null,
   "metadata": {
    "id": "kMCG3MLGmOvV"
   },
   "outputs": [],
   "source": [
    "middle_time = time.time()\n",
    "\n",
    "file = drive.CreateFile({'title': 'Анкеты без заключения', \n",
    "    \"parents\": [{\"id\": folder_names[key_short]}], \n",
    "    \"mimeType\": \"application/vnd.google-apps.folder\"})\n",
    "file.Upload()\n",
    "folder_id_a = file['id']\n",
    "\n",
    "file = drive.CreateFile({'title': 'Первый эшелон', \n",
    "    \"parents\": [{\"id\": folder_names[key_short]}], \n",
    "    \"mimeType\": \"application/vnd.google-apps.folder\"})\n",
    "file.Upload()\n",
    "folder_id_1 = file['id']\n",
    "\n",
    "file = drive.CreateFile({'title': 'Второй эшелон', \n",
    "    \"parents\": [{\"id\": folder_names[key_short]}], \n",
    "    \"mimeType\": \"application/vnd.google-apps.folder\"})\n",
    "file.Upload()\n",
    "folder_id_2 = file['id']"
   ]
  },
  {
   "cell_type": "code",
   "execution_count": null,
   "metadata": {
    "id": "6LEby_dmmOvV"
   },
   "outputs": [],
   "source": [
    "folder_id_1 = '1fx3cRMKCIc3KCYCIyxuU5tpF4qImSj9l'\n",
    "folder_id_2 = '1UX-yVLogm3frvLlF57qJoqvYVXfjub63'\n",
    "folder_id_a = '1hqDqICe2Ldzf2ZasmWs7pRR0sy1jTPg-'"
   ]
  },
  {
   "cell_type": "markdown",
   "metadata": {
    "id": "huywjbuHmOvW"
   },
   "source": [
    "### Общий поиск и запись анкет"
   ]
  },
  {
   "cell_type": "code",
   "execution_count": null,
   "metadata": {
    "id": "aZgUnrqLmOvW"
   },
   "outputs": [],
   "source": [
    "c_b_1 = \"Участник продемонстрировал мотивацию к переходу в предпринимательский тип деятельности и наличие потенциала к постановке и развитию предпринимательских компетенций.\"\n",
    "c_r_1 = \"Участник рекомендован к прохождению углублённой диагностики с целью уточнения оценки предпринимательских компетенций и определения потенциальной роли в предпринимательских проектах.\"\n",
    "c_b_2 = \"Участник показал наличие мотивации к переходу в предпринимательский тип деятельности, однако не продемонстрировал наличие потенциала к постановке и развитию предпринимательских компетенций.\"\n",
    "c_r_2 = \"Участник рекомендован к прохождению углублённой диагностики с целью проверки наличия потенциала к постановке и развитию предпринимательских компетенций и определения пригодности к участию в предпринимательских проектах.\""
   ]
  },
  {
   "cell_type": "code",
   "execution_count": null,
   "metadata": {
    "id": "1xCFTFoJmOvW",
    "outputId": "697b67d0-6ec5-4fe3-8714-d8525fc72cf3",
    "scrolled": true
   },
   "outputs": [
    {
     "name": "stderr",
     "output_type": "stream",
     "text": [
      "  1%|▉                                                                                  | 1/84 [00:07<10:52,  7.86s/it]"
     ]
    },
    {
     "name": "stdout",
     "output_type": "stream",
     "text": [
      "Вывод/urfu/2/Ковальчук Дмитрий Сергеевич.docx 11 2\n"
     ]
    },
    {
     "name": "stderr",
     "output_type": "stream",
     "text": [
      "\r",
      "  2%|█▉                                                                                 | 2/84 [00:14<09:51,  7.22s/it]"
     ]
    },
    {
     "name": "stdout",
     "output_type": "stream",
     "text": [
      "Вывод/urfu/2/Нелюбина Анна Андреевна.docx 11 2\n"
     ]
    },
    {
     "name": "stderr",
     "output_type": "stream",
     "text": [
      "  6%|████▉                                                                              | 5/84 [00:29<06:40,  5.08s/it]"
     ]
    },
    {
     "name": "stdout",
     "output_type": "stream",
     "text": [
      "Вывод/urfu/2/Холманских Ирина Алексеевна.docx 18 2\n"
     ]
    },
    {
     "name": "stderr",
     "output_type": "stream",
     "text": [
      "\r",
      "  7%|█████▉                                                                             | 6/84 [00:35<07:13,  5.56s/it]"
     ]
    },
    {
     "name": "stdout",
     "output_type": "stream",
     "text": [
      "Вывод/urfu/2/Быкова Маргарита Алексеевна.docx 14 2\n"
     ]
    },
    {
     "name": "stderr",
     "output_type": "stream",
     "text": [
      "\r",
      "  8%|██████▉                                                                            | 7/84 [00:42<07:38,  5.96s/it]"
     ]
    },
    {
     "name": "stdout",
     "output_type": "stream",
     "text": [
      "Вывод/urfu/1/Шадрина Ирина Владимировна.docx 62 1\n"
     ]
    },
    {
     "name": "stderr",
     "output_type": "stream",
     "text": [
      " 15%|████████████▋                                                                     | 13/84 [01:37<06:52,  5.81s/it]"
     ]
    },
    {
     "name": "stdout",
     "output_type": "stream",
     "text": [
      "Вывод/urfu/2/Бахтина Ольга Валерьевна.docx 19 2\n"
     ]
    },
    {
     "name": "stderr",
     "output_type": "stream",
     "text": [
      " 30%|████████████████████████▍                                                         | 25/84 [02:25<03:52,  3.94s/it]"
     ]
    },
    {
     "name": "stdout",
     "output_type": "stream",
     "text": [
      "Вывод/urfu/2/Мусламханов Усман Исламович.docx 5 2\n"
     ]
    },
    {
     "name": "stderr",
     "output_type": "stream",
     "text": [
      "\r",
      " 31%|█████████████████████████▍                                                        | 26/84 [02:32<04:47,  4.96s/it]"
     ]
    },
    {
     "name": "stdout",
     "output_type": "stream",
     "text": [
      "Вывод/urfu/2/Минин Кирилл .docx 21 2\n"
     ]
    },
    {
     "name": "stderr",
     "output_type": "stream",
     "text": [
      " 33%|███████████████████████████▎                                                      | 28/84 [02:45<05:10,  5.54s/it]"
     ]
    },
    {
     "name": "stdout",
     "output_type": "stream",
     "text": [
      "Вывод/urfu/1/Корж Антон .docx 60 1\n"
     ]
    },
    {
     "name": "stderr",
     "output_type": "stream",
     "text": [
      "\r",
      " 35%|████████████████████████████▎                                                     | 29/84 [03:05<08:56,  9.76s/it]"
     ]
    },
    {
     "name": "stdout",
     "output_type": "stream",
     "text": [
      "Вывод/urfu/2/Алентаев Артём Вячеславович.docx 26 2\n"
     ]
    },
    {
     "name": "stderr",
     "output_type": "stream",
     "text": [
      "\r",
      " 36%|█████████████████████████████▎                                                    | 30/84 [03:14<08:38,  9.60s/it]"
     ]
    },
    {
     "name": "stdout",
     "output_type": "stream",
     "text": [
      "Вывод/urfu/2/Huangna Moni .docx 17 2\n"
     ]
    },
    {
     "name": "stderr",
     "output_type": "stream",
     "text": [
      " 39%|████████████████████████████████▏                                                 | 33/84 [03:30<05:33,  6.54s/it]"
     ]
    },
    {
     "name": "stdout",
     "output_type": "stream",
     "text": [
      "Вывод/urfu/2/Дементьев Феликс Станиславович.docx 27 2\n"
     ]
    },
    {
     "name": "stderr",
     "output_type": "stream",
     "text": [
      " 43%|███████████████████████████████████▏                                              | 36/84 [03:57<05:33,  6.95s/it]"
     ]
    },
    {
     "name": "stdout",
     "output_type": "stream",
     "text": [
      "Вывод/urfu/2/Зинченко Снежана Дмитриевна.docx 12 2\n"
     ]
    },
    {
     "name": "stderr",
     "output_type": "stream",
     "text": [
      " 51%|█████████████████████████████████████████▉                                        | 43/84 [04:27<02:48,  4.12s/it]"
     ]
    },
    {
     "name": "stdout",
     "output_type": "stream",
     "text": [
      "Вывод/urfu/2/Полухин Полухин Никита Николаевич Николаевич.docx 19 2\n"
     ]
    },
    {
     "name": "stderr",
     "output_type": "stream",
     "text": [
      " 54%|███████████████████████████████████████████▉                                      | 45/84 [04:38<03:04,  4.73s/it]"
     ]
    },
    {
     "name": "stdout",
     "output_type": "stream",
     "text": [
      "Вывод/urfu/1/Крылов Денис Сергеевич.docx 53 1\n"
     ]
    },
    {
     "name": "stderr",
     "output_type": "stream",
     "text": [
      "\r",
      " 55%|████████████████████████████████████████████▉                                     | 46/84 [04:57<05:42,  9.01s/it]"
     ]
    },
    {
     "name": "stdout",
     "output_type": "stream",
     "text": [
      "Вывод/urfu/2/Chapa Jackson Michael.docx 8 2\n"
     ]
    },
    {
     "name": "stderr",
     "output_type": "stream",
     "text": [
      " 60%|████████████████████████████████████████████████▊                                 | 50/84 [05:15<03:00,  5.32s/it]"
     ]
    },
    {
     "name": "stdout",
     "output_type": "stream",
     "text": [
      "Вывод/urfu/2/Носов Кирилл Андреевич.docx 38 2\n"
     ]
    },
    {
     "name": "stderr",
     "output_type": "stream",
     "text": [
      " 64%|████████████████████████████████████████████████████▋                             | 54/84 [05:42<03:03,  6.12s/it]"
     ]
    },
    {
     "name": "stdout",
     "output_type": "stream",
     "text": [
      "Вывод/urfu/1/Овсянникова Анна Степановна.docx 53 1\n"
     ]
    },
    {
     "name": "stderr",
     "output_type": "stream",
     "text": [
      "\r",
      " 65%|█████████████████████████████████████████████████████▋                            | 55/84 [05:58<04:25,  9.15s/it]"
     ]
    },
    {
     "name": "stdout",
     "output_type": "stream",
     "text": [
      "Вывод/urfu/2/Шутов Алексей Игоревич.docx 28 2\n"
     ]
    },
    {
     "name": "stderr",
     "output_type": "stream",
     "text": [
      " 70%|█████████████████████████████████████████████████████████▌                        | 59/84 [06:15<02:11,  5.26s/it]"
     ]
    },
    {
     "name": "stdout",
     "output_type": "stream",
     "text": [
      "Вывод/urfu/2/Кашаев Кирилл Маратович.docx 8 2\n"
     ]
    },
    {
     "name": "stderr",
     "output_type": "stream",
     "text": [
      " 73%|███████████████████████████████████████████████████████████▌                      | 61/84 [06:26<01:56,  5.05s/it]"
     ]
    },
    {
     "name": "stdout",
     "output_type": "stream",
     "text": [
      "Вывод/urfu/1/Лапп Георгий Валентинович.docx 76 1\n"
     ]
    },
    {
     "name": "stderr",
     "output_type": "stream",
     "text": [
      " 75%|█████████████████████████████████████████████████████████████▌                    | 63/84 [07:09<04:11, 11.96s/it]"
     ]
    },
    {
     "name": "stdout",
     "output_type": "stream",
     "text": [
      "Вывод/urfu/1/Юмагуен Ришат Русланович.docx 85 1\n"
     ]
    },
    {
     "name": "stderr",
     "output_type": "stream",
     "text": [
      " 77%|███████████████████████████████████████████████████████████████▍                  | 65/84 [07:27<03:07,  9.86s/it]"
     ]
    },
    {
     "name": "stdout",
     "output_type": "stream",
     "text": [
      "Вывод/urfu/2/Савинкова Екатерина Олеговна.docx 10 2\n"
     ]
    },
    {
     "name": "stderr",
     "output_type": "stream",
     "text": [
      " 80%|█████████████████████████████████████████████████████████████████▍                | 67/84 [07:38<02:06,  7.44s/it]"
     ]
    },
    {
     "name": "stdout",
     "output_type": "stream",
     "text": [
      "Вывод/urfu/2/Бутаев Фахриддин Захиджанович.docx 38 2\n"
     ]
    },
    {
     "name": "stderr",
     "output_type": "stream",
     "text": [
      " 82%|███████████████████████████████████████████████████████████████████▎              | 69/84 [07:55<01:54,  7.66s/it]"
     ]
    },
    {
     "name": "stdout",
     "output_type": "stream",
     "text": [
      "Вывод/urfu/2/Куксенко Ирина Алексеевна.docx 15 2\n"
     ]
    },
    {
     "name": "stderr",
     "output_type": "stream",
     "text": [
      "\r",
      " 83%|████████████████████████████████████████████████████████████████████▎             | 70/84 [08:02<01:43,  7.39s/it]"
     ]
    },
    {
     "name": "stdout",
     "output_type": "stream",
     "text": [
      "Вывод/urfu/2/Долгополая Анастасия Олеговна.docx 24 2\n"
     ]
    },
    {
     "name": "stderr",
     "output_type": "stream",
     "text": [
      "\r",
      " 85%|█████████████████████████████████████████████████████████████████████▎            | 71/84 [08:14<01:52,  8.65s/it]"
     ]
    },
    {
     "name": "stdout",
     "output_type": "stream",
     "text": [
      "Вывод/urfu/2/Миськова Елизавета Леонидовна.docx 5 2\n"
     ]
    },
    {
     "name": "stderr",
     "output_type": "stream",
     "text": [
      "\r",
      " 86%|██████████████████████████████████████████████████████████████████████▎           | 72/84 [08:24<01:51,  9.29s/it]"
     ]
    },
    {
     "name": "stdout",
     "output_type": "stream",
     "text": [
      "Вывод/urfu/2/Колчанов Сергей .docx 12 2\n"
     ]
    },
    {
     "name": "stderr",
     "output_type": "stream",
     "text": [
      "\r",
      " 87%|███████████████████████████████████████████████████████████████████████▎          | 73/84 [08:33<01:38,  8.99s/it]"
     ]
    },
    {
     "name": "stdout",
     "output_type": "stream",
     "text": [
      "Вывод/urfu/2/Храмова Анастасия .docx 4 2\n"
     ]
    },
    {
     "name": "stderr",
     "output_type": "stream",
     "text": [
      "\r",
      " 88%|████████████████████████████████████████████████████████████████████████▏         | 74/84 [08:41<01:28,  8.86s/it]"
     ]
    },
    {
     "name": "stdout",
     "output_type": "stream",
     "text": [
      "Вывод/urfu/2/Кравчинская Ольга Болеславовна.docx 11 2\n"
     ]
    },
    {
     "name": "stderr",
     "output_type": "stream",
     "text": [
      "\r",
      " 89%|█████████████████████████████████████████████████████████████████████████▏        | 75/84 [08:48<01:13,  8.18s/it]"
     ]
    },
    {
     "name": "stdout",
     "output_type": "stream",
     "text": [
      "Вывод/urfu/2/Степаненко Данил Дмитриевич.docx 22 2\n"
     ]
    },
    {
     "name": "stderr",
     "output_type": "stream",
     "text": [
      " 94%|█████████████████████████████████████████████████████████████████████████████     | 79/84 [09:09<00:28,  5.73s/it]"
     ]
    },
    {
     "name": "stdout",
     "output_type": "stream",
     "text": [
      "Вывод/urfu/2/Мамаев Глеб Андреевич.docx 10 2\n"
     ]
    },
    {
     "name": "stderr",
     "output_type": "stream",
     "text": [
      " 96%|███████████████████████████████████████████████████████████████████████████████   | 81/84 [09:20<00:16,  5.43s/it]"
     ]
    },
    {
     "name": "stdout",
     "output_type": "stream",
     "text": [
      "Вывод/urfu/2/Янин Никита Денисович.docx 10 2\n"
     ]
    },
    {
     "name": "stderr",
     "output_type": "stream",
     "text": [
      "100%|██████████████████████████████████████████████████████████████████████████████████| 84/84 [09:34<00:00,  6.84s/it]\n"
     ]
    }
   ],
   "source": [
    "import matplotlib\n",
    "import warnings\n",
    "\n",
    "warnings.filterwarnings(\"ignore\")\n",
    "matplotlib.use('Agg')\n",
    "\n",
    "keys = re.findall('{{(.+)}}', docx2txt.process(template))\n",
    "keys.append('q1videoaudiourls')\n",
    "result = []\n",
    "\n",
    "for email in tqdm(emails[:84]):\n",
    "    count = 0\n",
    "    doc = DocxTemplate(template)\n",
    "    doc_a = DocxTemplate(template_a)\n",
    "    context = {}\n",
    "    for df in dfs:\n",
    "        mail = email_col(df)\n",
    "        df[mail] = df[mail].str.lower().str.replace(' ', '')\n",
    "        for key in set(df.columns.to_list()).intersection(keys):\n",
    "            try:\n",
    "                context[key] = max(df[df[mail] == email][key], key=len)\n",
    "                if key in ['score_test', 'time']:\n",
    "                    context[key] = df[df[mail] == email].groupby([mail])[key].apply('  \\n  '.join)[0]\n",
    "                elif key == 'q1videoaudiourls':\n",
    "                    count += 1\n",
    "                    context['q' + str(count)] = max(df[df[mail] == email][key], key=len)\n",
    "                elif key == 'photo':\n",
    "                    #doc1 = DocxTemplate(template)\n",
    "                    #context['photo'] = screen_update(key, email, 'image' + key + '.png', context, doc, 7)\n",
    "                    try:\n",
    "                        context['photo'] = screen_update(key, email, 'image' + key + '.png', context, doc, 7)\n",
    "                        #doc1.render(context)\n",
    "                    except:\n",
    "                        context[key] = max(df[df[mail] == email][key], key=len)\n",
    "                        pass\n",
    "                elif key == 'question':\n",
    "                    context[key] = df[df[mail] == email].groupby([mail])[key].apply('    \\n    '.join)[0]\n",
    "            except:\n",
    "                pass\n",
    "    try:\n",
    "        last, name, patronymic = context['name'].split()\n",
    "        #context['games'] = \", \".join(up_to_root(last, name, root_id))\n",
    "    except:\n",
    "        pass\n",
    "    context['name'] = max(df0[df0['ma_email'] == email]['name'], key=len)\n",
    "    context['name'] = max(df0[df0['ma_email'] == email]['name_2'], key=len) + ' ' + context['name'] + ' ' + max(df0[df0['ma_email'] == email]['name_3'], key=len)\n",
    "    context['email'] = email\n",
    "    context['city'] = re.findall('ship-(.+)/test', max(df0[df0['ma_email'] == email]['referer'], key=len))[0]\n",
    "    context['novel_score'], context['novel_translated'], context['novel_last'], context['novel_branch'], novel_numbers = novella_insert(email, data, rules)\n",
    "    cases_pizza_numbers = score_cases_pizza(context)\n",
    "    if novel_numbers != '-':\n",
    "        context['novel_pizza'] = web(doc, novel_numbers+cases_pizza_numbers)\n",
    "    else:\n",
    "        context['novel_pizza'] = web(doc, cases_pizza_numbers)\n",
    "        \n",
    "        ###GLEB\n",
    "    \"\"\"if email in test_new[0].values:\n",
    "        print(email)\n",
    "        val = max(test_new[test_new[0]==email][1].values)\n",
    "        print(val)\n",
    "        try:\n",
    "            print('+', context['score'],context['score_test'])\n",
    "        except:\n",
    "            context['score'] = str(val)\n",
    "            context['score_test'] = str(val)\n",
    "            print('=', context['score'],context['score_test'])\"\"\"\n",
    "        ###GLEB\n",
    "        \n",
    "    context['score'] = primary_point(context)\n",
    "    context.update({key: 'пропуск' for key in keys if key not in context or context[key] == ''})\n",
    "    #if context['photo'] == 'пропуск':\n",
    "    context['photo'] = InlineImage(doc, photo_default, Cm(7))\n",
    "    if context['check'] == 'yes':\n",
    "        context['check'] = 'ДА'\n",
    "    result.append([context['name'], context['email'], context['city'], context['univer'], context['phone'], context['socialmedia'], context['score']])\n",
    "    \n",
    "    \n",
    "    if context['score'] >= 40:\n",
    "        context['conc_b'] = c_b_1\n",
    "        context['conc_r'] = c_r_1\n",
    "        filepath = 'Вывод/' + context['city'] + '/1/' + context['name'] + '.docx'\n",
    "        doc.render(context)\n",
    "        doc.save(filepath)\n",
    "        print(filepath, context['score'], '1')\n",
    "        drive_write(context['name'], folder_id_1, filepath)\n",
    "    elif context['score'] > 0:\n",
    "        context['conc_b'] = c_b_2\n",
    "        context['conc_r'] = c_r_2\n",
    "        filepath = 'Вывод/' + context['city'] + '/2/' + context['name'] + '.docx'\n",
    "        print(filepath, context['score'], '2')\n",
    "        doc.render(context)\n",
    "        doc.save(filepath)\n",
    "        drive_write(context['name'], folder_id_2, filepath)\n",
    "    \n",
    "    \"\"\"\n",
    "    doc.render(context)\n",
    "    filepath = 'Вывод/' + context['name'] + '.docx'\n",
    "    print(filepath, context['score'])\n",
    "    doc.save(filepath)\n",
    "    \"\"\"\n",
    "    context_a = context.copy()\n",
    "    if novel_numbers != '-':\n",
    "        context_a['novel_pizza'] = web(doc_a, novel_numbers+cases_pizza_numbers)\n",
    "    else:\n",
    "        context_a['novel_pizza'] = web(doc_a, cases_pizza_numbers)\n",
    "    context_a['photo'] = InlineImage(doc_a, photo_default, Cm(7))\n",
    "    doc_a.render(context_a)\n",
    "    doc_a.save('Вывод/' + context_a['city'] + '/' + context_a['name'] + '.docx')\n",
    "    \n",
    "    #drive_write(context['name'], folder_names[context['city']], filepath)\n",
    "    drive_write(context_a['name'], folder_id_a, 'Вывод/' + context_a['city'] + '/' + context_a['name'] + '.docx')"
   ]
  },
  {
   "cell_type": "markdown",
   "metadata": {
    "id": "eqPOKiTumOvW"
   },
   "source": [
    "### Первичный балл (печать)"
   ]
  },
  {
   "cell_type": "code",
   "execution_count": null,
   "metadata": {
    "id": "OiNfiMuhmOvX"
   },
   "outputs": [],
   "source": [
    "result_title = \"Первичный балл \" + datetime.datetime.now().strftime(\"%Y-%m-%d_%H-%M\")\n",
    "result_pts = pd.DataFrame(result)\n",
    "result_pts.sort_values(6, ascending = False, inplace = True)\n",
    "result_pts.rename(columns={0: 'ФИО', 1: 'Почта', 2: 'Город', 3: 'Курс', 4: 'Телефон', 5: 'Сеть', 6: 'Первичный балл'}, inplace = True)\n",
    "result_pts.insert(0, \"№\", range(1, len(result_pts) + 1))\n",
    "result_pts.to_excel(\"Вывод/{}.xlsx\".format(result_title))\n",
    "#print_df(result_pts, \"Вывод/{}.docx\".format(result_title))\n",
    "#drive_write(result_title, folder_root_id, \"Вывод/\" + result_title, replace = False)"
   ]
  },
  {
   "cell_type": "code",
   "execution_count": null,
   "metadata": {
    "id": "xJdLz2NamOvX"
   },
   "outputs": [],
   "source": [
    "import xlsxwriter \n",
    "qq = 'Вывод/'+result_title+'.xlsx'\n",
    "workbook = xlsxwriter.Workbook('hyperlink.xlsx')\n",
    "worksheet = workbook.add_worksheet('Hyperlinks')\n",
    "df = pd.read_excel(qq)\n",
    "df.insert(5, 'Факультет', df['Почта'].apply(lambda x: df0[df0['ma_email'] == x]['univer_2'].values[0]))\n",
    "df.insert(2, 'Фамилия', df['Почта'].apply(lambda x: df0[df0['ma_email'] == x]['name_2'].values[0]))\n",
    "df.insert(3, 'Имя', df['Почта'].apply(lambda x: df0[df0['ma_email'] == x]['name'].values[0]))\n",
    "df.insert(4, 'Отчество', df['Почта'].apply(lambda x: df0[df0['ma_email'] == x]['name_3'].values[0]))\n",
    "try:\n",
    "    cities = df['Город'].unique()\n",
    "except:\n",
    "    pass\n",
    "link_dict = {}\n",
    "\n",
    "for city_id in [folder_id_1, folder_id_2]:\n",
    "    for file in drive.ListFile({'q': \" '%s' in parents and trashed = FALSE\" % city_id}).GetList():\n",
    "        link_dict.update({file['title']: file['alternateLink']})\n",
    "\"\"\"\n",
    "for city in cities:\n",
    "    city_id = drive.ListFile({'q': \"title = '%s'\" % city}).GetList()[0]['id']\n",
    "    for file in drive.ListFile({'q': \" '%s' in parents and trashed = FALSE\" % city_id}).GetList():\n",
    "        link_dict.update({file['title']: file['alternateLink']})\n",
    "\"\"\"\n",
    "\n",
    "df['Ссылка'] = df['ФИО'].copy()\n",
    "links = df['ФИО'].apply(lambda x: link_dict[x] if x in link_dict else 'Error').to_list()\n",
    "df['Ссылка'] = links\n",
    "df.drop(columns=['Unnamed: 0', 'ФИО'], inplace=True)\n",
    "df.to_excel('Вывод/'+context['city']+'/Анкетосики '+context['city']+'.xlsx', index=False)"
   ]
  },
  {
   "cell_type": "markdown",
   "metadata": {
    "id": "yrlfsojbmOvX"
   },
   "source": [
    "### Запись с ссылками (внимание)"
   ]
  },
  {
   "cell_type": "code",
   "execution_count": null,
   "metadata": {
    "id": "8U0Je7LnmOvX",
    "outputId": "090fd92d-3b5a-47de-8eda-b83d02cf8191"
   },
   "outputs": [
    {
     "ename": "PackageNotFoundError",
     "evalue": "Package not found at 'Вывод/Первичный балл 2022-04-07_18-31.docx'",
     "output_type": "error",
     "traceback": [
      "\u001b[1;31m---------------------------------------------------------------------------\u001b[0m",
      "\u001b[1;31mPackageNotFoundError\u001b[0m                      Traceback (most recent call last)",
      "Input \u001b[1;32mIn [56]\u001b[0m, in \u001b[0;36m<cell line: 1>\u001b[1;34m()\u001b[0m\n\u001b[1;32m----> 1\u001b[0m a\u001b[38;5;241m=\u001b[39m\u001b[43mprint_df_linked\u001b[49m\u001b[43m(\u001b[49m\u001b[38;5;124;43m'\u001b[39;49m\u001b[38;5;124;43mВывод/\u001b[39;49m\u001b[38;5;124;43m'\u001b[39;49m\u001b[38;5;241;43m+\u001b[39;49m\u001b[43mresult_title\u001b[49m\u001b[38;5;241;43m+\u001b[39;49m\u001b[38;5;124;43m'\u001b[39;49m\u001b[38;5;124;43m.docx\u001b[39;49m\u001b[38;5;124;43m'\u001b[39;49m\u001b[43m,\u001b[49m\u001b[43m \u001b[49m\u001b[38;5;124;43m'\u001b[39;49m\u001b[38;5;124;43mПервичный балл + ссылки.docx\u001b[39;49m\u001b[38;5;124;43m'\u001b[39;49m\u001b[43m)\u001b[49m\n\u001b[0;32m      2\u001b[0m a\n",
      "Input \u001b[1;32mIn [43]\u001b[0m, in \u001b[0;36mprint_df_linked\u001b[1;34m(filename_in, filename_out)\u001b[0m\n\u001b[0;32m      1\u001b[0m \u001b[38;5;28;01mdef\u001b[39;00m \u001b[38;5;21mprint_df_linked\u001b[39m(filename_in, filename_out):\n\u001b[1;32m----> 2\u001b[0m     document \u001b[38;5;241m=\u001b[39m \u001b[43mdocx\u001b[49m\u001b[38;5;241;43m.\u001b[39;49m\u001b[43mDocument\u001b[49m\u001b[43m(\u001b[49m\u001b[43mfilename_in\u001b[49m\u001b[43m)\u001b[49m\n\u001b[0;32m      4\u001b[0m     tabs \u001b[38;5;241m=\u001b[39m []\n\u001b[0;32m      5\u001b[0m     \u001b[38;5;28;01mfor\u001b[39;00m table \u001b[38;5;129;01min\u001b[39;00m document\u001b[38;5;241m.\u001b[39mtables:\n",
      "File \u001b[1;32m~\\AppData\\Local\\Programs\\Python\\Python39\\lib\\site-packages\\docx\\api.py:25\u001b[0m, in \u001b[0;36mDocument\u001b[1;34m(docx)\u001b[0m\n\u001b[0;32m     18\u001b[0m \u001b[38;5;124;03m\"\"\"\u001b[39;00m\n\u001b[0;32m     19\u001b[0m \u001b[38;5;124;03mReturn a |Document| object loaded from *docx*, where *docx* can be\u001b[39;00m\n\u001b[0;32m     20\u001b[0m \u001b[38;5;124;03meither a path to a ``.docx`` file (a string) or a file-like object. If\u001b[39;00m\n\u001b[0;32m     21\u001b[0m \u001b[38;5;124;03m*docx* is missing or ``None``, the built-in default document \"template\"\u001b[39;00m\n\u001b[0;32m     22\u001b[0m \u001b[38;5;124;03mis loaded.\u001b[39;00m\n\u001b[0;32m     23\u001b[0m \u001b[38;5;124;03m\"\"\"\u001b[39;00m\n\u001b[0;32m     24\u001b[0m docx \u001b[38;5;241m=\u001b[39m _default_docx_path() \u001b[38;5;28;01mif\u001b[39;00m docx \u001b[38;5;129;01mis\u001b[39;00m \u001b[38;5;28;01mNone\u001b[39;00m \u001b[38;5;28;01melse\u001b[39;00m docx\n\u001b[1;32m---> 25\u001b[0m document_part \u001b[38;5;241m=\u001b[39m \u001b[43mPackage\u001b[49m\u001b[38;5;241;43m.\u001b[39;49m\u001b[43mopen\u001b[49m\u001b[43m(\u001b[49m\u001b[43mdocx\u001b[49m\u001b[43m)\u001b[49m\u001b[38;5;241m.\u001b[39mmain_document_part\n\u001b[0;32m     26\u001b[0m \u001b[38;5;28;01mif\u001b[39;00m document_part\u001b[38;5;241m.\u001b[39mcontent_type \u001b[38;5;241m!=\u001b[39m CT\u001b[38;5;241m.\u001b[39mWML_DOCUMENT_MAIN:\n\u001b[0;32m     27\u001b[0m     tmpl \u001b[38;5;241m=\u001b[39m \u001b[38;5;124m\"\u001b[39m\u001b[38;5;124mfile \u001b[39m\u001b[38;5;124m'\u001b[39m\u001b[38;5;132;01m%s\u001b[39;00m\u001b[38;5;124m'\u001b[39m\u001b[38;5;124m is not a Word file, content type is \u001b[39m\u001b[38;5;124m'\u001b[39m\u001b[38;5;132;01m%s\u001b[39;00m\u001b[38;5;124m'\u001b[39m\u001b[38;5;124m\"\u001b[39m\n",
      "File \u001b[1;32m~\\AppData\\Local\\Programs\\Python\\Python39\\lib\\site-packages\\docx\\opc\\package.py:128\u001b[0m, in \u001b[0;36mOpcPackage.open\u001b[1;34m(cls, pkg_file)\u001b[0m\n\u001b[0;32m    122\u001b[0m \u001b[38;5;129m@classmethod\u001b[39m\n\u001b[0;32m    123\u001b[0m \u001b[38;5;28;01mdef\u001b[39;00m \u001b[38;5;21mopen\u001b[39m(\u001b[38;5;28mcls\u001b[39m, pkg_file):\n\u001b[0;32m    124\u001b[0m     \u001b[38;5;124;03m\"\"\"\u001b[39;00m\n\u001b[0;32m    125\u001b[0m \u001b[38;5;124;03m    Return an |OpcPackage| instance loaded with the contents of\u001b[39;00m\n\u001b[0;32m    126\u001b[0m \u001b[38;5;124;03m    *pkg_file*.\u001b[39;00m\n\u001b[0;32m    127\u001b[0m \u001b[38;5;124;03m    \"\"\"\u001b[39;00m\n\u001b[1;32m--> 128\u001b[0m     pkg_reader \u001b[38;5;241m=\u001b[39m \u001b[43mPackageReader\u001b[49m\u001b[38;5;241;43m.\u001b[39;49m\u001b[43mfrom_file\u001b[49m\u001b[43m(\u001b[49m\u001b[43mpkg_file\u001b[49m\u001b[43m)\u001b[49m\n\u001b[0;32m    129\u001b[0m     package \u001b[38;5;241m=\u001b[39m \u001b[38;5;28mcls\u001b[39m()\n\u001b[0;32m    130\u001b[0m     Unmarshaller\u001b[38;5;241m.\u001b[39munmarshal(pkg_reader, package, PartFactory)\n",
      "File \u001b[1;32m~\\AppData\\Local\\Programs\\Python\\Python39\\lib\\site-packages\\docx\\opc\\pkgreader.py:32\u001b[0m, in \u001b[0;36mPackageReader.from_file\u001b[1;34m(pkg_file)\u001b[0m\n\u001b[0;32m     27\u001b[0m \u001b[38;5;129m@staticmethod\u001b[39m\n\u001b[0;32m     28\u001b[0m \u001b[38;5;28;01mdef\u001b[39;00m \u001b[38;5;21mfrom_file\u001b[39m(pkg_file):\n\u001b[0;32m     29\u001b[0m     \u001b[38;5;124;03m\"\"\"\u001b[39;00m\n\u001b[0;32m     30\u001b[0m \u001b[38;5;124;03m    Return a |PackageReader| instance loaded with contents of *pkg_file*.\u001b[39;00m\n\u001b[0;32m     31\u001b[0m \u001b[38;5;124;03m    \"\"\"\u001b[39;00m\n\u001b[1;32m---> 32\u001b[0m     phys_reader \u001b[38;5;241m=\u001b[39m \u001b[43mPhysPkgReader\u001b[49m\u001b[43m(\u001b[49m\u001b[43mpkg_file\u001b[49m\u001b[43m)\u001b[49m\n\u001b[0;32m     33\u001b[0m     content_types \u001b[38;5;241m=\u001b[39m _ContentTypeMap\u001b[38;5;241m.\u001b[39mfrom_xml(phys_reader\u001b[38;5;241m.\u001b[39mcontent_types_xml)\n\u001b[0;32m     34\u001b[0m     pkg_srels \u001b[38;5;241m=\u001b[39m PackageReader\u001b[38;5;241m.\u001b[39m_srels_for(phys_reader, PACKAGE_URI)\n",
      "File \u001b[1;32m~\\AppData\\Local\\Programs\\Python\\Python39\\lib\\site-packages\\docx\\opc\\phys_pkg.py:30\u001b[0m, in \u001b[0;36mPhysPkgReader.__new__\u001b[1;34m(cls, pkg_file)\u001b[0m\n\u001b[0;32m     28\u001b[0m         reader_cls \u001b[38;5;241m=\u001b[39m _ZipPkgReader\n\u001b[0;32m     29\u001b[0m     \u001b[38;5;28;01melse\u001b[39;00m:\n\u001b[1;32m---> 30\u001b[0m         \u001b[38;5;28;01mraise\u001b[39;00m PackageNotFoundError(\n\u001b[0;32m     31\u001b[0m             \u001b[38;5;124m\"\u001b[39m\u001b[38;5;124mPackage not found at \u001b[39m\u001b[38;5;124m'\u001b[39m\u001b[38;5;132;01m%s\u001b[39;00m\u001b[38;5;124m'\u001b[39m\u001b[38;5;124m\"\u001b[39m \u001b[38;5;241m%\u001b[39m pkg_file\n\u001b[0;32m     32\u001b[0m         )\n\u001b[0;32m     33\u001b[0m \u001b[38;5;28;01melse\u001b[39;00m:  \u001b[38;5;66;03m# assume it's a stream and pass it to Zip reader to sort out\u001b[39;00m\n\u001b[0;32m     34\u001b[0m     reader_cls \u001b[38;5;241m=\u001b[39m _ZipPkgReader\n",
      "\u001b[1;31mPackageNotFoundError\u001b[0m: Package not found at 'Вывод/Первичный балл 2022-04-07_18-31.docx'"
     ]
    }
   ],
   "source": [
    "a=print_df_linked('Вывод/'+result_title+'.docx', 'Первичный балл + ссылки.docx')\n",
    "a"
   ]
  },
  {
   "cell_type": "markdown",
   "metadata": {
    "id": "aDo0pX2rmOvX"
   },
   "source": [
    "### Временные затраты"
   ]
  },
  {
   "cell_type": "code",
   "execution_count": null,
   "metadata": {
    "collapsed": true,
    "id": "LFI1mUm8mOvX",
    "outputId": "aa37d586-f7be-4f09-d3ff-a403d0772f3d"
   },
   "outputs": [
    {
     "name": "stdout",
     "output_type": "stream",
     "text": [
      "\n",
      "Создано 567 отчетов\n",
      "Время работы: 2697 секунд\n",
      "Cкачивание и подключение данных: 1470 секунд\n",
      "Заполнение анкет: 1227 секунд\n",
      "Средняя скорость ~ 2.164 секунд на анкету\n"
     ]
    }
   ],
   "source": [
    "print(\"\\nСоздано %s отчетов\" % len(emails))\n",
    "print(\"Время работы: %s секунд\" % round(time.time() - start_time))\n",
    "print(\"Cкачивание и подключение данных: %s секунд\" % round(middle_time - start_time))\n",
    "print(\"Заполнение анкет: %s секунд\" % round(time.time() - middle_time))\n",
    "print(\"Средняя скорость ~ %s секунд на анкету\" % round((time.time() - middle_time) / len(emails), 3))"
   ]
  },
  {
   "cell_type": "markdown",
   "metadata": {
    "id": "j5wFuqqsmOvX"
   },
   "source": [
    "### Пользовательский интерфейс (Запуск Анкеты)"
   ]
  },
  {
   "cell_type": "markdown",
   "metadata": {
    "id": "AKp43sGumOvY"
   },
   "source": [
    "import PySimpleGUI as sg\n",
    "import pandas as pd\n",
    "\n",
    "layout = [\n",
    "    [sg.Text('Таблица 1'), sg.InputText('Вопрос от Ивана Федосеева'), sg.FileBrowse('Указать путь')],\n",
    "    [sg.Text('Таблица 2'), sg.InputText('Вопрос от Ольги Орловой'), sg.FileBrowse('Указать путь')],\n",
    "    [sg.Text('Таблица 3'), sg.InputText('Вопрос от Катерины Ходуновой'), sg.FileBrowse('Указать путь')],\n",
    "    [sg.Text('Таблица 4'), sg.InputText('Вопрос от Олега Лысака'), sg.FileBrowse('Указать путь')],\n",
    "    [sg.Text('Таблица 5'), sg.InputText('Вопрос от Ивана Бородина'), sg.FileBrowse('Указать путь')],\n",
    "    [sg.Text('Таблица 6'), sg.InputText('Тестирование 21 вопрос'), sg.FileBrowse('Указать путь')],\n",
    "    [sg.Output(size=(88, 18))],\n",
    "    [sg.Submit('Запустить'), sg.Cancel('Выйти')]\n",
    "]\n",
    "\n",
    "\n",
    "email = 'bgdshv.a@gmail.com'\n",
    "context = {}\n",
    "window = sg.Window('Анкеты + Первичный Балл', layout)\n",
    "while True:\n",
    "    event, values = window.read()\n",
    "    if event in (None, 'Exit', 'Выйти'):\n",
    "        break\n",
    "    if event == 'Запустить':\n",
    "        count = 0\n",
    "        tables_input = [values[num] for num in range(6)]\n",
    "        print(tables_input)\n",
    "        ank()\n",
    "window.close()"
   ]
  }
 ],
 "metadata": {
  "colab": {
   "collapsed_sections": [
    "3Nd1fKwTmOvL",
    "bN4lOavamOvM",
    "9gt9goUmmOvM",
    "NlizN9XdmOvN",
    "MYujP1BfmOvN",
    "7JxQOgR0mOvN",
    "kqzaySSYmOvO",
    "MEUw_n5nmOvO",
    "mRRVBP8mmOvO",
    "Mcpbsp5omOvO",
    "7b-HaYUVmOvP",
    "zm4pBICrmOvP",
    "vUY3LXbVmOvP",
    "qrT7FLTWmOvQ",
    "OLh2U_XnmOvQ",
    "Xhr33mkimOvQ",
    "M6bbQwdbmOvR",
    "QteheyxSmOvR",
    "zXFdfbuCmOvR",
    "AFZmkeDImOvR",
    "VUHGZlIjmOvS",
    "FuxjNeY3mOvS",
    "XSrkRezfmOvT",
    "VqOaMXkRmOvT",
    "DrQBrliUmOvT",
    "Urnonm_imOvU",
    "k4-PJp7CmOvU",
    "bilVQ7s5mOvU",
    "oAvw3o89mOvV",
    "Dy8W-9pYmOvV",
    "eqPOKiTumOvW",
    "yrlfsojbmOvX",
    "aDo0pX2rmOvX",
    "j5wFuqqsmOvX"
   ],
   "name": "Анкеты v.2.1 [4.11.21].ipynb",
   "provenance": []
  },
  "kernelspec": {
   "display_name": "Python 3 (ipykernel)",
   "language": "python",
   "name": "python3"
  },
  "language_info": {
   "codemirror_mode": {
    "name": "ipython",
    "version": 3
   },
   "file_extension": ".py",
   "mimetype": "text/x-python",
   "name": "python",
   "nbconvert_exporter": "python",
   "pygments_lexer": "ipython3",
   "version": "3.9.10"
  }
 },
 "nbformat": 4,
 "nbformat_minor": 1
}
