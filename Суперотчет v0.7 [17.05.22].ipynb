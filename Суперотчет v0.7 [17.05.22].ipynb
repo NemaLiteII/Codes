{
 "cells": [
  {
   "cell_type": "markdown",
   "metadata": {
    "id": "zQxR9-kdTERZ"
   },
   "source": [
    "# Суперотчет\n",
    "### Библиотеки"
   ]
  },
  {
   "cell_type": "code",
   "execution_count": 1,
   "metadata": {
    "id": "yf9yxdOgTERf"
   },
   "outputs": [
    {
     "ename": "ModuleNotFoundError",
     "evalue": "No module named 'pkg_resources'",
     "output_type": "error",
     "traceback": [
      "\u001b[1;31m---------------------------------------------------------------------------\u001b[0m",
      "\u001b[1;31mModuleNotFoundError\u001b[0m                       Traceback (most recent call last)",
      "Input \u001b[1;32mIn [1]\u001b[0m, in \u001b[0;36m<module>\u001b[1;34m\u001b[0m\n\u001b[1;32m----> 1\u001b[0m \u001b[38;5;28;01mfrom\u001b[39;00m \u001b[38;5;21;01mdocxtpl\u001b[39;00m \u001b[38;5;28;01mimport\u001b[39;00m DocxTemplate, InlineImage\n\u001b[0;32m      2\u001b[0m \u001b[38;5;28;01mfrom\u001b[39;00m \u001b[38;5;21;01mdocx\u001b[39;00m\u001b[38;5;21;01m.\u001b[39;00m\u001b[38;5;21;01menum\u001b[39;00m\u001b[38;5;21;01m.\u001b[39;00m\u001b[38;5;21;01mdml\u001b[39;00m \u001b[38;5;28;01mimport\u001b[39;00m MSO_THEME_COLOR_INDEX\n\u001b[0;32m      3\u001b[0m \u001b[38;5;28;01mfrom\u001b[39;00m \u001b[38;5;21;01mdocx\u001b[39;00m\u001b[38;5;21;01m.\u001b[39;00m\u001b[38;5;21;01mshared\u001b[39;00m \u001b[38;5;28;01mimport\u001b[39;00m Cm\n",
      "File \u001b[1;32m~\\AppData\\Local\\Programs\\Python\\Python39\\lib\\site-packages\\docxtpl\\__init__.py:13\u001b[0m, in \u001b[0;36m<module>\u001b[1;34m\u001b[0m\n\u001b[0;32m     11\u001b[0m \u001b[38;5;28;01mfrom\u001b[39;00m \u001b[38;5;21;01m.\u001b[39;00m\u001b[38;5;21;01mlisting\u001b[39;00m \u001b[38;5;28;01mimport\u001b[39;00m Listing\n\u001b[0;32m     12\u001b[0m \u001b[38;5;28;01mfrom\u001b[39;00m \u001b[38;5;21;01m.\u001b[39;00m\u001b[38;5;21;01mrichtext\u001b[39;00m \u001b[38;5;28;01mimport\u001b[39;00m RichText, R\n\u001b[1;32m---> 13\u001b[0m \u001b[38;5;28;01mfrom\u001b[39;00m \u001b[38;5;21;01m.\u001b[39;00m\u001b[38;5;21;01msubdoc\u001b[39;00m \u001b[38;5;28;01mimport\u001b[39;00m Subdoc\n\u001b[0;32m     14\u001b[0m \u001b[38;5;28;01mfrom\u001b[39;00m \u001b[38;5;21;01m.\u001b[39;00m\u001b[38;5;21;01mtemplate\u001b[39;00m \u001b[38;5;28;01mimport\u001b[39;00m DocxTemplate\n",
      "File \u001b[1;32m~\\AppData\\Local\\Programs\\Python\\Python39\\lib\\site-packages\\docxtpl\\subdoc.py:11\u001b[0m, in \u001b[0;36m<module>\u001b[1;34m\u001b[0m\n\u001b[0;32m      9\u001b[0m \u001b[38;5;28;01mfrom\u001b[39;00m \u001b[38;5;21;01mdocx\u001b[39;00m\u001b[38;5;21;01m.\u001b[39;00m\u001b[38;5;21;01moxml\u001b[39;00m \u001b[38;5;28;01mimport\u001b[39;00m CT_SectPr\n\u001b[0;32m     10\u001b[0m \u001b[38;5;28;01mfrom\u001b[39;00m \u001b[38;5;21;01mdocx\u001b[39;00m\u001b[38;5;21;01m.\u001b[39;00m\u001b[38;5;21;01mopc\u001b[39;00m\u001b[38;5;21;01m.\u001b[39;00m\u001b[38;5;21;01mconstants\u001b[39;00m \u001b[38;5;28;01mimport\u001b[39;00m RELATIONSHIP_TYPE \u001b[38;5;28;01mas\u001b[39;00m RT\n\u001b[1;32m---> 11\u001b[0m \u001b[38;5;28;01mfrom\u001b[39;00m \u001b[38;5;21;01mdocxcompose\u001b[39;00m\u001b[38;5;21;01m.\u001b[39;00m\u001b[38;5;21;01mproperties\u001b[39;00m \u001b[38;5;28;01mimport\u001b[39;00m CustomProperties\n\u001b[0;32m     12\u001b[0m \u001b[38;5;28;01mfrom\u001b[39;00m \u001b[38;5;21;01mdocxcompose\u001b[39;00m\u001b[38;5;21;01m.\u001b[39;00m\u001b[38;5;21;01mutils\u001b[39;00m \u001b[38;5;28;01mimport\u001b[39;00m xpath\n\u001b[0;32m     13\u001b[0m \u001b[38;5;28;01mfrom\u001b[39;00m \u001b[38;5;21;01mdocxcompose\u001b[39;00m\u001b[38;5;21;01m.\u001b[39;00m\u001b[38;5;21;01mcomposer\u001b[39;00m \u001b[38;5;28;01mimport\u001b[39;00m Composer\n",
      "File \u001b[1;32m~\\AppData\\Local\\Programs\\Python\\Python39\\lib\\site-packages\\docxcompose\\properties.py:17\u001b[0m, in \u001b[0;36m<module>\u001b[1;34m\u001b[0m\n\u001b[0;32m     15\u001b[0m \u001b[38;5;28;01mfrom\u001b[39;00m \u001b[38;5;21;01msix\u001b[39;00m \u001b[38;5;28;01mimport\u001b[39;00m binary_type\n\u001b[0;32m     16\u001b[0m \u001b[38;5;28;01mfrom\u001b[39;00m \u001b[38;5;21;01msix\u001b[39;00m \u001b[38;5;28;01mimport\u001b[39;00m text_type\n\u001b[1;32m---> 17\u001b[0m \u001b[38;5;28;01mimport\u001b[39;00m \u001b[38;5;21;01mpkg_resources\u001b[39;00m\n\u001b[0;32m     18\u001b[0m \u001b[38;5;28;01mimport\u001b[39;00m \u001b[38;5;21;01mre\u001b[39;00m\n\u001b[0;32m     21\u001b[0m CUSTOM_PROPERTY_FMTID \u001b[38;5;241m=\u001b[39m \u001b[38;5;124m'\u001b[39m\u001b[38;5;124m{\u001b[39m\u001b[38;5;124mD5CDD505-2E9C-101B-9397-08002B2CF9AE}\u001b[39m\u001b[38;5;124m'\u001b[39m\n",
      "\u001b[1;31mModuleNotFoundError\u001b[0m: No module named 'pkg_resources'"
     ]
    }
   ],
   "source": [
    "from docxtpl import DocxTemplate, InlineImage\n",
    "from docx.enum.dml import MSO_THEME_COLOR_INDEX\n",
    "from docx.shared import Cm\n",
    "import numpy as np\n",
    "import pandas as pd \n",
    "from math import pi\n",
    "from pydrive.auth import GoogleAuth\n",
    "from pydrive.drive import GoogleDrive\n",
    "import requests\n",
    "import re\n",
    "from string import ascii_letters\n",
    "import ast\n",
    "import docx2txt\n",
    "import json\n",
    "import docx\n",
    "import os\n",
    "import time\n",
    "import datetime\n",
    "import PySimpleGUI as sg\n",
    "from string import punctuation\n",
    "from pymystem3 import Mystem\n",
    "#from stop_words import get_stop_words\n",
    "from matplotlib.patches import Circle, RegularPolygon\n",
    "from matplotlib.path import Path\n",
    "from matplotlib.projections.polar import PolarAxes\n",
    "from matplotlib.projections import register_projection\n",
    "from matplotlib.spines import Spine\n",
    "from matplotlib.transforms import Affine2D\n",
    "from matplotlib.ticker import FixedLocator\n",
    "import matplotlib.pyplot as plt\n",
    "from tqdm import tqdm\n",
    "import smtplib\n",
    "from email.mime.multipart import MIMEMultipart\n",
    "from email.mime.text import MIMEText\n",
    "from flask.json import jsonify\n",
    "import matplotlib as mpltl"
   ]
  },
  {
   "cell_type": "markdown",
   "metadata": {
    "id": "jlnpt4y8TERh"
   },
   "source": [
    "### Диск"
   ]
  },
  {
   "cell_type": "code",
   "execution_count": null,
   "metadata": {
    "id": "KVCOyR_ZTERi",
    "outputId": "f2c598f7-6485-4dbb-eb00-f8789ad9c737"
   },
   "outputs": [
    {
     "name": "stdout",
     "output_type": "stream",
     "text": [
      "Your browser has been opened to visit:\n",
      "\n",
      "    https://accounts.google.com/o/oauth2/auth?client_id=922428539074-3lcp6a62nd735nvdh38lj548n223snd0.apps.googleusercontent.com&redirect_uri=http%3A%2F%2Flocalhost%3A8080%2F&scope=https%3A%2F%2Fwww.googleapis.com%2Fauth%2Fdrive&access_type=offline&response_type=code\n",
      "\n",
      "Authentication successful.\n"
     ]
    }
   ],
   "source": [
    "gauth = GoogleAuth()\n",
    "gauth.LocalWebserverAuth()\n",
    "drive = GoogleDrive(gauth)"
   ]
  },
  {
   "cell_type": "markdown",
   "metadata": {
    "id": "M9o28WICTERj"
   },
   "source": [
    "### ID папки с таблицами и видеовопросами"
   ]
  },
  {
   "cell_type": "code",
   "execution_count": null,
   "metadata": {
    "id": "_qTgtHy3TERk"
   },
   "outputs": [],
   "source": [
    "tables_root_id = drive.ListFile({'q': \"title = 'Таблицы -> Анкеты'\"}).GetList()[0]['id']\n",
    "videoquest_folder_names = ['Вопрос от Катерины Ходуновой', 'Вопрос от Олега Лысака']\n",
    "videoquest_root_ids = [drive.ListFile({'q': \"title = '{}'\".format(name)}).GetList()[0]['id'] for name in videoquest_folder_names]"
   ]
  },
  {
   "cell_type": "markdown",
   "metadata": {
    "id": "R_NhEQndTERk"
   },
   "source": [
    "### Все таблицы с данными"
   ]
  },
  {
   "cell_type": "code",
   "execution_count": null,
   "metadata": {
    "id": "szXgyYO2TERl",
    "outputId": "21bd0980-4adf-4820-e7e8-d84751d201aa"
   },
   "outputs": [
    {
     "name": "stdout",
     "output_type": "stream",
     "text": [
      "Шаблон отчета v.5.0a.docx\n"
     ]
    },
    {
     "data": {
      "text/plain": [
       "['Nice2MeetYou.xlsx',\n",
       " 'QuestionsFromStudents.xlsx',\n",
       " 'Cases.xlsx',\n",
       " 'Game.xlsx',\n",
       " 'Knowledge.xlsx',\n",
       " 'TestOpinion.xlsx',\n",
       " 'Теория технологического предпринимательства - тест.xlsx',\n",
       " 'Вопрос+от+Катерины+Ходуновой.xlsx',\n",
       " 'Вопрос+от+Олега+Лысака.xlsx']"
      ]
     },
     "execution_count": 4,
     "metadata": {},
     "output_type": "execute_result"
    }
   ],
   "source": [
    "tables = []\n",
    "file_list = drive.ListFile({'q': \" '%s' in parents and trashed = FALSE\" % tables_root_id}).GetList()\n",
    "for file in file_list:\n",
    "    if file['title'] == 'Шаблон отчета v.5.0a.docx':\n",
    "    #if file['title'] == 'Шаблон отчета v.5.0.docx':\n",
    "        print(file['title'])\n",
    "        file.GetContentFile(file['title'])\n",
    "        template = file['title']\n",
    "    if file['mimeType'] == 'application/vnd.google-apps.spreadsheet':\n",
    "        file.GetContentFile(file['title'] + '.xlsx', mimetype = 'application/vnd.openxmlformats-officedocument.spreadsheetml.sheet')\n",
    "        tables.append(file['title'] + '.xlsx')\n",
    "    if file['mimeType'] == 'application/vnd.openxmlformats-officedocument.spreadsheetml.sheet':\n",
    "        #if file['title'] == 'Тестирование. 21 вопрос.xlsx':\n",
    "        #    file.GetContentFile(file['title'])\n",
    "        #    tables.append(file['title'])\n",
    "        if file['title'] == 'Теория технологического предпринимательства - тест.xlsx':\n",
    "            file.GetContentFile(file['title'])\n",
    "            tables.append(file['title'])\n",
    "    if file['mimeType'] == 'text/csv':\n",
    "        file.GetContentFile(file['title'])\n",
    "        tables.append(file['title'])\n",
    "for file_id in videoquest_root_ids:\n",
    "    file = drive.ListFile({'q': \" '%s' in parents and trashed = FALSE\" % file_id}).GetList()[0]\n",
    "    file.GetContentFile(file['title'])\n",
    "    tables.append(file['title'])\n",
    "tables"
   ]
  },
  {
   "cell_type": "markdown",
   "metadata": {
    "id": "88WQCXJ-TERm"
   },
   "source": [
    "### Таблицы к DataFrame"
   ]
  },
  {
   "cell_type": "code",
   "execution_count": null,
   "metadata": {
    "id": "gpsy8sWWTERn"
   },
   "outputs": [],
   "source": [
    "dfs = []\n",
    "for table in tables:\n",
    "    df = pd.read_excel(table, dtype = str, keep_default_na = False)\n",
    "    if 'Потрачено времени' in df.columns:\n",
    "        df = df.iloc[1:]\n",
    "        df['Процент правильных ответов (%)'] = df['Процент правильных ответов (%)'].apply(float).round().apply(int).apply(str)\n",
    "        df.rename(columns = {'Потрачено времени': 'time', 'Процент правильных ответов (%)': 'score_test'}, inplace = True)\n",
    "    df.columns = [col.replace(' ', '').replace('/', '').replace('.', '').lower() for col in df.columns]\n",
    "    dfs.append(df)"
   ]
  },
  {
   "cell_type": "markdown",
   "metadata": {
    "id": "CXf2Fz4-TERn"
   },
   "source": [
    "### Получение имен, городов"
   ]
  },
  {
   "cell_type": "code",
   "execution_count": null,
   "metadata": {
    "id": "eEK5pUPGTERo",
    "outputId": "86bba462-63e4-4619-b240-be4032a299fd"
   },
   "outputs": [
    {
     "data": {
      "text/plain": [
       "array(['bgdshv.a@gmail.com', 'elashkina.anna@gmail.com',\n",
       "       'fedoseev.is@enrubattery.ru', ..., 'fejlucksfate@gmail.com',\n",
       "       'den.kustov.03@mail.ru', 'polly.2003t@gmail.com'], dtype=object)"
      ]
     },
     "execution_count": 6,
     "metadata": {},
     "output_type": "execute_result"
    }
   ],
   "source": [
    "index_table = [tab for tab in tables if tab.startswith('Nice')][0]\n",
    "df0 = pd.read_excel(index_table, dtype = str, keep_default_na = False)\n",
    "df0['gorodprojivaniya'].replace('/', ';', regex=True, inplace=True)\n",
    "df0['ma_email'] = df0['ma_email'].str.lower()\n",
    "emails = df0['ma_email'][:].unique()\n",
    "emails"
   ]
  },
  {
   "cell_type": "markdown",
   "metadata": {
    "id": "PBZnPWOETERo"
   },
   "source": [
    "### Колонка почты"
   ]
  },
  {
   "cell_type": "code",
   "execution_count": null,
   "metadata": {
    "id": "h4snKi2tTERp"
   },
   "outputs": [],
   "source": [
    "def email_col(df):\n",
    "    return max([col for col in df.columns if 'mail' in col], key=len)"
   ]
  },
  {
   "cell_type": "markdown",
   "metadata": {
    "id": "5qmWmhKlTERp"
   },
   "source": [
    "## Первичный балл"
   ]
  },
  {
   "cell_type": "markdown",
   "metadata": {
    "id": "UvYGJYpfTERq"
   },
   "source": [
    "### Словарь баллов"
   ]
  },
  {
   "cell_type": "code",
   "execution_count": 1,
   "metadata": {
    "executionInfo": {
     "elapsed": 15,
     "status": "ok",
     "timestamp": 1656337152460,
     "user": {
      "displayName": "Mark Kan",
      "userId": "15244986316179496233"
     },
     "user_tz": -180
    },
    "id": "sjPsFWZjTERq"
   },
   "outputs": [],
   "source": [
    "primary_keys_dict = {'chtoudivilomaterials': 5, 'chtorazozlilomaterials': 5,\n",
    "                                'vopros1': 1, 'vopros2': 1, 'vopros3': 1,\n",
    "                                'q1': 4, 'q2': 4,\n",
    "                                'question': 3}\n",
    "primary_cases_list = ['case1', 'case2', 'case3', 'case4']"
   ]
  },
  {
   "cell_type": "markdown",
   "metadata": {
    "id": "-BscPJbnTERr"
   },
   "source": [
    "### Токенизация"
   ]
  },
  {
   "cell_type": "code",
   "execution_count": 2,
   "metadata": {
    "colab": {
     "base_uri": "https://localhost:8080/",
     "height": 253
    },
    "executionInfo": {
     "elapsed": 21,
     "status": "error",
     "timestamp": 1656337152467,
     "user": {
      "displayName": "Mark Kan",
      "userId": "15244986316179496233"
     },
     "user_tz": -180
    },
    "id": "vflkou26TERr",
    "outputId": "fe3da9ee-f708-4339-d5d6-84b9cf450d48"
   },
   "outputs": [
    {
     "ename": "NameError",
     "evalue": "ignored",
     "output_type": "error",
     "traceback": [
      "\u001b[0;31m---------------------------------------------------------------------------\u001b[0m",
      "\u001b[0;31mNameError\u001b[0m                                 Traceback (most recent call last)",
      "\u001b[0;32m<ipython-input-2-1cc96ca4b2b0>\u001b[0m in \u001b[0;36m<module>\u001b[0;34m()\u001b[0m\n\u001b[1;32m      1\u001b[0m \u001b[0;31m# Lemmatizer and stopwords\u001b[0m\u001b[0;34m\u001b[0m\u001b[0;34m\u001b[0m\u001b[0;34m\u001b[0m\u001b[0m\n\u001b[0;32m----> 2\u001b[0;31m \u001b[0mmystem\u001b[0m \u001b[0;34m=\u001b[0m \u001b[0mMystem\u001b[0m\u001b[0;34m(\u001b[0m\u001b[0;34m)\u001b[0m\u001b[0;34m\u001b[0m\u001b[0;34m\u001b[0m\u001b[0m\n\u001b[0m\u001b[1;32m      3\u001b[0m \u001b[0;31m#stop_words = set(get_stop_words('russian'))\u001b[0m\u001b[0;34m\u001b[0m\u001b[0;34m\u001b[0m\u001b[0;34m\u001b[0m\u001b[0m\n\u001b[1;32m      4\u001b[0m \u001b[0mstop_words\u001b[0m \u001b[0;34m=\u001b[0m \u001b[0;34m{\u001b[0m\u001b[0;34m'восьмой'\u001b[0m\u001b[0;34m,\u001b[0m \u001b[0;34m'многочисленное'\u001b[0m\u001b[0;34m,\u001b[0m \u001b[0;34m'свою'\u001b[0m\u001b[0;34m,\u001b[0m \u001b[0;34m'нх'\u001b[0m\u001b[0;34m,\u001b[0m \u001b[0;34m'наше'\u001b[0m\u001b[0;34m,\u001b[0m \u001b[0;34m'ними'\u001b[0m\u001b[0;34m,\u001b[0m \u001b[0;34m'тут'\u001b[0m\u001b[0;34m,\u001b[0m \u001b[0;34m'нею'\u001b[0m\u001b[0;34m,\u001b[0m \u001b[0;34m'мною'\u001b[0m\u001b[0;34m,\u001b[0m \u001b[0;34m'чего'\u001b[0m\u001b[0;34m,\u001b[0m \u001b[0;34m'перед'\u001b[0m\u001b[0;34m,\u001b[0m \u001b[0;34m'по'\u001b[0m\u001b[0;34m,\u001b[0m \u001b[0;34m'будто'\u001b[0m\u001b[0;34m,\u001b[0m \u001b[0;34m'вверх'\u001b[0m\u001b[0;34m,\u001b[0m \u001b[0;34m'мы'\u001b[0m\u001b[0;34m,\u001b[0m \u001b[0;34m'этой'\u001b[0m\u001b[0;34m,\u001b[0m \u001b[0;34m'мне'\u001b[0m\u001b[0;34m,\u001b[0m \u001b[0;34m'четырнадцать'\u001b[0m\u001b[0;34m,\u001b[0m \u001b[0;34m'иметь'\u001b[0m\u001b[0;34m,\u001b[0m \u001b[0;34m'будет'\u001b[0m\u001b[0;34m,\u001b[0m \u001b[0;34m'близко'\u001b[0m\u001b[0;34m,\u001b[0m \u001b[0;34m'одного'\u001b[0m\u001b[0;34m,\u001b[0m \u001b[0;34m'теперь'\u001b[0m\u001b[0;34m,\u001b[0m \u001b[0;34m'собою'\u001b[0m\u001b[0;34m,\u001b[0m \u001b[0;34m'свои'\u001b[0m\u001b[0;34m,\u001b[0m \u001b[0;34m'восемнадцатый'\u001b[0m\u001b[0;34m,\u001b[0m \u001b[0;34m'ли'\u001b[0m\u001b[0;34m,\u001b[0m \u001b[0;34m'зато'\u001b[0m\u001b[0;34m,\u001b[0m \u001b[0;34m'мож'\u001b[0m\u001b[0;34m,\u001b[0m \u001b[0;34m'сказал'\u001b[0m\u001b[0;34m,\u001b[0m \u001b[0;34m'пятнадцать'\u001b[0m\u001b[0;34m,\u001b[0m \u001b[0;34m'сих'\u001b[0m\u001b[0;34m,\u001b[0m \u001b[0;34m'важные'\u001b[0m\u001b[0;34m,\u001b[0m \u001b[0;34m'разве'\u001b[0m\u001b[0;34m,\u001b[0m \u001b[0;34m'твоя'\u001b[0m\u001b[0;34m,\u001b[0m \u001b[0;34m'сами'\u001b[0m\u001b[0;34m,\u001b[0m \u001b[0;34m'без'\u001b[0m\u001b[0;34m,\u001b[0m \u001b[0;34m'почти'\u001b[0m\u001b[0;34m,\u001b[0m \u001b[0;34m'тринадцатый'\u001b[0m\u001b[0;34m,\u001b[0m \u001b[0;34m'почему'\u001b[0m\u001b[0;34m,\u001b[0m \u001b[0;34m'об'\u001b[0m\u001b[0;34m,\u001b[0m \u001b[0;34m'семнадцатый'\u001b[0m\u001b[0;34m,\u001b[0m \u001b[0;34m'лет'\u001b[0m\u001b[0;34m,\u001b[0m \u001b[0;34m'многочисленные'\u001b[0m\u001b[0;34m,\u001b[0m \u001b[0;34m'ну'\u001b[0m\u001b[0;34m,\u001b[0m \u001b[0;34m'ещё'\u001b[0m\u001b[0;34m...\n\u001b[1;32m      5\u001b[0m \u001b[0;34m\u001b[0m\u001b[0m\n",
      "\u001b[0;31mNameError\u001b[0m: name 'Mystem' is not defined"
     ]
    }
   ],
   "source": [
    "# Lemmatizer and stopwords\n",
    "mystem = Mystem() \n",
    "#stop_words = set(get_stop_words('russian'))\n",
    "stop_words = {'восьмой', 'многочисленное', 'свою', 'нх', 'наше', 'ними', 'тут', 'нею', 'мною', 'чего', 'перед', 'по', 'будто', 'вверх', 'мы', 'этой', 'мне', 'четырнадцать', 'иметь', 'будет', 'близко', 'одного', 'теперь', 'собою', 'свои', 'восемнадцатый', 'ли', 'зато', 'мож', 'сказал', 'пятнадцать', 'сих', 'важные', 'разве', 'твоя', 'сами', 'без', 'почти', 'тринадцатый', 'почему', 'об', 'семнадцатый', 'лет', 'многочисленные', 'ну', 'ещё', 'всею', 'вами', 'также', 'конечно', 'ему', 'вас', 'восемь', 'над', 'года', 'мои', 'том', 'ваши', 'или', 'меля', 'больше', 'раньше', 'самими', 'стал', 'того', 'мог', 'важная', 'же', 'та', 'ничего', 'еще', 'можхо', 'сказала', 'да', 'десятый', 'затем', 'ж', 'процентов', 'другие', 'вниз', 'лучше', 'ее', 'твой', 'во', 'ни', 'ней', 'говорил', 'довольно', 'с', 'надо', 'сколько', 'всё', 'двадцать', 'самим', 'уже', 'занято', 'низко', 'другой', 'двенадцатый', 'всегда', 'которой', 'своей', 'вдали', 'у', 'до', 'его', 'наши', 'мочь', 'отовсюду', 'нужно', 'долго', 'две', 'меня', 'одиннадцать', 'тебя', 'но', 'сегодня', 'он', 'которые', 'кроме', 'этими', 'вам', 'какой', 'бывает', 'будете', 'за', 'девять', 'недалеко', 'более', 'самому', 'её', 'каждая', 'рано', 'всю', 'однажды', 'сейчас', 'девятнадцатый', 'важный', 'многочисленный', 'себя', 'совсем', 'сказать', 'эту', 'всему', 'про', 'занята', 'вся', 'имя', 'бы', 'нам', 'одной', 'миллионов', 'тех', 'туда', 'дел', 'три', 'уж', 'внизу', 'оба', 'моё', 'их', 'чему', 'кругом', 'раз', 'кому', 'мимо', 'сначала', 'эта', 'прекрасно', 'кого', 'которая', 'нельзя', 'где', 'была', 'рядом', 'те', 'всех', 'десять', 'везде', 'каждые', 'особенно', 'никуда', 'ваш', 'иногда', 'мало', 'неё', 'что', 'жизнь', 'между', 'однако', 'пожалуйста', 'которых', 'многочисленная', 'всем', 'могут', 'хотя', 'этим', 'сама', 'тринадцать', 'чтобы', 'ком', 'несколько', 'уметь', 'всюду', 'должно', 'самой', 'теми', 'чуть', 'каждый', 'наша', 'этот', 'седьмой', 'я', 'кто', 'эти', 'давно', 'нибудь', 'которого', 'такое', 'все', 'значит', 'тем', 'тому', 'а', 'четырнадцатый', 'наш', 'сам', 'меньше', 'этом', 'моя', 'снова', 'недавно', 'пять', 'этого', 'то', 'позже', 'потому', 'для', 'человек', 'из', 'наверху', 'потом', 'говорит', 'других', 'наконец', 'вы', 'начала', 'второй', 'после', 'бывь', 'будут', 'часто', 'она', 'самих', 'семь', 'году', 'этому', 'саму', 'им', 'какая', 'своих', 'ими', 'при', 'нему', 'никогда', 'двадцатый', 'тот', 'четыре', 'девятый', 'восемнадцать', 'люди', 'них', 'около', 'мой', 'двенадцать', 'четвертый', 'будешь', 'на', 'чтоб', 'шестнадцать', 'вдруг', 'этих', 'тобой', 'ты', 'хотеть', 'как', 'мной', 'буду', 'было', 'шесть', 'мира', 'и', 'пока', 'даже', 'здесь', 'непрерывно', 'были', 'ниже', 'всего', 'само', 'ту', 'своего', 'такие', 'нет', 'двух', 'в', 'свое', 'будь', 'под', 'вокруг', 'пор', 'пятнадцатый', 'твоё', 'был', 'г', 'времени', 'куда', 'шестой', 'если', 'будем', 'такая', 'есть', 'может', 'пора', 'оно', 'далеко', 'немного', 'один', 'отсюда', 'такой', 'ваше', 'тебе', 'через', 'ваша', 'девятнадцать', 'чаще', 'хорошо', 'там', 'тогда', 'о', 'нередко', 'очень', 'лишь', 'опять', 'тысяч', 'ей', 'тобою', 'назад', 'тою', 'шестнадцатый', 'весь', 'спасибо', 'суть', 'него', 'пятый', 'одиннадцатый', 'время', 'дальше', 'друго', 'чем', 'не', 'ведь', 'вот', 'хочешь', 'так', 'даром', 'самом', 'можно', 'себе', 'много', 'посреди', 'занят', 'это', 'всеми', 'день', 'действительно', 'просто', 'важное', 'менее', 'третий', 'сеаой', 'нас', 'алло', 'который', 'самого', 'обычно', 'вон', 'год', 'нее', 'кем', 'хоть', 'нем', 'другое', 'первый', 'именно', 'м', 'они', 'т', 'быть', 'мор', 'два', 'когда', 'слишком', 'к', 'ею', 'кажется', 'от', 'семнадцать', 'со', 'е', 'против', 'зачем', 'впрочем', 'каждое', 'тоже', 'нами', 'только', 'заняты', 'другая', 'собой', 'наиболее'}\n",
    "\n",
    "# Preprocess function\n",
    "def preprocess_text(text):\n",
    "    tokens = mystem.lemmatize(re.sub(r'\\d+', '', text.lower()))\n",
    "    tokens = [token for token in tokens if token not in stop_words\n",
    "              and token != \" \"\n",
    "              and token.strip() not in punctuation]\n",
    "    \n",
    "    return list(dict.fromkeys(tokens))\n",
    "\n",
    "def case_counter(text, case):\n",
    "    tokens = preprocess_text(text)\n",
    "    \n",
    "    return sum(word in dict_cases[case] for word in tokens)"
   ]
  },
  {
   "cell_type": "markdown",
   "metadata": {
    "id": "3wTwT95mTERs"
   },
   "source": [
    "### Словари кейсов"
   ]
  },
  {
   "cell_type": "code",
   "execution_count": null,
   "metadata": {
    "executionInfo": {
     "elapsed": 13,
     "status": "aborted",
     "timestamp": 1656337152461,
     "user": {
      "displayName": "Mark Kan",
      "userId": "15244986316179496233"
     },
     "user_tz": -180
    },
    "id": "H7cRYm2hTERs"
   },
   "outputs": [],
   "source": [
    "dict_cases = {\n",
    "    'case1': \"представлять предприниматель компания заниматься разработка высокоточный станок производство пробный партия необходимо купить специальный клей исследовать возможный предложение интернет понимать поставка организовывать германия необходимый количество стоять евро самостоятельно приходиться сделать следующий заплатить закупка доставка налог пошлина потратить рабочий оформление документ ждать счастие инженер отец жить близкий собираться навещать сын заказывать домой привозить багаж неделя действовать официальный воспользоваться удачный стечение обстоятельство написать цепочка рассуждение подробно аргументировать ответ\".split(' '),\n",
    "    'case2': \"представлять коммерческий директор компания разработка отопительный котел новый поколение месяц выпускать прототип показывать заказчик огромный строительный фирма оставаться довольный сделать следующий предложение готовый купить экземпляр пробный запускать достраивать здание проба продлиться оказываться годный сразу партия знать рынок конкурент каков особенность продукция данный момент участвовать испытание соглашаться отдавать начинать оформлять тз производство штука контрактный главный разработчик сообщать находить решение повышать производительность переделывать опытный образец конструкторский бюро проверять тестовый стенд число поменять короб помещаться отправлять устаревать конструкция инженер говорить срочно предлагать вернуть тестирование утверждать  % ,  вариант причина выбирать стоять вопрос обращаться прерывать середина путь технический характеристика продукт рискнуть потратить деньги подготовка документация улучшать точно скоро хороший примета складываться ситуация написать цепочка рассуждение подробно аргументировать ответ\".split(' '),\n",
    "    'case3': \"представлять молодой предприниматель открывать небольшой стартап партнерство одногруппник разрабатывать крутой приложение смартфон уверять взлетать пользоваться огромный спрос очередной этап разработка понимать свой деньги хватать нужный инвестиция нанимать дополнительный разработчик дизайнер тестировщик покупать лицензия облако место надежный сервер посчитать близкий находить млн рубль неделя поиск приходить кредитный предложение банк предлагать вполне сносный условие взять льготный годовой получать перевод завтра отвечать венчурный фонд mobileventures согласный проинвестировать транш входить доля ждать результат месяц возможный следующий раунд переговоры партнер встречаться двоюродный дядя рассказывать идея понравиться склон скопить приличный сумма заниматься поставка продукт питание из-за рубеж готовый вкладывать единственный поставлять держать курс дело принятие решение интересно следить строиться новый технология поступать источник вообще написать цепочка рассуждение подробно аргументировать ответ\".split(' '),\n",
    "    'case4': \"представлять начальник департамент инновация крупный корпорация подобный ibm усиливать инновационность деятельность собственно продукт достаточно большой бюджет поставлять амбициозный задача ряд проектный сессия вариант деньги выделять хватить начинать инвестировать самостоятельно фонд молодой стартапа нужный направление ожидать выходить улучшать повышать эффективность работа самый инвестиция предполагать получение доля компания должный возвращать последствие либо полностью выкупать процент успешность оценивать предлагать сотрудник сумма экономия приносить идея обязывать гарантировать рассмотрение поступать обоснованный ответ случай отказ принимать  –  таков корпоративный этика решение совещание совет директор\".split(' ')\n",
    "    }"
   ]
  },
  {
   "cell_type": "markdown",
   "metadata": {
    "id": "JuE5Mh4LTERt"
   },
   "source": [
    "### Словари новеллы"
   ]
  },
  {
   "cell_type": "code",
   "execution_count": null,
   "metadata": {
    "executionInfo": {
     "elapsed": 13,
     "status": "aborted",
     "timestamp": 1656337152461,
     "user": {
      "displayName": "Mark Kan",
      "userId": "15244986316179496233"
     },
     "user_tz": -180
    },
    "id": "KOC2tdzeTERt"
   },
   "outputs": [],
   "source": [
    "q_scored = ['q23', 'q50', 'q34', 'q41', 'q48', 'q62', 'q70']\n",
    "q_translated = ['q10', 'q18', 'q33', 'q40', 'q45', 'q48', 'q59', 'q60', 'q61', 'q70']"
   ]
  },
  {
   "cell_type": "markdown",
   "metadata": {
    "id": "oLeLm4k_TERu"
   },
   "source": [
    "### ID папки с новеллой"
   ]
  },
  {
   "cell_type": "code",
   "execution_count": null,
   "metadata": {
    "executionInfo": {
     "elapsed": 14,
     "status": "aborted",
     "timestamp": 1656337152463,
     "user": {
      "displayName": "Mark Kan",
      "userId": "15244986316179496233"
     },
     "user_tz": -180
    },
    "id": "C5vhZ02KTERu"
   },
   "outputs": [],
   "source": [
    "novella_root_id = drive.ListFile({'q': \"title = 'НовеллаБД'\"}).GetList()[0]['id']"
   ]
  },
  {
   "cell_type": "markdown",
   "metadata": {
    "id": "A1fEERLGTERv"
   },
   "source": [
    "### Загружаем данные о новелле"
   ]
  },
  {
   "cell_type": "code",
   "execution_count": null,
   "metadata": {
    "executionInfo": {
     "elapsed": 14,
     "status": "aborted",
     "timestamp": 1656337152463,
     "user": {
      "displayName": "Mark Kan",
      "userId": "15244986316179496233"
     },
     "user_tz": -180
    },
    "id": "JiG0no9yTERv"
   },
   "outputs": [],
   "source": [
    "file_list = drive.ListFile({'q': \" '%s' in parents and trashed = FALSE\" % novella_root_id}).GetList()\n",
    "for file in file_list:\n",
    "    if file['mimeType'] == 'application/vnd.openxmlformats-officedocument.spreadsheetml.sheet':\n",
    "        file.GetContentFile(file['title'])\n",
    "        rules = pd.read_excel(file['title'])\n",
    "    #if file['mimeType'] == 'text/csv':\n",
    "    #    file.GetContentFile(file['title'])\n",
    "    #    data = pd.read_csv(file['title'], sep = \";\", encoding=\"windows-1251\", quotechar = '\"')\n",
    "url = 'https://10education.ru'\n",
    "r = requests.get(url)\n",
    "first_list = r.text.split('<br />')\n",
    "index_pass = first_list[0].index('/html')\n",
    "first_list[0] = first_list[0][index_pass+10:]\n",
    "second_list = [string.split(' - ') for string in first_list]\n",
    "df = pd.DataFrame(second_list)\n",
    "columns_names = {0: 'username', 1: 'email', 2: 'password', 3: 'history_new'}\n",
    "data = df.rename(columns=columns_names)\n",
    "data['ma_email'] = data['email']\n",
    "data = data[:-1]"
   ]
  },
  {
   "cell_type": "markdown",
   "metadata": {
    "id": "aIcJDI2LTERv"
   },
   "source": [
    "### Добавляем данные о новелле"
   ]
  },
  {
   "cell_type": "code",
   "execution_count": null,
   "metadata": {
    "executionInfo": {
     "elapsed": 14,
     "status": "aborted",
     "timestamp": 1656337152464,
     "user": {
      "displayName": "Mark Kan",
      "userId": "15244986316179496233"
     },
     "user_tz": -180
    },
    "id": "vJ-du42PTERw"
   },
   "outputs": [],
   "source": [
    "def novella_insert(email, data, rules):\n",
    "    if data[data['email'] == email]['history_new'].to_list() != []:\n",
    "        h_str = data[data['email'] == email]['history_new'].to_list()[0]\n",
    "        h_json = json.loads(h_str)\n",
    "        h_list = [rec for rec in h_json.values() if rec != {}]\n",
    "        if h_list == []:\n",
    "            return('-', '-', '-', '-', '-')\n",
    "        h_record = max(h_list, key=max)\n",
    "        novella_score = len(set(h_record.keys()).intersection(q_scored)) * 5\n",
    "        if 'q19' in h_record.keys() and h_record['q19'] == 'a1':\n",
    "            novella_score += 5\n",
    "        if 'q37' in h_record.keys() and h_record['q37'] == 'a2':\n",
    "            novella_score += 5\n",
    "        if \"Использовать старые данные\" in h_record.values():\n",
    "            novella_score += 5\n",
    "        novella_translated = []\n",
    "        novella_last = 'пропуск'\n",
    "        novella_pizza = np.array([0, 0, 0, 0, 0, 0, 0, 0])\n",
    "\n",
    "        for key, value in h_record.items():\n",
    "            if key in rules['Вопрос'].to_list() and value in rules.columns.to_list():\n",
    "                rules_row = (rules[rules['Вопрос'] == key])\n",
    "                value_new = rules_row[value+'_axial_value'].to_list()[0]\n",
    "                try:\n",
    "                    novella_pizza += np.array(ast.literal_eval(value_new))\n",
    "                except:\n",
    "                    pass\n",
    "                if key in q_translated:\n",
    "                    value_translated = rules_row[value+'_i'].to_list()[0]\n",
    "                    novella_translated.append(value_translated)\n",
    "        novella_translated = \" \".join(novella_translated)\n",
    "\n",
    "        try:\n",
    "            for pair in list(h_record.items())[::-1]:\n",
    "                if pair[0].startswith('q'):\n",
    "                    key_last, value_last = pair\n",
    "                    rules_row = (rules[rules['Вопрос'] == key_last])\n",
    "                    key_new = rules_row['Перевод'].to_list()[0]\n",
    "                    value_new = rules_row[value_last+'_i'].to_list()[0]\n",
    "                    novella_last = value_new\n",
    "                    break\n",
    "        except:\n",
    "            pass\n",
    "\n",
    "        if 'q21' in h_record.keys():\n",
    "            novella_branch = 'Корпоративная'\n",
    "        elif 'q49' in h_record.keys():\n",
    "            novella_branch = 'Торговая'\n",
    "        else:\n",
    "            novella_branch = '-'\n",
    "\n",
    "        return(novella_score, novella_translated, novella_last, novella_branch, novella_pizza)\n",
    "    else:\n",
    "        return('-', '-', '-', '-', '-')"
   ]
  },
  {
   "cell_type": "markdown",
   "metadata": {
    "id": "Fk-CVUKFTERw"
   },
   "source": [
    "### Пицца - граф"
   ]
  },
  {
   "cell_type": "code",
   "execution_count": null,
   "metadata": {
    "executionInfo": {
     "elapsed": 14,
     "status": "aborted",
     "timestamp": 1656337152464,
     "user": {
      "displayName": "Mark Kan",
      "userId": "15244986316179496233"
     },
     "user_tz": -180
    },
    "id": "VdtV120tTERw"
   },
   "outputs": [],
   "source": [
    "def radar_factory(num_vars, frame='circle'):\n",
    "    \"\"\"Create a radar chart with `num_vars` axes.\n",
    "\n",
    "    This function creates a RadarAxes projection and registers it.\n",
    "\n",
    "    Parameters\n",
    "    ----------\n",
    "    num_vars : int\n",
    "        Number of variables for radar chart.\n",
    "    frame : {'circle' | 'polygon'}\n",
    "        Shape of frame surrounding axes.\n",
    "\n",
    "    \"\"\"\n",
    "    # calculate evenly-spaced axis angles\n",
    "    theta = np.linspace(0, 2*np.pi, num_vars, endpoint=False)\n",
    "\n",
    "    class RadarAxes(PolarAxes):\n",
    "\n",
    "        name = 'radar'\n",
    "\n",
    "        def __init__(self, *args, **kwargs):\n",
    "            super().__init__(*args, **kwargs)\n",
    "            # rotate plot such that the first axis is at the top\n",
    "            self.set_theta_zero_location('N')\n",
    "\n",
    "        def fill(self, *args, closed=True, **kwargs):\n",
    "            \"\"\"Override fill so that line is closed by default\"\"\"\n",
    "            return super().fill(closed=closed, *args, **kwargs)\n",
    "\n",
    "        def plot(self, *args, **kwargs):\n",
    "            \"\"\"Override plot so that line is closed by default\"\"\"\n",
    "            lines = super().plot(*args, **kwargs)\n",
    "            for line in lines:\n",
    "                self._close_line(line)\n",
    "\n",
    "        def _close_line(self, line):\n",
    "            x, y = line.get_data()\n",
    "            # FIXME: markers at x[0], y[0] get doubled-up\n",
    "            if x[0] != x[-1]:\n",
    "                x = np.concatenate((x, [x[0]]))\n",
    "                y = np.concatenate((y, [y[0]]))\n",
    "                line.set_data(x, y)\n",
    "\n",
    "        def set_varlabels(self, labels):\n",
    "            self.set_thetagrids(np.degrees(theta), labels)\n",
    "\n",
    "        def _gen_axes_patch(self):\n",
    "            # The Axes patch must be centered at (0.5, 0.5) and of radius 0.5\n",
    "            # in axes coordinates.\n",
    "            if frame == 'circle':\n",
    "                return Circle((0.5, 0.5), 0.5)\n",
    "            elif frame == 'polygon':\n",
    "                return Circle((0.5, 0.5), 0.5)\n",
    "            else:\n",
    "                raise ValueError(\"unknown value for 'frame': %s\" % frame)\n",
    "\n",
    "        def draw(self, renderer):\n",
    "            \"\"\" Draw. If frame is polygon, make gridlines polygon-shaped \"\"\"\n",
    "            if frame == 'polygon':\n",
    "                gridlines = self.yaxis.get_gridlines()\n",
    "                for gl in gridlines:\n",
    "                    gl.get_path()._interpolation_steps = num_vars\n",
    "            super().draw(renderer)\n",
    "\n",
    "        def _gen_axes_spines(self):\n",
    "            if frame == 'circle':\n",
    "                return super()._gen_axes_spines()\n",
    "            elif frame == 'polygon':\n",
    "                # spine_type must be 'left'/'right'/'top'/'bottom'/'circle'.\n",
    "                spine = Spine(axes=self,\n",
    "                              spine_type='circle',\n",
    "                              path=Path.unit_regular_polygon(num_vars))\n",
    "                # unit_regular_polygon gives a polygon of radius 1 centered at\n",
    "                # (0, 0) but we want a polygon of radius 0.5 centered at (0.5,\n",
    "                # 0.5) in axes coordinates.\n",
    "                spine.set_transform(Affine2D().rotate(pi/8).scale(0.5).translate(.5, .5)\n",
    "                                    + self.transAxes)\n",
    "\n",
    "                return {'polar': spine}\n",
    "            else:\n",
    "                raise ValueError(\"unknown value for 'frame': %s\" % frame)\n",
    "\n",
    "    register_projection(RadarAxes)\n",
    "    return theta"
   ]
  },
  {
   "cell_type": "markdown",
   "metadata": {
    "id": "mZjN4EArTERx"
   },
   "source": [
    "### Вставка пиццы"
   ]
  },
  {
   "cell_type": "code",
   "execution_count": null,
   "metadata": {
    "executionInfo": {
     "elapsed": 15,
     "status": "aborted",
     "timestamp": 1656337152465,
     "user": {
      "displayName": "Mark Kan",
      "userId": "15244986316179496233"
     },
     "user_tz": -180
    },
    "id": "hh8bXd9uTERx"
   },
   "outputs": [],
   "source": [
    "col1 = 'Дисконтирование\\nустаревших\\nрешений'\n",
    "col2 = 'Давление на\\nнезависимого\\nпартнера'\n",
    "col3 = 'Конструирование\\n компаний'\n",
    "col4 = 'Препарирование\\nтехнологий'\n",
    "col5 = 'Скрининг\\nшансов'\n",
    "col6 = 'Борьба за\\nпривилегии'\n",
    "col7 = 'Фиктивная\\nдеятельность'\n",
    "col8 = 'Отношения\\nвместо дела'\n",
    "zero = 0\n",
    "\n",
    "def web(doc, numbers, k):\n",
    "    dict1 = {col : zero for col in [col1, col2, col3, col4, col5, col6, col7, col8]}\n",
    "    N = 8\n",
    "    theta = radar_factory(8, frame='polygon')\n",
    "\n",
    "    angles = np.linspace(0, 2 * pi, N, endpoint=False)\n",
    "    angles_mids = angles + (angles[1] / 2)\n",
    "    #spoke_labels = data.pop(0)\n",
    "    #title, case_data = data[0]\n",
    "\n",
    "    fig, ax = plt.subplots(figsize=(10, 8), subplot_kw=dict(projection='radar'))\n",
    "    fig.subplots_adjust(left=0)\n",
    "    ax.xaxis.set_minor_locator(FixedLocator(angles))\n",
    "    fig.subplots_adjust(top=0.85, bottom=0.05)\n",
    "    plt.ylim([0, 10])\n",
    "\n",
    "    ax.set_theta_offset(pi/8-pi/4)\n",
    "    ax.set_theta_direction(1)\n",
    "    ax.set_xticks(angles_mids)\n",
    "    ax.set_xticklabels(dict1.keys())\n",
    "    ax.grid(True, axis='x', which='minor')\n",
    "    ax.grid(False, axis='x', which='major')\n",
    "    ax.grid(True, axis='y', which='major')\n",
    "    ax.set_rgrids([2,4,6,8,10], [])\n",
    "    #ax.set_title(file_name,  position=(0.5, 1.1), ha='center')\n",
    "    color1='springgreen'\n",
    "    color2='seagreen'\n",
    "    color3='tomato'\n",
    "    color4='red'\n",
    "    for i in range(6):\n",
    "        ax.fill_between(angles[i:i+2], 0, numbers[i] , facecolor=color1, edgecolor=color2, linewidth=2)\n",
    "    ax.fill_between(angles[5:7], 0, numbers[5], facecolor=color3, edgecolor=color4, linewidth=2)\n",
    "    ax.fill_between(angles[6:8], 0, numbers[6], facecolor=color3, edgecolor=color4, linewidth=2)\n",
    "    ax.fill_between([angles[7],(angles[7]+angles[1])], 0, numbers[7], facecolor=color3, edgecolor=color4, linewidth=2)\n",
    "\n",
    "    for index, label in enumerate(ax.get_xticklabels()):\n",
    "        label.set_weight(\"bold\")\n",
    "        label.set_fontsize(14)\n",
    "        if index in [0, 1, 7]:\n",
    "            label.set_horizontalalignment(\"left\")\n",
    "        elif index in [3, 4, 5]:\n",
    "            label.set_horizontalalignment(\"right\")\n",
    "\n",
    "    plt.savefig('web{}.png'.format(str(k)), transparent=True)\n",
    "    return InlineImage(doc, 'web{}.png'.format(str(k)), Cm(10))"
   ]
  },
  {
   "cell_type": "markdown",
   "metadata": {
    "id": "R6XGEl_0TERx"
   },
   "source": [
    "### Подсчет баллов"
   ]
  },
  {
   "cell_type": "code",
   "execution_count": null,
   "metadata": {
    "executionInfo": {
     "elapsed": 15,
     "status": "aborted",
     "timestamp": 1656337152466,
     "user": {
      "displayName": "Mark Kan",
      "userId": "15244986316179496233"
     },
     "user_tz": -180
    },
    "id": "xi8FdVJ7TERx"
   },
   "outputs": [],
   "source": [
    "def primary_point(context):\n",
    "    if 'score' in context:\n",
    "        pts = 0.2 * max([int(num) for num in context['score'].split()])\n",
    "    else:\n",
    "        pts = 0\n",
    "    for key, value in primary_keys_dict.items():\n",
    "        if key in context.keys() and len(context[key]) > 10:\n",
    "            pts += value\n",
    "    pts_c = 0\n",
    "    for key in primary_cases_list:\n",
    "        if key in context.keys():\n",
    "            if len(context[key]) >= 50:\n",
    "                pts_c += 1\n",
    "            if len(context[key]) >= 300:\n",
    "                pts_c += 2\n",
    "            counter = case_counter(context[key], key)\n",
    "            if counter >= 4:\n",
    "                pts_c += 2\n",
    "            if counter >= 6:\n",
    "                pts_c += 1\n",
    "            if counter >= 8:\n",
    "                pts_c+= 1\n",
    "    pts += pts_c\n",
    "    if context['novel_score'] != '-':\n",
    "        pts += context['novel_score']\n",
    "        if pts > 100:\n",
    "            pts = 100\n",
    "            \n",
    "    return round(pts), pts_c"
   ]
  },
  {
   "cell_type": "markdown",
   "metadata": {
    "id": "xGakm7FSTERx"
   },
   "source": [
    "### Подсчет баллов пицца"
   ]
  },
  {
   "cell_type": "code",
   "execution_count": null,
   "metadata": {
    "executionInfo": {
     "elapsed": 15,
     "status": "aborted",
     "timestamp": 1656337152466,
     "user": {
      "displayName": "Mark Kan",
      "userId": "15244986316179496233"
     },
     "user_tz": -180
    },
    "id": "r-0zydfgTERy"
   },
   "outputs": [],
   "source": [
    "cases_pizza_low = {'case1': np.array([0.5, 0, 0.5, 0, 1, 0, 0 ,0]), 'case2': np.array([0, 0.5, 0.5, 1.5, 0, 0, 0 ,0]), 'case3': np.array([0, 1, 0, 0, 0.5, 0, 0 ,0])}\n",
    "cases_pizza_high = {'case1': np.array([1, 0, 1, 0, 2, 0, 0 ,0]), 'case2': np.array([0, 1, 1, 3, 0, 0, 0 ,0]), 'case3': np.array([0, 2, 0, 0, 1, 0, 0 ,0])}\n",
    "\n",
    "def score_cases_pizza(context):\n",
    "    score_cases = np.array([0, 0, 0, 0, 0, 0, 0 ,0])\n",
    "    if 'score' in context:\n",
    "        if int(context['score']) >= 90:\n",
    "            score_pizza = np.array([0, 0, 2, 1, 0, 0, 0, 0])\n",
    "        elif int(context['score']) >= 60:\n",
    "            score_pizza = np.array([0, 0, 1, 0, 0, 0, 0, 0])\n",
    "        else:\n",
    "            score_pizza =  np.array([0, 0, 0, 0, 0, 0, 0 ,0])\n",
    "        score_cases += score_pizza\n",
    "    for key in cases_pizza_low.keys():\n",
    "        pts =  0\n",
    "        if key in context.keys():\n",
    "            if len(context[key]) >= 50:\n",
    "                pts += 1\n",
    "            if len(context[key]) >= 300:\n",
    "                pts += 2\n",
    "            counter = case_counter(context[key], key)\n",
    "            if counter >= 4:\n",
    "                pts += 2\n",
    "            if counter >= 6:\n",
    "                pts += 1\n",
    "            if counter >= 8:\n",
    "                pts += 1\n",
    "        if pts >= 6:\n",
    "            score_case = cases_pizza_high[key]\n",
    "        if pts >= 3:\n",
    "            score_case = cases_pizza_low[key]\n",
    "        else:\n",
    "            score_case = np.array([0, 0, 0, 0, 0, 0, 0 ,0])\n",
    "        score_cases = score_cases + score_case\n",
    "       # print(key, score_case, score_cases)\n",
    "            \n",
    "    return score_cases"
   ]
  },
  {
   "cell_type": "markdown",
   "metadata": {
    "id": "uKNxVPWnTERy"
   },
   "source": [
    "## Новые анкеты"
   ]
  },
  {
   "cell_type": "markdown",
   "metadata": {
    "id": "j7wosimITERy"
   },
   "source": [
    "### Проверка наличия концовки"
   ]
  },
  {
   "cell_type": "code",
   "execution_count": null,
   "metadata": {
    "id": "5aTcm-bWTERy"
   },
   "outputs": [],
   "source": [
    "def novella_check_end(email):\n",
    "    if data[data['email'] == email]['history_new'].to_list() != []:\n",
    "        h_str = data[data['email'] == email]['history_new'].to_list()[0]\n",
    "        h_json = json.loads(h_str)\n",
    "        h_list = [rec for rec in h_json.values() if rec != {}]\n",
    "        if h_list == []:\n",
    "            return(\"-\")\n",
    "        h_record = max(h_list, key=max)\n",
    "        if \"ending\" in h_record.keys() and len(h_list) > 1:\n",
    "            return(\"++\")\n",
    "        elif \"ending\" in h_record.keys():\n",
    "            return(\"+\")\n",
    "        else:\n",
    "            return(\"-\")\n",
    "    else:\n",
    "        return(\"/\")"
   ]
  },
  {
   "cell_type": "markdown",
   "metadata": {
    "id": "AKtCTjRxTERy"
   },
   "source": [
    "### Анализ новеллы"
   ]
  },
  {
   "cell_type": "code",
   "execution_count": null,
   "metadata": {
    "id": "Xy3DTENtTERy"
   },
   "outputs": [],
   "source": [
    "def novella_check(email):\n",
    "    if data[data['email'] == email]['history_new'].to_list() != []:\n",
    "        h_str = data[data['email'] == email]['history_new'].to_list()[0]\n",
    "        h_json = json.loads(h_str)\n",
    "        h_list = [rec for rec in h_json.values() if rec != {}]\n",
    "        if h_list == []:\n",
    "            return(\"/\")\n",
    "        h_record = max(h_list, key=max)\n",
    "    else:\n",
    "        return(\"/\")\n",
    "        \n",
    "    try:\n",
    "        for pair in list(h_record.items())[::-1]:\n",
    "            if pair[0].startswith('q'):\n",
    "                break\n",
    "    except:\n",
    "        return(\"/\")\n",
    "    if pair == ('q21', 'a1'):\n",
    "        return(\"Участник не мотивирован к переходу в предпринимательскую позицию.\")\n",
    "    elif pair[0] in ['q29', 'q27', 'q54', 'q56'] and pair[1] == 'a1':\n",
    "        return(\"Участник испытывает трудности с удержанием предпринимательской позиции.\")\n",
    "    elif pair == ('q41', 'a1') or pair == ('q62', 'a1'):\n",
    "        return(\"Участник склонен к нереалистичным ожиданиям от предпринимательской деятельности.\")\n",
    "    elif any([q in h_record.keys() for q in ['q48', 'q70']]):\n",
    "        return(\"Участник демонстрирует высокий потенциал предпринимательских компетенций.\")\n",
    "    else:\n",
    "        return(\"/\")"
   ]
  },
  {
   "cell_type": "markdown",
   "metadata": {
    "id": "1pSFKPWBTERz"
   },
   "source": [
    "### Заполнение анкет"
   ]
  },
  {
   "cell_type": "code",
   "execution_count": null,
   "metadata": {
    "id": "s0Cz4R_wTERz"
   },
   "outputs": [],
   "source": [
    "def context_check(context):\n",
    "    context_checked = context\n",
    "    keys = ['name', 'email', 'phone', 'socialmedia', 'univer', 'futureplans', 'gorodprojivaniya']\n",
    "    #for key in keys:\n",
    "    #    context_checked[key] = context[key]\n",
    "    context_checked['comp_1'] = \"/\"\n",
    "    context_checked['comp_2'] = \"/\"\n",
    "    context_checked['comp_3'] = \"+\" if context['score'] >=60 else \"-\"\n",
    "    context_checked['comp_4'] = \"+\" if context['novel_score'] != '-' and context['novel_score'] >=10 else \"-\"\n",
    "    context_checked['comp_5'] = \"++\" if context['cases_score'] >=24 else \"+\" if context['cases_score'] >=16 else \"-\"\n",
    "    context_checked['comp_6'] = \"+\" if all([context[q] != 'пропуск' for q in ['q1', 'q2']]) else \"-\"\n",
    "    context_checked['comp_t'] = \"+\" if sum([context_checked['comp_'+str(i)].count('+') for i in range(1,7)]) >=3 else \"-\"\n",
    "    \n",
    "    moti_1_1, moti_1_2 = [context[key] != 'пропуск' for key in keys], len(context['futureplans'])\n",
    "    if all(moti_1_1) and moti_1_2 > 200:\n",
    "        context_checked['moti_1'] = \"++\"\n",
    "    elif moti_1_1.count(False) == 1:\n",
    "        context_checked['moti_1'] = \"+\"\n",
    "    else:\n",
    "        context_checked['moti_1'] = \"-\"\n",
    "        \n",
    "    moti_2_1 = all([len(context[key])>200 for key in ['chtoudivilomaterials', 'chtorazozlilomaterials']])\n",
    "    moti_2_2 = [context[key] != 'пропуск' for key in ['chtoudivilomaterials', 'chtorazozlilomaterials']]\n",
    "    if moti_2_1:\n",
    "        context_checked['moti_2'] = \"++\"\n",
    "    elif moti_2_2:\n",
    "        context_checked['moti_2'] = \"+\"\n",
    "    else:\n",
    "        context_checked['moti_2'] = \"-\"\n",
    "        \n",
    "    moti_3_1 = max([sum([a*b for a,b in zip([3600,60,1], map(int, d.split(':')))]) for d in context['time'].split()]) \\\n",
    "        if context['time'] != 'пропуск' else 0\n",
    "    if moti_3_1 > 1200:\n",
    "        context_checked['moti_3'] = \"++\"\n",
    "    elif moti_3_1 > 600:\n",
    "        context_checked['moti_3'] = \"+\"\n",
    "    else:\n",
    "        context_checked['moti_3'] = \"-\"\n",
    "        \n",
    "    context_checked['moti_4'] = novella_check_end(context['email'])\n",
    "    context_checked['moti_5'] = \"++\" if context['cases_score'] >=24 else \"+\" if context['cases_score'] >=16 else \"-\"\n",
    "    context_checked['moti_6'] = \"+\" if any([context[q] != 'пропуск' for q in ['q1', 'q2']]) else \"-\"\n",
    "    context_checked['moti_t'] = \"+\" if sum([context_checked['moti_'+str(i)].count('+') for i in range(1,7)]) >=4 else \"-\"    \n",
    "    \n",
    "    comp_1_1, comp_1_2 = all([context[key] != 'пропуск' for key in keys]), len(context['futureplans'])\n",
    "    if comp_1_1 and comp_1_2 > 200:\n",
    "        context_checked['comm_1'] = \"Демонстрирует мотивацию к участию и отвественность в работе с формами сбора данных.\"\n",
    "    elif comp_1_1 and comp_1_2 > 50:\n",
    "        context_checked['comm_1'] = \"Демонстрирует мотивацию к участию.\"\n",
    "    else:\n",
    "        context_checked['comm_1'] = \"/\"\n",
    "    \n",
    "    comp_2_1 = max([int(s[0]) for s in context['vybormateriala'].split() if s[0].isdigit()]+[0]) \\\n",
    "        if context['vybormateriala'] != 'пропуск' else 0\n",
    "    comp_2_2 = all([len(context[key])>200 for key in ['chtoudivilomaterials', 'chtorazozlilomaterials']])\n",
    "    comp_2_3 = [int(s) for s in context['score_test'].split() if s.isdigit()]\n",
    "    if comp_2_1 > 3 and comp_2_2 and len(comp_2_3)==1 and comp_2_3[0] > 80:\n",
    "        context_checked['comm_2'] = \"Демонстрирует высокие мотивацию и способность к освоению новой информации\"\n",
    "    elif comp_2_1 > 3 and comp_2_2:\n",
    "        context_checked['comm_2'] = \"Демонстрирует мотивацию к участию.\"\n",
    "    else:\n",
    "        context_checked['comm_2'] = \"/\"\n",
    "        \n",
    "    if len(comp_2_3)>1:\n",
    "        comp_3_1, comp_3_2 = comp_2_3, context['time'].split()\n",
    "        comp_3_3 = [comp_3_2[i] for i in [comp_3_1.index(n) for n in comp_3_1 if n>comp_3_1[-1]]]\n",
    "        comp_3_4 = any([sum([a*b for a,b in zip([3600,60,1], map(int, d.split(':')))]) >300 for d in comp_3_3])\n",
    "        context_checked['comm_3'] = \"Участник имеет склонность к фиктивной деятельности\"\n",
    "    else:\n",
    "        context_checked['comm_3'] = \"/\"\n",
    "    \n",
    "    context_checked['comm_4'] = novella_check(context['email'])\n",
    "    \n",
    "    if context_checked['comp_5'] == \"+\" and context_checked['moti_5'] == \"+\":\n",
    "        context_checked['comm_5'] = \"Участник демонстрирует хорошее понимание предпринимательской логики.\"\n",
    "    elif context_checked['moti_5'] == \"+\":\n",
    "        context_checked['comm_5'] = \"Участнику не хватает прикладного препрдпринимательского опыта.\"\n",
    "    else:\n",
    "        context_checked['comm_5'] = \"/\"\n",
    "        \n",
    "    context_checked['comm_6'] = \"Участник демонстрирует высокий уровень персональной ответственности\" if all([context[q] != 'пропуск' for q in ['q1', 'q2']]) else \"/\"\n",
    "    \n",
    "    if all([x==\"+\" for x in [context_checked['comp_t'], context_checked['moti_t']]]):\n",
    "        echelon = 1\n",
    "    elif any([x==\"+\" for x in [context_checked['comp_t'], context_checked['moti_t']]]):\n",
    "        echelon = 2\n",
    "    else:\n",
    "        echelon = 3\n",
    "    return(context_checked, echelon)"
   ]
  },
  {
   "cell_type": "markdown",
   "metadata": {
    "id": "KltYfus9TERz"
   },
   "source": [
    "## Окно"
   ]
  },
  {
   "cell_type": "code",
   "execution_count": null,
   "metadata": {
    "id": "_jTlsNpqTERz"
   },
   "outputs": [],
   "source": [
    "def window_string(key, text_size, input_size, tooltip=None):\n",
    "    return ([sg.Text(key, size=(text_size,1)), sg.InputText(key=key, size=(input_size,1), tooltip=tooltip)])\n",
    "\n",
    "def make_window():    \n",
    "    tab1_layout = [\n",
    "        [sg.HorizontalSeparator()],\n",
    "        window_string('Номер договора', 26, 30),\n",
    "        window_string('Число подписания договора', 26, 30, 'числом'),\n",
    "        window_string('Месяц подписания договора', 26, 30, 'словом'),\n",
    "        window_string('День начала', 26, 30, 'числом'),\n",
    "        window_string('Месяц начала', 26, 30, 'словом'),\n",
    "        window_string('День окончания', 26, 30, 'числом'),\n",
    "        window_string('Месяц окончания', 26, 30, 'словом'),\n",
    "        [sg.HorizontalSeparator()],\n",
    "        window_string('Должность подписывающего', 26, 30, 'со стороны заказчика'),\n",
    "        window_string('Краткое название заказчика', 26, 30),\n",
    "        window_string('ФИО подписывающего', 26, 30, 'со стороны заказчика'),\n",
    "        window_string('Договор заключён с ', 26, 30),\n",
    "        window_string('Полная стоимость услуг', 26, 30, 'цифрами'),\n",
    "        window_string('Полная стоимость услуг словами', 26, 30),\n",
    "        window_string('День отчета', 26, 30, 'числом'),\n",
    "        window_string('Месяц отчета', 26, 30, 'словом'),\n",
    "        [sg.HorizontalSeparator()]\n",
    "        ]\n",
    "    \n",
    "    tab2_layout = [\n",
    "        [sg.HorizontalSeparator()],\n",
    "        [sg.Text('Ключ', size=(26, 1)), sg.Combo(sorted(dict_key.keys()), readonly=True, key='-KEY-', size=(30, 10))],\n",
    "        [sg.Checkbox('Факультет', default=False, key='add_id_1')],\n",
    "        [sg.Checkbox('Курс', default=False, key='add_id_2')],\n",
    "        window_string('Название папки на диске', 26, 30),\n",
    "        [sg.Text('Асессор заключение', size=(20,1)),  sg.FileBrowse('Путь', size=(4,1), target='conclusion'), sg.InputText(size=(30, 1), key='conclusion')],\n",
    "        [sg.ProgressBar(100, orientation='h', size=(40,20), key='progress_bar')],\n",
    "        [sg.HorizontalSeparator()],\n",
    "        [sg.Output(size=(50,6))],\n",
    "        [sg.Submit('Запустить'), sg.Cancel('Выйти')],\n",
    "        [sg.HorizontalSeparator()]\n",
    "        ]\n",
    "    \n",
    "    tab_group_layout = [[sg.Tab('Строки', tab1_layout, key='-TAB1-'),\n",
    "                                      sg.Tab('Ключ', tab2_layout, key='-TAB2-')]]\n",
    "\n",
    "    layout = [[sg.TabGroup(tab_group_layout,\n",
    "                               enable_events=True,\n",
    "                               key='-TABGROUP-')]]\n",
    "    \n",
    "    return sg.Window('Суперотчет v0.7', layout)"
   ]
  },
  {
   "cell_type": "markdown",
   "metadata": {
    "id": "OowG6SGoTER0"
   },
   "source": [
    "### Запись на диск"
   ]
  },
  {
   "cell_type": "code",
   "execution_count": null,
   "metadata": {
    "id": "OeNAEejsTER0"
   },
   "outputs": [],
   "source": [
    "def drive_folder_create(parent_id, folder_name):\n",
    "    file = drive.CreateFile({'title': folder_name,\n",
    "        \"parents\": [{\"id\": parent_id}],\n",
    "        \"mimeType\": \"application/vnd.google-apps.folder\"})\n",
    "    file.Upload()\n",
    "    permission = file.InsertPermission({\n",
    "                        'type': 'anyone',\n",
    "                        'value': 'anyone',\n",
    "                        'role': 'reader'})\n",
    "    return(file)\n",
    "\n",
    "def drive_file_create(file_name, parent_id, file_path):\n",
    "    file = drive.CreateFile({\n",
    "        'title': file_name, \n",
    "        \"parents\": [{\"id\": parent_id}]\n",
    "        })\n",
    "    file.SetContentFile(file_path)\n",
    "    file.Upload()\n",
    "    permission = file.InsertPermission({\n",
    "                    'type': 'anyone',\n",
    "                    'value': 'anyone',\n",
    "                    'role': 'reader'})\n",
    "    return(file['alternateLink'])"
   ]
  },
  {
   "cell_type": "markdown",
   "metadata": {
    "id": "2m_qlqxQTER0"
   },
   "source": [
    "### + Электронное письмо"
   ]
  },
  {
   "cell_type": "code",
   "execution_count": null,
   "metadata": {
    "id": "EwY-mVBJTER0"
   },
   "outputs": [],
   "source": [
    "def send():\n",
    "    # create message object instance\n",
    "    msg = MIMEMultipart()\n",
    "    \n",
    "    message = 'Done!'\n",
    "    # setup the parameters of the message\n",
    "    password = \"nc2016ts\"\n",
    "    msg['From'] = \"buildcompanyarchive@gmail.com\"\n",
    "    msg['To'] = \"10markmarkmark10@gmail.com\"\n",
    "    msg['Subject'] = \"Test Mail\"\n",
    "\n",
    "    # add in the message body\n",
    "    msg.attach(MIMEText(message, 'plain'))\n",
    "\n",
    "    #create server\n",
    "    server = smtplib.SMTP('smtp.gmail.com: 587')\n",
    "\n",
    "    server.starttls()\n",
    "\n",
    "    # Login Credentials for sending the mail\n",
    "    server.login(msg['From'], password)\n",
    "\n",
    "    # send the message via the server.\n",
    "    server.sendmail(msg['From'], msg['To'], msg.as_string())\n",
    "\n",
    "    server.quit()\n",
    "    \n",
    "    return message"
   ]
  },
  {
   "cell_type": "markdown",
   "metadata": {
    "id": "Y-MRqPt2TER1"
   },
   "source": [
    "## Вывод"
   ]
  },
  {
   "cell_type": "code",
   "execution_count": null,
   "metadata": {
    "id": "fhfdZMfpTER1"
   },
   "outputs": [],
   "source": [
    "def context_check(context):\n",
    "    context_checked = context\n",
    "    keys = ['name', 'email', 'phone', 'socialmedia', 'univer', 'futureplans', 'gorodprojivaniya']\n",
    "    #for key in keys:\n",
    "    #    context_checked[key] = context[key]\n",
    "    context_checked['comp_1'] = \"/\"\n",
    "    context_checked['comp_2'] = \"/\"\n",
    "    context_checked['comp_3'] = \"++\" if context['score'] >=60 else \"+\" if context['score'] >= 40 else \"-\"\n",
    "    context_checked['comp_4'] = \"++\" if context['novel_score'] != '-' and context['novel_score'] >=10 else \"+\" \\\n",
    "                                    if context['novel_score'] != '-' and context['novel_score'] >=5 else \"-\"\n",
    "    context_checked['comp_5'] = \"++\" if context['cases_score'] >=24 else \"+\" if context['cases_score'] >=12 else \"-\"\n",
    "    context_checked['comp_6'] = \"+\" if all([context[q] != 'пропуск' for q in ['q1', 'q2']]) else \"-\"\n",
    "    context_checked['comp_t'] = \"+\" if sum([context_checked['comp_'+str(i)].count('+') for i in range(1,7)]) >=3 else \"-\"\n",
    "    \n",
    "    moti_1_1, moti_1_2 = [context[key] != 'пропуск' for key in keys], len(context['futureplans'])\n",
    "    if all(moti_1_1) and moti_1_2 > 100:\n",
    "        context_checked['moti_1'] = \"++\"\n",
    "    elif moti_1_1.count(False) == 1:\n",
    "        context_checked['moti_1'] = \"+\"\n",
    "    else:\n",
    "        context_checked['moti_1'] = \"-\"\n",
    "        \n",
    "    moti_2_1 = all([len(context[key])>100 for key in ['chtoudivilomaterials', 'chtorazozlilomaterials']])\n",
    "    moti_2_2 = [context[key] != 'пропуск' for key in ['chtoudivilomaterials', 'chtorazozlilomaterials']]\n",
    "    if moti_2_1:\n",
    "        context_checked['moti_2'] = \"++\"\n",
    "    elif moti_2_2:\n",
    "        context_checked['moti_2'] = \"+\"\n",
    "    else:\n",
    "        context_checked['moti_2'] = \"-\"\n",
    "        \n",
    "    moti_3_1 = max([sum([a*b for a,b in zip([3600,60,1], map(int, d.split(':')))]) for d in context['time'].split()]) \\\n",
    "        if context['time'] != 'пропуск' else 0\n",
    "    if moti_3_1 > 1200:\n",
    "        context_checked['moti_3'] = \"++\"\n",
    "    elif moti_3_1 > 600:\n",
    "        context_checked['moti_3'] = \"+\"\n",
    "    else:\n",
    "        context_checked['moti_3'] = \"-\"\n",
    "        \n",
    "    context_checked['moti_4'] = novella_check_end(context['email'])\n",
    "    context_checked['moti_5'] = \"++\" if context['cases_score'] >=24 else \"+\" if context['cases_score'] >=12 else \"-\"\n",
    "    context_checked['moti_6'] = \"+\" if any([context[q] != 'пропуск' for q in ['q1', 'q2']]) else \"-\"\n",
    "    context_checked['moti_t'] = \"+\" if sum([context_checked['moti_'+str(i)].count('+') for i in range(1,7)]) >=4 else \"-\"    \n",
    "\n",
    "    comp_1_1, comp_1_2 = all([context[key] != 'пропуск' for key in keys]), len(context['futureplans'])\n",
    "    if comp_1_1 and comp_1_2 > 200:\n",
    "        context_checked['comm_1'] = \"Демонстрирует мотивацию к участию и отвественность в работе с формами сбора данных.\"\n",
    "    elif comp_1_1 and comp_1_2 > 50:\n",
    "        context_checked['comm_1'] = \"Демонстрирует мотивацию к участию.\"\n",
    "    else:\n",
    "        context_checked['comm_1'] = \"/\"\n",
    "    \n",
    "    comp_2_1 = max([int(s[0]) for s in context['vybormateriala'].split() if s[0].isdigit()]+[0]) \\\n",
    "        if context['vybormateriala'] != 'пропуск' else 0\n",
    "    comp_2_2 = all([len(context[key])>200 for key in ['chtoudivilomaterials', 'chtorazozlilomaterials']])\n",
    "    comp_2_3 = [int(s) for s in context['score_test'].split() if s.isdigit()]\n",
    "    if comp_2_1 > 3 and comp_2_2 and len(comp_2_3)==1 and comp_2_3[0] > 80:\n",
    "        context_checked['comm_2'] = \"Демонстрирует высокие мотивацию и способность к освоению новой информации\"\n",
    "    elif comp_2_1 > 3 and comp_2_2:\n",
    "        context_checked['comm_2'] = \"Демонстрирует мотивацию к участию.\"\n",
    "    else:\n",
    "        context_checked['comm_2'] = \"/\"\n",
    "        \n",
    "    if len(comp_2_3)>1:\n",
    "        comp_3_1, comp_3_2 = comp_2_3, context['time'].split()\n",
    "        comp_3_3 = [comp_3_2[i] for i in [comp_3_1.index(n) for n in comp_3_1 if n>comp_3_1[-1]]]\n",
    "        comp_3_4 = any([sum([a*b for a,b in zip([3600,60,1], map(int, d.split(':')))]) >300 for d in comp_3_3])\n",
    "        context_checked['comm_3'] = \"Участник имеет склонность к фиктивной деятельности\"\n",
    "    else:\n",
    "        context_checked['comm_3'] = \"/\"\n",
    "    \n",
    "    context_checked['comm_4'] = novella_check(context['email'])\n",
    "    \n",
    "    if context_checked['comp_5'] == \"+\" and context_checked['moti_5'] == \"+\":\n",
    "        context_checked['comm_5'] = \"Участник демонстрирует хорошее понимание предпринимательской логики.\"\n",
    "    elif context_checked['moti_5'] == \"+\":\n",
    "        context_checked['comm_5'] = \"Участнику не хватает прикладного препрдпринимательского опыта.\"\n",
    "    else:\n",
    "        context_checked['comm_5'] = \"/\"\n",
    "        \n",
    "    context_checked['comm_6'] = \"Участник демонстрирует высокий уровень персональной ответственности\" if all([context[q] != 'пропуск' for q in ['q1', 'q2']]) else \"/\"\n",
    "    \n",
    "    if all([x==\"+\" for x in [context_checked['comp_t'], context_checked['moti_t']]]):\n",
    "        echelon = 1\n",
    "    elif any([x==\"+\" for x in [context_checked['comp_t'], context_checked['moti_t']]]):\n",
    "        echelon = 2\n",
    "    else:\n",
    "        echelon = 3\n",
    "    return(context_checked, echelon)"
   ]
  },
  {
   "cell_type": "markdown",
   "metadata": {
    "id": "Q8oN-YIJTER1"
   },
   "source": [
    "### Общий поиск и запись анкет"
   ]
  },
  {
   "cell_type": "code",
   "execution_count": null,
   "metadata": {
    "id": "PTyOoqT8TER1",
    "scrolled": true
   },
   "outputs": [],
   "source": [
    "def main(window, values):\n",
    "    middle_time = time.time()\n",
    "    folder = drive_folder_create(folder_root_id, values['Название папки на диске'] if values['Название папки на диске'] != '' else 'Новая папка')\n",
    "    folder_id, folder_link = folder['id'], folder['alternateLink']\n",
    "    values['folder_link'] = folder_link\n",
    "    folder_id_1 = drive_folder_create(folder_id, '1й эшелон')['id']\n",
    "    folder_id_2 = drive_folder_create(folder_id, '2й эшелон')['id']\n",
    "    \n",
    "    emails = df0[df0['referer'] == dict_key[values['-KEY-']]]['ma_email'].unique()\n",
    "    emails = [email for email in emails if 'test' not in email]\n",
    "    dict_col = []\n",
    "    keys = re.findall('{{(.+)}}', docx2txt.process(template))\n",
    "    keys.append('q1videoaudiourls')\n",
    "    result = []\n",
    "    items = []\n",
    "    folder_dict = {1: folder_id_1, 2: folder_id_2}\n",
    "    tables = {1: [], 2: [], 3: [], 'final': []}\n",
    "    echelons = {1: [], 2: []}\n",
    "    k = 0\n",
    "    \n",
    "    dict_col_labels = {'k': '№', 'name_2': 'Фамилия', 'name': 'Имя', 'name_3': 'Отчество', 'email': 'Почта', 'phone': 'Телефон'}\n",
    "    col_labels = dict_col_labels.keys()    \n",
    "    if values['add_id_1'] and values['add_id_2']:\n",
    "        values['key'] = 2\n",
    "        dict_col_labels.update({'univer_2': 'Факультет', 'univer': 'Курс'})\n",
    "        keys += ['univer_2', 'univer']\n",
    "    elif values['add_id_1']:\n",
    "        values['key'] = 1\n",
    "        values['add_id'], values['ban_id'] = 'Факультет', 'univer'\n",
    "        dict_col_labels.update({'univer_2': 'Факультет'})\n",
    "        keys += ['univer_2']\n",
    "    elif values['add_id_2']:\n",
    "        values['key'] = 1\n",
    "        values['add_id'], values['ban_id'] = 'Курс', 'univer_2'\n",
    "        dict_col_labels.update({'univer': 'Курс'})\n",
    "        keys += ['univer']\n",
    "    else:\n",
    "        values['key'] = 0\n",
    "        \n",
    "    try:\n",
    "        doc_conclusion = docx.Document(values['conclusion'])\n",
    "        fullText = []\n",
    "        for para in doc_conclusion.paragraphs:\n",
    "            fullText.append(para.text)\n",
    "        if 'Пример общего заключения асессора:' in fullText:\n",
    "            fullText = fullText[:fullText.index('Пример общего заключения асессора:')]\n",
    "        values['conclusion'] = fullText[1:]\n",
    "    except:\n",
    "        values['conclusion'] = ''\n",
    "            \n",
    "    #doc = DocxTemplate(\"Ввод/Практикум_шаблон {}.docx\".format(values['key']))\n",
    "    doc = DocxTemplate(\"Ввод/Практикум_шаблон_экстренный.docx \")\n",
    "    for key in list(values.keys()):\n",
    "        if isinstance(key, str) and isinstance(values[key], str):\n",
    "            key_new = key.replace(\" \", \"_\")\n",
    "            values[key] = values[key].replace(\"Нет\", \"\")\n",
    "            values[key_new] = values.pop(key)\n",
    "    for email in emails[:]:\n",
    "        count = 0\n",
    "        context = {}\n",
    "        for df in dfs:\n",
    "            mail = email_col(df)\n",
    "            df[mail] = df[mail].str.lower().str.replace(' ', '')\n",
    "            for key in set(df.columns.to_list()).intersection(keys):\n",
    "                try:\n",
    "                    context[key] = max(df[df[mail] == email][key], key=len)\n",
    "                    if key in ['score_test', 'time']:\n",
    "                        context[key] = df[df[mail] == email].groupby([mail])[key].apply('  \\n  '.join)[0]\n",
    "                    elif key == 'q1videoaudiourls':\n",
    "                        count += 1\n",
    "                        context['q' + str(count)] = max(df[df[mail] == email][key], key=len)\n",
    "                    elif key == 'question':\n",
    "                        context[key] = df[df[mail] == email].groupby([mail])[key].apply('    \\n    '.join)[0]\n",
    "                except:\n",
    "                    pass\n",
    "        try:\n",
    "            last, name, patronymic = context['name'].split()\n",
    "        except:\n",
    "            pass\n",
    "        context['name'] = max(df0[df0['ma_email'] == email]['name'], key=len)\n",
    "        context['name_2'] = max(df0[df0['ma_email'] == email]['name_2'], key=len)\n",
    "        context['name_3'] = max(df0[df0['ma_email'] == email]['name_3'], key=len)\n",
    "        name = context['name_2'] + ' ' + context['name'] + ' ' + context['name_3']\n",
    "        context['name'] = name\n",
    "        context['email'] = email\n",
    "        context['city'] = re.findall('ship-(.+)/test', max(df0[df0['ma_email'] == email]['referer'], key=len))[0]\n",
    "        context['novel_score'], context['novel_translated'], context['novel_last'], context['novel_branch'], novel_numbers = novella_insert(email, data, rules)\n",
    "        cases_pizza_numbers = score_cases_pizza(context)\n",
    "\n",
    "        k += 1\n",
    "\n",
    "        context['score'], context['cases_score'] = primary_point(context)\n",
    "        context.update({key: 'пропуск' for key in keys if key not in context or context[key] == ''})\n",
    "        context, echelon = context_check(context)\n",
    "        if values['key'] == 1:\n",
    "            context['add_id'] = values['add_id']\n",
    "            context[values['ban_id']] = ''\n",
    "            \n",
    "        if echelon != 3:\n",
    "            doc_disk = DocxTemplate(\"Ввод/Практикум_шаблон_диск {}.docx\".format(values['key']))\n",
    "            try:\n",
    "                novel_pizza = web(doc, novel_numbers+cases_pizza_numbers, k)\n",
    "                novel_pizza_disc = web(doc_disk, novel_numbers+cases_pizza_numbers, k)\n",
    "            except:\n",
    "                novel_pizza = web(doc, cases_pizza_numbers, k)\n",
    "                novel_pizza_disc = web(doc_disk, cases_pizza_numbers, k)\n",
    "\n",
    "            if echelon in echelons.keys():\n",
    "                context['novel_pizza'] = novel_pizza_disc\n",
    "                doc_disk.render({'item': context})\n",
    "                doc_disk.save('Вывод/'+name+'.docx')\n",
    "                link = drive_file_create(name, folder_dict[echelon], 'Вывод/'+name+'.docx')\n",
    "                context['link'] = link\n",
    "                context['novel_pizza'] = novel_pizza\n",
    "                echelons[echelon].append(context)\n",
    "        \n",
    "        context['k'] = k\n",
    "        item = [context[col] if col in context.keys() else '-' for col in col_labels]\n",
    "        tables[echelon].append(item)\n",
    "        tables['final'].append(item)\n",
    "        window['progress_bar'].update(round(100*k/len(emails)))\n",
    "        #\n",
    "        print(context['name'], echelon)\n",
    "        #\n",
    "        \n",
    "    values['col_labels'] = dict_col_labels.values()\n",
    "    values['table_1'], values['table_2'], values['table_3'], values['table_final'] = tables.values()\n",
    "    values['echelon_1'], values['echelon_2'] = echelons.values()\n",
    "    values['total_count'] = len(emails)\n",
    "\n",
    "    doc.render(values)\n",
    "    doc.save(\"ОтчетПрактикум_{}.docx\".format(datetime.datetime.now().strftime(\"%Y-%m-%d_%H-%M\")))\n",
    "\n",
    "    for file_name in os.listdir():\n",
    "        if file_name.startswith('web'):\n",
    "            os.remove(file_name)\n",
    "\n",
    "    #send()\n",
    "    print(\"Заполнение анкет: %s секунд\" % round(time.time() - middle_time))"
   ]
  },
  {
   "cell_type": "markdown",
   "metadata": {
    "id": "mNDE5a-nTER2"
   },
   "source": [
    "### Пользовательский интерфейс (Запуск Анкеты)"
   ]
  },
  {
   "cell_type": "code",
   "execution_count": 2,
   "metadata": {
    "id": "pPpsgNcKTER2",
    "outputId": "c74798f9-4f9c-4dbb-858f-48a8288a488e"
   },
   "outputs": [
    {
     "ename": "NameError",
     "evalue": "name 'pd' is not defined",
     "output_type": "error",
     "traceback": [
      "\u001b[1;31m---------------------------------------------------------------------------\u001b[0m",
      "\u001b[1;31mNameError\u001b[0m                                 Traceback (most recent call last)",
      "Input \u001b[1;32mIn [2]\u001b[0m, in \u001b[0;36m<module>\u001b[1;34m\u001b[0m\n\u001b[1;32m----> 1\u001b[0m \u001b[43mpd\u001b[49m\u001b[38;5;241m.\u001b[39moptions\u001b[38;5;241m.\u001b[39mmode\u001b[38;5;241m.\u001b[39mchained_assignment \u001b[38;5;241m=\u001b[39m \u001b[38;5;28;01mNone\u001b[39;00m\n\u001b[0;32m      2\u001b[0m mpltl\u001b[38;5;241m.\u001b[39mrcParams\u001b[38;5;241m.\u001b[39mupdate({\u001b[38;5;124m'\u001b[39m\u001b[38;5;124mfigure.max_open_warning\u001b[39m\u001b[38;5;124m'\u001b[39m: \u001b[38;5;241m0\u001b[39m})\n\u001b[0;32m      4\u001b[0m root_id \u001b[38;5;241m=\u001b[39m drive\u001b[38;5;241m.\u001b[39mListFile({\u001b[38;5;124m'\u001b[39m\u001b[38;5;124mq\u001b[39m\u001b[38;5;124m'\u001b[39m: \u001b[38;5;124m\"\u001b[39m\u001b[38;5;124mtitle = \u001b[39m\u001b[38;5;124m'\u001b[39m\u001b[38;5;124mПродукты\u001b[39m\u001b[38;5;124m'\u001b[39m\u001b[38;5;124m\"\u001b[39m})\u001b[38;5;241m.\u001b[39mGetList()[\u001b[38;5;241m0\u001b[39m][\u001b[38;5;124m'\u001b[39m\u001b[38;5;124mid\u001b[39m\u001b[38;5;124m'\u001b[39m]\n",
      "\u001b[1;31mNameError\u001b[0m: name 'pd' is not defined"
     ]
    }
   ],
   "source": [
    "pd.options.mode.chained_assignment = None\n",
    "mpltl.rcParams.update({'figure.max_open_warning': 0})\n",
    "\n",
    "root_id = drive.ListFile({'q': \"title = 'Продукты'\"}).GetList()[0]['id']\n",
    "folder_root_id = drive.ListFile({'q': \"title = 'Отчеты' and '%s' in parents\" % root_id}).GetList()[0]['id']\n",
    "dict_key = {re.findall('ship-(.+)/test', x)[0]: x for x in list(set(df0['referer'].values)) if 'ship' in x}\n",
    "\n",
    "sg.theme('Reddit')\n",
    "window = make_window()\n",
    "while True:\n",
    "    event, values = window.read()\n",
    "    #window['-KEY-'].update(values=sorted(dict_key.keys()))\n",
    "    if event in (None, 'Exit', 'Выйти'):\n",
    "        break\n",
    "    if event == 'Запустить' and values['-KEY-'] != '':\n",
    "        main(window, values)\n",
    "window.close()"
   ]
  },
  {
   "cell_type": "code",
   "execution_count": null,
   "metadata": {
    "id": "vmW1SqPYTER2"
   },
   "outputs": [],
   "source": []
  }
 ],
 "metadata": {
  "colab": {
   "name": "Суперотчет v0.7 [17.05.22].ipynb",
   "provenance": []
  },
  "kernelspec": {
   "display_name": "Python 3 (ipykernel)",
   "language": "python",
   "name": "python3"
  },
  "language_info": {
   "codemirror_mode": {
    "name": "ipython",
    "version": 3
   },
   "file_extension": ".py",
   "mimetype": "text/x-python",
   "name": "python",
   "nbconvert_exporter": "python",
   "pygments_lexer": "ipython3",
   "version": "3.9.10"
  }
 },
 "nbformat": 4,
 "nbformat_minor": 1
}
