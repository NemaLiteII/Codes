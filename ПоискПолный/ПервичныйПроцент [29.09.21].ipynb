{
 "cells": [
  {
   "cell_type": "markdown",
   "metadata": {},
   "source": [
    "# Анкета 2.0\n",
    "### Библиотеки"
   ]
  },
  {
   "cell_type": "code",
   "execution_count": 1,
   "metadata": {},
   "outputs": [],
   "source": [
    "from docxtpl import DocxTemplate, InlineImage\n",
    "from docx.enum.dml import MSO_THEME_COLOR_INDEX\n",
    "from docx.shared import Cm\n",
    "import numpy as np\n",
    "import pandas as pd \n",
    "from math import pi\n",
    "from pydrive.auth import GoogleAuth\n",
    "from pydrive.drive import GoogleDrive\n",
    "import requests\n",
    "import re\n",
    "from string import ascii_letters\n",
    "import ast\n",
    "import docx2txt\n",
    "import json\n",
    "import docx\n",
    "import os\n",
    "import time\n",
    "import datetime\n",
    "import PySimpleGUI as sg\n",
    "from string import punctuation\n",
    "from pymystem3 import Mystem\n",
    "from stop_words import get_stop_words\n",
    "from matplotlib.patches import Circle, RegularPolygon\n",
    "from matplotlib.path import Path\n",
    "from matplotlib.projections.polar import PolarAxes\n",
    "from matplotlib.projections import register_projection\n",
    "from matplotlib.spines import Spine\n",
    "from matplotlib.transforms import Affine2D\n",
    "from matplotlib.ticker import FixedLocator\n",
    "import matplotlib.pyplot as plt\n",
    "import requests\n",
    "from pandas.io.json import dumps\n",
    "from tqdm import tqdm\n",
    "import datetime"
   ]
  },
  {
   "cell_type": "markdown",
   "metadata": {},
   "source": [
    "### Диск"
   ]
  },
  {
   "cell_type": "code",
   "execution_count": 2,
   "metadata": {},
   "outputs": [
    {
     "name": "stdout",
     "output_type": "stream",
     "text": [
      "Your browser has been opened to visit:\n",
      "\n",
      "    https://accounts.google.com/o/oauth2/auth?client_id=922428539074-3lcp6a62nd735nvdh38lj548n223snd0.apps.googleusercontent.com&redirect_uri=http%3A%2F%2Flocalhost%3A8080%2F&scope=https%3A%2F%2Fwww.googleapis.com%2Fauth%2Fdrive&access_type=offline&response_type=code\n",
      "\n",
      "Authentication successful.\n"
     ]
    }
   ],
   "source": [
    "gauth = GoogleAuth()\n",
    "gauth.LocalWebserverAuth()\n",
    "drive = GoogleDrive(gauth)"
   ]
  },
  {
   "cell_type": "markdown",
   "metadata": {},
   "source": [
    "### ID папки с таблицами и видеовопросами"
   ]
  },
  {
   "cell_type": "code",
   "execution_count": 3,
   "metadata": {},
   "outputs": [],
   "source": [
    "tables_root_id = drive.ListFile({'q': \"title = 'Таблицы -> Анкеты'\"}).GetList()[0]['id']\n",
    "videoquest_folder_names = ['Вопрос от Ивана Федосеева', 'Вопрос от Ольги Орловой', 'Вопрос от Катерины Ходуновой', 'Вопрос от Олега Лысака']\n",
    "videoquest_root_ids = [drive.ListFile({'q': \"title = '{}'\".format(name)}).GetList()[0]['id'] for name in videoquest_folder_names]"
   ]
  },
  {
   "cell_type": "markdown",
   "metadata": {},
   "source": [
    "### Все таблицы с данными"
   ]
  },
  {
   "cell_type": "code",
   "execution_count": 4,
   "metadata": {},
   "outputs": [
    {
     "name": "stdout",
     "output_type": "stream",
     "text": [
      "Шаблон отчета v.4.0a.docx\n",
      "photo_default.png\n"
     ]
    },
    {
     "data": {
      "text/plain": [
       "['Game.xlsx',\n",
       " 'Knowledge.xlsx',\n",
       " 'Nice2MeetYou.xlsx',\n",
       " 'QuestionsFromStudents.xlsx',\n",
       " 'Cases.xlsx',\n",
       " 'Тестирование. 21 вопрос.xlsx',\n",
       " 'TestOpinion.xlsx',\n",
       " 'Вопрос+от+Ивана+Федосеева.xlsx',\n",
       " 'Вопрос+от+Ольги+Орловой.xlsx',\n",
       " 'Вопрос+от+Катерины+Ходуновой.xlsx',\n",
       " 'Вопрос+от+Олега+Лысака.xlsx']"
      ]
     },
     "execution_count": 4,
     "metadata": {},
     "output_type": "execute_result"
    }
   ],
   "source": [
    "tables = []\n",
    "file_list = drive.ListFile({'q': \" '%s' in parents and trashed = FALSE\" % tables_root_id}).GetList()\n",
    "for file in file_list:\n",
    "    if file['title'] == 'Шаблон отчета v.4.0a.docx':\n",
    "    #if file['title'] == 'Шаблон отчета v.4.0.docx':\n",
    "        print(file['title'])\n",
    "        file.GetContentFile(file['title'])\n",
    "        template = file['title']\n",
    "    if file['mimeType'] == 'image/png':\n",
    "        print(file['title'])\n",
    "        file.GetContentFile(file['title'])\n",
    "        photo_default = file['title']\n",
    "    if file['mimeType'] == 'application/vnd.google-apps.spreadsheet':\n",
    "        file.GetContentFile(file['title'] + '.xlsx', mimetype = 'application/vnd.openxmlformats-officedocument.spreadsheetml.sheet')\n",
    "        tables.append(file['title'] + '.xlsx')\n",
    "    if file['mimeType'] == 'application/vnd.openxmlformats-officedocument.spreadsheetml.sheet':\n",
    "        file.GetContentFile(file['title'])\n",
    "        tables.append(file['title'])\n",
    "    if file['mimeType'] == 'text/csv':\n",
    "        file.GetContentFile(file['title'])\n",
    "        tables.append(file['title'])\n",
    "for file_id in videoquest_root_ids:\n",
    "    file = drive.ListFile({'q': \" '%s' in parents and trashed = FALSE\" % file_id}).GetList()[0]\n",
    "    file.GetContentFile(file['title'])\n",
    "    tables.append(file['title'])\n",
    "tables"
   ]
  },
  {
   "cell_type": "markdown",
   "metadata": {},
   "source": [
    "### Таблицы к DataFrame"
   ]
  },
  {
   "cell_type": "code",
   "execution_count": 5,
   "metadata": {},
   "outputs": [],
   "source": [
    "dfs = []\n",
    "for table in tables:\n",
    "    df = pd.read_excel(table, dtype = str, keep_default_na = False)\n",
    "    if 'Потрачено времени' in df.columns:\n",
    "        df = df.iloc[1:]\n",
    "        df['Процент правильных ответов (%)'] = df['Процент правильных ответов (%)'].str.replace(',','.').apply(float).round().apply(int).apply(str)\n",
    "        df.rename(columns = {'Потрачено времени': 'time', 'Процент правильных ответов (%)': 'score_test'}, inplace = True)\n",
    "    df.columns = [col.replace(' ', '').replace('/', '').replace('.', '').lower() for col in df.columns]\n",
    "    dfs.append(df)"
   ]
  },
  {
   "cell_type": "markdown",
   "metadata": {},
   "source": [
    "### Получение имен, городов"
   ]
  },
  {
   "cell_type": "code",
   "execution_count": 6,
   "metadata": {},
   "outputs": [
    {
     "data": {
      "text/plain": [
       "array(['bgdshv.a@gmail.com', 'elashkina.anna@gmail.com',\n",
       "       'fedoseev.is@enrubattery.ru', ..., 'nitroman779@gmail.com',\n",
       "       'aurikus1324@gmail.com', 'ilya519697@gmail.com'], dtype=object)"
      ]
     },
     "execution_count": 6,
     "metadata": {},
     "output_type": "execute_result"
    }
   ],
   "source": [
    "index_table = [tab for tab in tables if tab.startswith('Nice')][0]\n",
    "df0 = pd.read_excel(index_table, dtype = str, keep_default_na = False)\n",
    "df0['gorodprojivaniya'].replace('/', ';', regex=True, inplace=True)\n",
    "df0['ma_email'] = df0['ma_email'].str.lower()\n",
    "emails = df0['ma_email'][:].unique()\n",
    "emails"
   ]
  },
  {
   "cell_type": "markdown",
   "metadata": {},
   "source": [
    "### Колонка почты"
   ]
  },
  {
   "cell_type": "code",
   "execution_count": 7,
   "metadata": {},
   "outputs": [],
   "source": [
    "def email_col(df):\n",
    "    return max([col for col in df.columns if 'mail' in col], key=len)"
   ]
  },
  {
   "cell_type": "markdown",
   "metadata": {},
   "source": [
    "## Первичный балл"
   ]
  },
  {
   "cell_type": "markdown",
   "metadata": {},
   "source": [
    "### Словарь баллов"
   ]
  },
  {
   "cell_type": "code",
   "execution_count": 8,
   "metadata": {},
   "outputs": [],
   "source": [
    "primary_keys_dict = {'chtoudivilo': 1, 'chtorazozlilo': 1, 'chtoudivilomaterials': 4, 'chtorazozlilomaterials': 4,\n",
    "                                'vopros1': 1, 'vopros2': 1, 'vopros3': 1, 'question': 1,\n",
    "                                'q1videoaudiourls': 2, 'q2videoaudiourls': 2, 'q3videoaudiourls': 2, 'q4videoaudiourls': 2}\n",
    "primary_cases_list = ['case1', 'case2', 'case3', 'case4']"
   ]
  },
  {
   "cell_type": "markdown",
   "metadata": {},
   "source": [
    "### Токенизация"
   ]
  },
  {
   "cell_type": "code",
   "execution_count": 9,
   "metadata": {},
   "outputs": [],
   "source": [
    "# Lemmatizer and stopwords\n",
    "mystem = Mystem() \n",
    "stop_words = set(get_stop_words('russian'))\n",
    "\n",
    "# Preprocess function\n",
    "def preprocess_text(text):\n",
    "    tokens = mystem.lemmatize(re.sub(r'\\d+', '', text.lower()))\n",
    "    tokens = [token for token in tokens if token not in stop_words\n",
    "              and token != \" \"\n",
    "              and token.strip() not in punctuation]\n",
    "    \n",
    "    return list(dict.fromkeys(tokens))\n",
    "\n",
    "def case_counter(text, case):\n",
    "    tokens = preprocess_text(text)\n",
    "    \n",
    "    return sum(word in dict_cases[case] for word in tokens)"
   ]
  },
  {
   "cell_type": "markdown",
   "metadata": {},
   "source": [
    "### Словари кейсов"
   ]
  },
  {
   "cell_type": "code",
   "execution_count": 10,
   "metadata": {},
   "outputs": [],
   "source": [
    "dict_cases = {\n",
    "    'case1': \"представлять предприниматель компания заниматься разработка высокоточный станок производство пробный партия необходимо купить специальный клей исследовать возможный предложение интернет понимать поставка организовывать германия необходимый количество стоять евро самостоятельно приходиться сделать следующий заплатить закупка доставка налог пошлина потратить рабочий оформление документ ждать счастие инженер отец жить близкий собираться навещать сын заказывать домой привозить багаж неделя действовать официальный воспользоваться удачный стечение обстоятельство написать цепочка рассуждение подробно аргументировать ответ\".split(' '),\n",
    "    'case2': \"представлять коммерческий директор компания разработка отопительный котел новый поколение месяц выпускать прототип показывать заказчик огромный строительный фирма оставаться довольный сделать следующий предложение готовый купить экземпляр пробный запускать достраивать здание проба продлиться оказываться годный сразу партия знать рынок конкурент каков особенность продукция данный момент участвовать испытание соглашаться отдавать начинать оформлять тз производство штука контрактный главный разработчик сообщать находить решение повышать производительность переделывать опытный образец конструкторский бюро проверять тестовый стенд число поменять короб помещаться отправлять устаревать конструкция инженер говорить срочно предлагать вернуть тестирование утверждать  % ,  вариант причина выбирать стоять вопрос обращаться прерывать середина путь технический характеристика продукт рискнуть потратить деньги подготовка документация улучшать точно скоро хороший примета складываться ситуация написать цепочка рассуждение подробно аргументировать ответ\".split(' '),\n",
    "    'case3': \"представлять молодой предприниматель открывать небольшой стартап партнерство одногруппник разрабатывать крутой приложение смартфон уверять взлетать пользоваться огромный спрос очередной этап разработка понимать свой деньги хватать нужный инвестиция нанимать дополнительный разработчик дизайнер тестировщик покупать лицензия облако место надежный сервер посчитать близкий находить млн рубль неделя поиск приходить кредитный предложение банк предлагать вполне сносный условие взять льготный годовой получать перевод завтра отвечать венчурный фонд mobileventures согласный проинвестировать транш входить доля ждать результат месяц возможный следующий раунд переговоры партнер встречаться двоюродный дядя рассказывать идея понравиться склон скопить приличный сумма заниматься поставка продукт питание из-за рубеж готовый вкладывать единственный поставлять держать курс дело принятие решение интересно следить строиться новый технология поступать источник вообще написать цепочка рассуждение подробно аргументировать ответ\".split(' '),\n",
    "    'case4': \"представлять начальник департамент инновация крупный корпорация подобный ibm усиливать инновационность деятельность собственно продукт достаточно большой бюджет поставлять амбициозный задача ряд проектный сессия вариант деньги выделять хватить начинать инвестировать самостоятельно фонд молодой стартапа нужный направление ожидать выходить улучшать повышать эффективность работа самый инвестиция предполагать получение доля компания должный возвращать последствие либо полностью выкупать процент успешность оценивать предлагать сотрудник сумма экономия приносить идея обязывать гарантировать рассмотрение поступать обоснованный ответ случай отказ принимать  –  таков корпоративный этика решение совещание совет директор\".split(' ')\n",
    "    }"
   ]
  },
  {
   "cell_type": "markdown",
   "metadata": {},
   "source": [
    "### Словари новеллы"
   ]
  },
  {
   "cell_type": "code",
   "execution_count": 11,
   "metadata": {},
   "outputs": [],
   "source": [
    "q_scored = ['q23', 'q50', 'q34', 'q41', 'q48', 'q62', 'q70']\n",
    "q_translated = ['q10', 'q18', 'q33', 'q40', 'q45', 'q48', 'q59', 'q60', 'q61', 'q70']"
   ]
  },
  {
   "cell_type": "markdown",
   "metadata": {},
   "source": [
    "### ID папки с новеллой"
   ]
  },
  {
   "cell_type": "code",
   "execution_count": 12,
   "metadata": {},
   "outputs": [],
   "source": [
    "novella_root_id = drive.ListFile({'q': \"title = 'НовеллаБД'\"}).GetList()[0]['id']"
   ]
  },
  {
   "cell_type": "markdown",
   "metadata": {},
   "source": [
    "### Загружаем данные о новелле"
   ]
  },
  {
   "cell_type": "code",
   "execution_count": 13,
   "metadata": {},
   "outputs": [],
   "source": [
    "file_list = drive.ListFile({'q': \" '%s' in parents and trashed = FALSE\" % novella_root_id}).GetList()\n",
    "for file in file_list:\n",
    "    if file['mimeType'] == 'application/vnd.openxmlformats-officedocument.spreadsheetml.sheet':\n",
    "        file.GetContentFile(file['title'])\n",
    "        rules = pd.read_excel(file['title'])\n",
    "    if file['mimeType'] == 'text/csv':\n",
    "        file.GetContentFile(file['title'])\n",
    "        data = pd.read_csv(file['title'], sep = \";\", encoding=\"windows-1251\", quotechar = '\"')"
   ]
  },
  {
   "cell_type": "markdown",
   "metadata": {},
   "source": [
    "### Добавляем данные о новелле"
   ]
  },
  {
   "cell_type": "code",
   "execution_count": 14,
   "metadata": {},
   "outputs": [],
   "source": [
    "def novella_insert(email, data, rules):\n",
    "    if data[data['email'] == email]['history_new'].to_list() != []:\n",
    "        h_str = data[data['email'] == email]['history_new'].to_list()[0]\n",
    "        h_json = json.loads(h_str)\n",
    "        h_list = [rec for rec in h_json.values() if rec != {}]\n",
    "        if h_list == []:\n",
    "            return(0)\n",
    "        h_record = max(h_list, key=max)\n",
    "        novella_score = len(set(h_record.keys()).intersection(q_scored)) * 5\n",
    "        return(novella_score)\n",
    "    else:\n",
    "        return(0)"
   ]
  },
  {
   "cell_type": "markdown",
   "metadata": {},
   "source": [
    "### Подсчет баллов"
   ]
  },
  {
   "cell_type": "code",
   "execution_count": 15,
   "metadata": {},
   "outputs": [],
   "source": [
    "def primary_point(context):\n",
    "    if 'score' in context:\n",
    "        pts = 0.4 * max([int(num) for num in context['score'].split()])\n",
    "    else:\n",
    "        pts = 0\n",
    "    for key, value in primary_keys_dict.items():\n",
    "        if key in context.keys() and len(context[key]) > 10:\n",
    "            pts += value\n",
    "    for key in primary_cases_list:\n",
    "        if key in context.keys():\n",
    "            if len(context[key]) >= 50:\n",
    "                pts += 1\n",
    "            if len(context[key]) >= 300:\n",
    "                pts += 1\n",
    "            counter = case_counter(context[key], key)\n",
    "            if counter >= 4:\n",
    "                pts += 1\n",
    "            if counter >= 6:\n",
    "                pts += 1\n",
    "            if counter >= 8:\n",
    "                pts += 1\n",
    "    if context['novel_score'] != '-':\n",
    "        pts += context['novel_score']\n",
    "            \n",
    "    return round(pts)"
   ]
  },
  {
   "cell_type": "markdown",
   "metadata": {},
   "source": [
    "## Вывод"
   ]
  },
  {
   "cell_type": "code",
   "execution_count": 16,
   "metadata": {},
   "outputs": [
    {
     "data": {
      "text/plain": [
       "1924"
      ]
     },
     "execution_count": 16,
     "metadata": {},
     "output_type": "execute_result"
    }
   ],
   "source": [
    "emails_out = emails[:]\n",
    "len(emails)"
   ]
  },
  {
   "cell_type": "code",
   "execution_count": 17,
   "metadata": {},
   "outputs": [],
   "source": [
    "start_time = time.time()"
   ]
  },
  {
   "cell_type": "markdown",
   "metadata": {},
   "source": [
    "### Общий поиск и запись анкет"
   ]
  },
  {
   "cell_type": "code",
   "execution_count": 18,
   "metadata": {
    "scrolled": true
   },
   "outputs": [
    {
     "name": "stderr",
     "output_type": "stream",
     "text": [
      "100%|████████████████████████████████████| 1924/1924 [1:02:28<00:00,  1.95s/it]"
     ]
    },
    {
     "name": "stdout",
     "output_type": "stream",
     "text": [
      "Время работы: 3749 секунд\n",
      "Длина таблицы: 1924\n",
      "Последнее обновление: 2021.10.01_12:57\n"
     ]
    },
    {
     "name": "stderr",
     "output_type": "stream",
     "text": [
      "\n"
     ]
    }
   ],
   "source": [
    "keys = re.findall('{{(.+)}}', docx2txt.process(template))\n",
    "keys.append('q1videoaudiourls')\n",
    "result = []\n",
    "progress = 0\n",
    "url = 'https://10education.ru/CompleteSearch/update_pp.php'\n",
    "\n",
    "for email in tqdm(emails_out):\n",
    "    count = 0\n",
    "    doc = DocxTemplate(template)\n",
    "    context = {}\n",
    "    for df in dfs:\n",
    "        mail = email_col(df)\n",
    "        df[mail] = df[mail].str.lower().str.replace(' ', '')\n",
    "        for key in set(df.columns.to_list()).intersection(keys):\n",
    "            try:\n",
    "                context[key] = max(df[df[mail] == email][key], key=len)\n",
    "                if key in ['score_test', 'time']:\n",
    "                    context[key] = df[df[mail] == email].groupby([mail])[key].apply('  \\n  '.join)[0]\n",
    "                elif key == 'q1videoaudiourls':\n",
    "                    count += 1\n",
    "                    context['q' + str(count)] = max(df[df[mail] == email][key], key=len)\n",
    "            except:\n",
    "                pass\n",
    "    try:\n",
    "        last, name, patronymic = context['name'].split()\n",
    "    except:\n",
    "        pass\n",
    "    context['name'] = max(df0[df0['ma_email'] == email]['name'], key=len)\n",
    "    context['email'] = email\n",
    "    context['novel_score'] = novella_insert(email, data, rules)\n",
    "    context['score'] = primary_point(context)\n",
    "    context = {'Имя': context['name'], 'Первичный П': context['score']}\n",
    "    requests.post(url, data = dumps(context))\n",
    "    \n",
    "print(\"Время работы: %s секунд\" % round(time.time() - start_time))\n",
    "print(\"Длина таблицы: {}\".format(len(emails)))\n",
    "print('Последнее обновление: {}'.format(datetime.datetime.now().strftime(\"%Y.%m.%d_%H:%M\")))"
   ]
  },
  {
   "cell_type": "code",
   "execution_count": null,
   "metadata": {},
   "outputs": [],
   "source": []
  }
 ],
 "metadata": {
  "kernelspec": {
   "display_name": "Python 3",
   "language": "python",
   "name": "python3"
  },
  "language_info": {
   "codemirror_mode": {
    "name": "ipython",
    "version": 3
   },
   "file_extension": ".py",
   "mimetype": "text/x-python",
   "name": "python",
   "nbconvert_exporter": "python",
   "pygments_lexer": "ipython3",
   "version": "3.7.4"
  }
 },
 "nbformat": 4,
 "nbformat_minor": 2
}
